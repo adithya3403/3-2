{
 "cells": [
  {
   "cell_type": "code",
   "execution_count": 23,
   "metadata": {},
   "outputs": [
    {
     "data": {
      "text/plain": [
       "'2.11.0'"
      ]
     },
     "execution_count": 23,
     "metadata": {},
     "output_type": "execute_result"
    }
   ],
   "source": [
    "import tensorflow as tf\n",
    "tf.__version__"
   ]
  },
  {
   "attachments": {},
   "cell_type": "markdown",
   "metadata": {},
   "source": [
    "# 6.4 Activation functions"
   ]
  },
  {
   "attachments": {},
   "cell_type": "markdown",
   "metadata": {},
   "source": [
    "## 6.4.1 Sigmoid\n",
    "\n",
    "$$\n",
    "sigmoid(x)=\\frac{1}{1+e^{-x}}\\\\\n",
    "$$"
   ]
  },
  {
   "cell_type": "code",
   "execution_count": 24,
   "metadata": {},
   "outputs": [
    {
     "data": {
      "text/plain": [
       "<tf.Tensor: shape=(10,), dtype=float32, numpy=\n",
       "array([-6.       , -4.6666665, -3.3333333, -2.       , -0.6666665,\n",
       "        0.666667 ,  2.       ,  3.333334 ,  4.666667 ,  6.       ],\n",
       "      dtype=float32)>"
      ]
     },
     "execution_count": 24,
     "metadata": {},
     "output_type": "execute_result"
    }
   ],
   "source": [
    "x = tf.linspace(-6.,6.,10)\n",
    "x"
   ]
  },
  {
   "cell_type": "code",
   "execution_count": 25,
   "metadata": {},
   "outputs": [
    {
     "data": {
      "text/plain": [
       "<tf.Tensor: shape=(10,), dtype=float32, numpy=\n",
       "array([0.00247262, 0.00931596, 0.0344452 , 0.11920292, 0.33924365,\n",
       "       0.6607564 , 0.8807971 , 0.96555483, 0.99068403, 0.99752736],\n",
       "      dtype=float32)>"
      ]
     },
     "execution_count": 25,
     "metadata": {},
     "output_type": "execute_result"
    }
   ],
   "source": [
    "tf.nn.sigmoid(x)"
   ]
  },
  {
   "cell_type": "code",
   "execution_count": 26,
   "metadata": {},
   "outputs": [],
   "source": [
    "import matplotlib.pyplot as plt\n",
    "import numpy as np\n",
    "x = np.linspace(-6.,6.,100)"
   ]
  },
  {
   "cell_type": "code",
   "execution_count": 27,
   "metadata": {},
   "outputs": [
    {
     "data": {
      "image/png": "[encoded data removed]",
      "text/plain": [
       "<Figure size 200x200 with 1 Axes>"
      ]
     },
     "metadata": {},
     "output_type": "display_data"
    }
   ],
   "source": [
    "y = 1/(1+np.exp(-x))\n",
    "plt.figure(figsize=(2,2))\n",
    "plt.plot(x,y)\n",
    "plt.show()"
   ]
  },
  {
   "attachments": {},
   "cell_type": "markdown",
   "metadata": {},
   "source": [
    "## 6.4.2 Relu\n",
    "\n",
    "$$\n",
    "relu(x) = max(0, x)\n",
    "$$"
   ]
  },
  {
   "cell_type": "code",
   "execution_count": 28,
   "metadata": {},
   "outputs": [
    {
     "data": {
      "text/plain": [
       "<tf.Tensor: shape=(100,), dtype=float64, numpy=\n",
       "array([0.        , 0.        , 0.        , 0.        , 0.        ,\n",
       "       0.        , 0.        , 0.        , 0.        , 0.        ,\n",
       "       0.        , 0.        , 0.        , 0.        , 0.        ,\n",
       "       0.        , 0.        , 0.        , 0.        , 0.        ,\n",
       "       0.        , 0.        , 0.        , 0.        , 0.        ,\n",
       "       0.        , 0.        , 0.        , 0.        , 0.        ,\n",
       "       0.        , 0.        , 0.        , 0.        , 0.        ,\n",
       "       0.        , 0.        , 0.        , 0.        , 0.        ,\n",
       "       0.        , 0.        , 0.        , 0.        , 0.        ,\n",
       "       0.        , 0.        , 0.        , 0.        , 0.        ,\n",
       "       0.06060606, 0.18181818, 0.3030303 , 0.42424242, 0.54545455,\n",
       "       0.66666667, 0.78787879, 0.90909091, 1.03030303, 1.15151515,\n",
       "       1.27272727, 1.39393939, 1.51515152, 1.63636364, 1.75757576,\n",
       "       1.87878788, 2.        , 2.12121212, 2.24242424, 2.36363636,\n",
       "       2.48484848, 2.60606061, 2.72727273, 2.84848485, 2.96969697,\n",
       "       3.09090909, 3.21212121, 3.33333333, 3.45454545, 3.57575758,\n",
       "       3.6969697 , 3.81818182, 3.93939394, 4.06060606, 4.18181818,\n",
       "       4.3030303 , 4.42424242, 4.54545455, 4.66666667, 4.78787879,\n",
       "       4.90909091, 5.03030303, 5.15151515, 5.27272727, 5.39393939,\n",
       "       5.51515152, 5.63636364, 5.75757576, 5.87878788, 6.        ])>"
      ]
     },
     "execution_count": 28,
     "metadata": {},
     "output_type": "execute_result"
    }
   ],
   "source": [
    "tf.nn.relu(x)"
   ]
  },
  {
   "cell_type": "code",
   "execution_count": 29,
   "metadata": {},
   "outputs": [
    {
     "data": {
      "image/png": "[encoded data removed]",
      "text/plain": [
       "<Figure size 200x200 with 1 Axes>"
      ]
     },
     "metadata": {},
     "output_type": "display_data"
    }
   ],
   "source": [
    "y = np.maximum(x,0)\n",
    "plt.figure(figsize=(2,2))\n",
    "plt.plot(x,y)\n",
    "plt.show()"
   ]
  },
  {
   "attachments": {},
   "cell_type": "markdown",
   "metadata": {},
   "source": [
    "## 6.4.3 Leaky Relu\n",
    "\n",
    "$$\n",
    "LeakyRelu(x)=(x>0)?(x):(0.01x)\n",
    "$$"
   ]
  },
  {
   "cell_type": "code",
   "execution_count": 30,
   "metadata": {},
   "outputs": [
    {
     "data": {
      "text/plain": [
       "<tf.Tensor: shape=(100,), dtype=float64, numpy=\n",
       "array([-0.60000001, -0.5878788 , -0.57575758, -0.56363637, -0.55151516,\n",
       "       -0.53939395, -0.52727274, -0.51515152, -0.50303031, -0.4909091 ,\n",
       "       -0.47878789, -0.46666667, -0.45454546, -0.44242425, -0.43030304,\n",
       "       -0.41818182, -0.40606061, -0.3939394 , -0.38181819, -0.36969698,\n",
       "       -0.35757576, -0.34545455, -0.33333334, -0.32121213, -0.30909091,\n",
       "       -0.2969697 , -0.28484849, -0.27272728, -0.26060606, -0.24848485,\n",
       "       -0.23636364, -0.22424243, -0.21212122, -0.2       , -0.18787879,\n",
       "       -0.17575758, -0.16363637, -0.15151515, -0.13939394, -0.12727273,\n",
       "       -0.11515152, -0.1030303 , -0.09090909, -0.07878788, -0.06666667,\n",
       "       -0.05454546, -0.04242424, -0.03030303, -0.01818182, -0.00606061,\n",
       "        0.06060606,  0.18181818,  0.3030303 ,  0.42424242,  0.54545455,\n",
       "        0.66666667,  0.78787879,  0.90909091,  1.03030303,  1.15151515,\n",
       "        1.27272727,  1.39393939,  1.51515152,  1.63636364,  1.75757576,\n",
       "        1.87878788,  2.        ,  2.12121212,  2.24242424,  2.36363636,\n",
       "        2.48484848,  2.60606061,  2.72727273,  2.84848485,  2.96969697,\n",
       "        3.09090909,  3.21212121,  3.33333333,  3.45454545,  3.57575758,\n",
       "        3.6969697 ,  3.81818182,  3.93939394,  4.06060606,  4.18181818,\n",
       "        4.3030303 ,  4.42424242,  4.54545455,  4.66666667,  4.78787879,\n",
       "        4.90909091,  5.03030303,  5.15151515,  5.27272727,  5.39393939,\n",
       "        5.51515152,  5.63636364,  5.75757576,  5.87878788,  6.        ])>"
      ]
     },
     "execution_count": 30,
     "metadata": {},
     "output_type": "execute_result"
    }
   ],
   "source": [
    "tf.nn.leaky_relu(x, alpha=0.1)"
   ]
  },
  {
   "cell_type": "code",
   "execution_count": 31,
   "metadata": {},
   "outputs": [
    {
     "data": {
      "image/png": "[encoded data removed]",
      "text/plain": [
       "<Figure size 200x200 with 1 Axes>"
      ]
     },
     "metadata": {},
     "output_type": "display_data"
    }
   ],
   "source": [
    "y = np.maximum(x,0.1*x)\n",
    "plt.figure(figsize=(2,2))\n",
    "plt.plot(x,y)\n",
    "plt.show()"
   ]
  },
  {
   "attachments": {},
   "cell_type": "markdown",
   "metadata": {},
   "source": [
    "## 6.4.4 Tanh\n",
    "\n",
    "$$\n",
    "tanh(x)=\\frac{e^x-e^{-x}}{e^x+e^{-x}} \\\\\n",
    "$$"
   ]
  },
  {
   "cell_type": "code",
   "execution_count": 32,
   "metadata": {},
   "outputs": [
    {
     "data": {
      "text/plain": [
       "<tf.Tensor: shape=(100,), dtype=float64, numpy=\n",
       "array([-0.99998771, -0.99998434, -0.99998004, -0.99997457, -0.99996759,\n",
       "       -0.9999587 , -0.99994738, -0.99993294, -0.99991454, -0.9998911 ,\n",
       "       -0.99986123, -0.99982316, -0.99977465, -0.99971284, -0.99963408,\n",
       "       -0.99953372, -0.99940584, -0.9992429 , -0.99903531, -0.99877082,\n",
       "       -0.99843388, -0.99800466, -0.99745797, -0.99676173, -0.99587519,\n",
       "       -0.99474658, -0.99331021, -0.99148279, -0.98915888, -0.9862053 ,\n",
       "       -0.98245414, -0.97769438, -0.97166188, -0.96402758, -0.95438418,\n",
       "       -0.94223163, -0.92696251, -0.90784899, -0.88403458, -0.85453511,\n",
       "       -0.81825539, -0.77402985, -0.72069563, -0.6572057 , -0.58278295,\n",
       "       -0.49710574, -0.40049842, -0.2940833 , -0.17984082, -0.06053197,\n",
       "        0.06053197,  0.17984082,  0.2940833 ,  0.40049842,  0.49710574,\n",
       "        0.58278295,  0.6572057 ,  0.72069563,  0.77402985,  0.81825539,\n",
       "        0.85453511,  0.88403458,  0.90784899,  0.92696251,  0.94223163,\n",
       "        0.95438418,  0.96402758,  0.97166188,  0.97769438,  0.98245414,\n",
       "        0.9862053 ,  0.98915888,  0.99148279,  0.99331021,  0.99474658,\n",
       "        0.99587519,  0.99676173,  0.99745797,  0.99800466,  0.99843388,\n",
       "        0.99877082,  0.99903531,  0.9992429 ,  0.99940584,  0.99953372,\n",
       "        0.99963408,  0.99971284,  0.99977465,  0.99982316,  0.99986123,\n",
       "        0.9998911 ,  0.99991454,  0.99993294,  0.99994738,  0.9999587 ,\n",
       "        0.99996759,  0.99997457,  0.99998004,  0.99998434,  0.99998771])>"
      ]
     },
     "execution_count": 32,
     "metadata": {},
     "output_type": "execute_result"
    }
   ],
   "source": [
    "tf.nn.tanh(x)"
   ]
  },
  {
   "cell_type": "code",
   "execution_count": 33,
   "metadata": {},
   "outputs": [
    {
     "data": {
      "image/png": "[encoded data removed]",
      "text/plain": [
       "<Figure size 200x200 with 1 Axes>"
      ]
     },
     "metadata": {},
     "output_type": "display_data"
    }
   ],
   "source": [
    "y = (np.exp(x)-np.exp(-x))/(np.exp(x)+np.exp(-x))\n",
    "plt.figure(figsize=(2,2))\n",
    "plt.plot(x,y)\n",
    "plt.show()"
   ]
  }
 ],
 "metadata": {
  "kernelspec": {
   "display_name": "Python 3",
   "language": "python",
   "name": "python3"
  },
  "language_info": {
   "codemirror_mode": {
    "name": "ipython",
    "version": 3
   },
   "file_extension": ".py",
   "mimetype": "text/x-python",
   "name": "python",
   "nbconvert_exporter": "python",
   "pygments_lexer": "ipython3",
   "version": "3.8.0"
  },
  "orig_nbformat": 4,
  "vscode": {
   "interpreter": {
    "hash": "46a5e820fae5c01f8ab8f3b920045ce887673a37bd422c73202f4e116d9bb3c0"
   }
  }
 },
 "nbformat": 4,
 "nbformat_minor": 2
}
