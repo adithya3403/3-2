{
 "cells": [
  {
   "cell_type": "markdown",
   "metadata": {},
   "source": [
    "# 10.3 Convolutional Layer Implementation"
   ]
  },
  {
   "cell_type": "code",
   "execution_count": 1,
   "metadata": {},
   "outputs": [],
   "source": [
    "import tensorflow as tf\n",
    "from keras import layers"
   ]
  },
  {
   "cell_type": "markdown",
   "metadata": {},
   "source": [
    "## 10.3.1 Custom Weights"
   ]
  },
  {
   "cell_type": "code",
   "execution_count": 2,
   "metadata": {},
   "outputs": [
    {
     "data": {
      "text/plain": [
       "TensorShape([2, 3, 3, 4])"
      ]
     },
     "execution_count": 2,
     "metadata": {},
     "output_type": "execute_result"
    }
   ],
   "source": [
    "x = tf.random.normal([2,5,5,3])\n",
    "w = tf.random.normal([3,3,3,4])\n",
    "out = tf.nn.conv2d(x,w,strides=1,padding=[[0,0],[0,0],[0,0],[0,0]])\n",
    "out.shape"
   ]
  },
  {
   "cell_type": "code",
   "execution_count": 3,
   "metadata": {},
   "outputs": [
    {
     "data": {
      "text/plain": [
       "TensorShape([2, 5, 5, 4])"
      ]
     },
     "execution_count": 3,
     "metadata": {},
     "output_type": "execute_result"
    }
   ],
   "source": [
    "x = tf.random.normal([2,5,5,3])\n",
    "w = tf.random.normal([3,3,3,4])\n",
    "out = tf.nn.conv2d(x,w,strides=1,padding=[[0,0],[1,1],[1,1],[0,0]])\n",
    "out.shape"
   ]
  },
  {
   "cell_type": "code",
   "execution_count": 4,
   "metadata": {},
   "outputs": [
    {
     "data": {
      "text/plain": [
       "TensorShape([2, 5, 5, 4])"
      ]
     },
     "execution_count": 4,
     "metadata": {},
     "output_type": "execute_result"
    }
   ],
   "source": [
    "x = tf.random.normal([2,5,5,3])\n",
    "w = tf.random.normal([3,3,3,4])\n",
    "out = tf.nn.conv2d(x,w,strides=1,padding='SAME')\n",
    "out.shape"
   ]
  },
  {
   "cell_type": "code",
   "execution_count": 5,
   "metadata": {},
   "outputs": [
    {
     "data": {
      "text/plain": [
       "TensorShape([2, 2, 2, 4])"
      ]
     },
     "execution_count": 5,
     "metadata": {},
     "output_type": "execute_result"
    }
   ],
   "source": [
    "x = tf.random.normal([2,5,5,3])\n",
    "w = tf.random.normal([3,3,3,4])\n",
    "out = tf.nn.conv2d(x,w,strides=3,padding='SAME')\n",
    "out.shape"
   ]
  },
  {
   "cell_type": "code",
   "execution_count": 6,
   "metadata": {},
   "outputs": [],
   "source": [
    "b = tf.zeros([4])\n",
    "out = out + b"
   ]
  },
  {
   "attachments": {},
   "cell_type": "markdown",
   "metadata": {},
   "source": [
    "## 10.3.2 Convolutional Layer Classes"
   ]
  },
  {
   "cell_type": "code",
   "execution_count": 7,
   "metadata": {},
   "outputs": [
    {
     "data": {
      "text/plain": [
       "TensorShape([2, 5, 5, 4])"
      ]
     },
     "execution_count": 7,
     "metadata": {},
     "output_type": "execute_result"
    }
   ],
   "source": [
    "layer = layers.Conv2D(4, kernel_size=3, strides=1, padding='SAME')\n",
    "out = layer(x)\n",
    "out.shape"
   ]
  },
  {
   "cell_type": "code",
   "execution_count": 8,
   "metadata": {},
   "outputs": [
    {
     "data": {
      "text/plain": [
       "[<tf.Variable 'conv2d/kernel:0' shape=(3, 3, 3, 4) dtype=float32, numpy=\n",
       " array([[[[ 0.10127047, -0.24089651, -0.17098384, -0.08637197],\n",
       "          [ 0.23503736, -0.17150624, -0.17058593, -0.05116189],\n",
       "          [-0.27708852,  0.20878848,  0.1826177 , -0.13844724]],\n",
       " \n",
       "         [[-0.29060096,  0.14462659,  0.05185261,  0.11954957],\n",
       "          [-0.2668647 , -0.2788952 , -0.2754361 , -0.20728165],\n",
       "          [-0.16596694, -0.29307353, -0.03982931,  0.15856203]],\n",
       " \n",
       "         [[-0.1171937 , -0.29224747,  0.2036579 , -0.28714898],\n",
       "          [-0.06277043, -0.13950779,  0.22408822,  0.14422485],\n",
       "          [ 0.19942299,  0.23731336,  0.07110977, -0.05605435]]],\n",
       " \n",
       " \n",
       "        [[[-0.01986498,  0.26502237, -0.30811426, -0.22769663],\n",
       "          [ 0.10812843,  0.12035069, -0.0739022 , -0.28955314],\n",
       "          [-0.2365394 ,  0.11702028,  0.20438394, -0.00830632]],\n",
       " \n",
       "         [[ 0.11446831,  0.27944234,  0.16434279,  0.02804357],\n",
       "          [ 0.11806715,  0.15070859,  0.20907047, -0.02688062],\n",
       "          [ 0.21860197, -0.00501168,  0.30095503,  0.11047173]],\n",
       " \n",
       "         [[ 0.031526  , -0.09043169, -0.13237636,  0.05104128],\n",
       "          [ 0.0285266 , -0.23493886,  0.2090942 , -0.2666291 ],\n",
       "          [ 0.13401243, -0.04196113,  0.07397947,  0.14776549]]],\n",
       " \n",
       " \n",
       "        [[[-0.13728876,  0.17335907, -0.22659737, -0.01186219],\n",
       "          [-0.22122732,  0.29965916, -0.17638494, -0.05810523],\n",
       "          [ 0.22059229,  0.01210439, -0.29096803,  0.06399313]],\n",
       " \n",
       "         [[-0.02375314,  0.19956091,  0.06940439,  0.14686325],\n",
       "          [-0.23696688,  0.222828  , -0.01129004, -0.29406765],\n",
       "          [-0.14604259,  0.13741827, -0.04674891, -0.07845187]],\n",
       " \n",
       "         [[ 0.0179452 ,  0.15000296, -0.19087523,  0.2255849 ],\n",
       "          [ 0.30508688, -0.1896796 ,  0.26467368, -0.14322066],\n",
       "          [ 0.07728228,  0.09457794,  0.10032493, -0.11104651]]]],\n",
       "       dtype=float32)>,\n",
       " <tf.Variable 'conv2d/bias:0' shape=(4,) dtype=float32, numpy=array([0., 0., 0., 0.], dtype=float32)>]"
      ]
     },
     "execution_count": 8,
     "metadata": {},
     "output_type": "execute_result"
    }
   ],
   "source": [
    "layer.trainable_variables"
   ]
  }
 ],
 "metadata": {
  "kernelspec": {
   "display_name": "Python 3",
   "language": "python",
   "name": "python3"
  },
  "language_info": {
   "codemirror_mode": {
    "name": "ipython",
    "version": 3
   },
   "file_extension": ".py",
   "mimetype": "text/x-python",
   "name": "python",
   "nbconvert_exporter": "python",
   "pygments_lexer": "ipython3",
   "version": "3.8.0"
  },
  "orig_nbformat": 4
 },
 "nbformat": 4,
 "nbformat_minor": 2
}
