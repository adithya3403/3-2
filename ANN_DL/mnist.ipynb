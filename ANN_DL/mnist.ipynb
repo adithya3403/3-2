{
 "cells": [
  {
   "attachments": {},
   "cell_type": "markdown",
   "metadata": {},
   "source": [
    "# MNIST Dataset in CNN"
   ]
  },
  {
   "cell_type": "code",
   "execution_count": 1,
   "metadata": {},
   "outputs": [],
   "source": [
    "import matplotlib.pyplot as plt\n",
    "import numpy as np\n",
    "from numpy import argmax\n",
    "from tensorflow import keras\n",
    "from keras.datasets.mnist import load_data\n",
    "from keras import Sequential\n",
    "from keras.layers import Conv2D\n",
    "from keras.layers import MaxPool2D\n",
    "from keras.layers import Dense\n",
    "from keras.layers import Flatten\n",
    "from keras.layers import Dropout\n",
    "from matplotlib import pyplot"
   ]
  },
  {
   "cell_type": "code",
   "execution_count": 2,
   "metadata": {},
   "outputs": [],
   "source": [
    "# loading the MNIST dataset\n",
    "(x_train, y_train), (x_test, y_test) = load_data()\n",
    "# reshaping the training and testing data \n",
    "x_train = x_train.reshape((x_train.shape[0], x_train.shape[1],\n",
    "x_train.shape[2], 1))\n",
    "x_test = x_test.reshape((x_test.shape[0], x_test.shape[1], x_test.shape[2], 1))"
   ]
  },
  {
   "cell_type": "code",
   "execution_count": 3,
   "metadata": {},
   "outputs": [],
   "source": [
    "# normalizing the values of pixels of images\n",
    "x_train = x_train.astype('float32') / 255.0\n",
    "x_test = x_test.astype('float32') / 255.0"
   ]
  },
  {
   "cell_type": "code",
   "execution_count": 4,
   "metadata": {},
   "outputs": [
    {
     "data": {
      "image/png": "[encoded data removed]",
      "text/plain": [
       "<Figure size 1500x300 with 10 Axes>"
      ]
     },
     "metadata": {},
     "output_type": "display_data"
    }
   ],
   "source": [
    "fig = plt.figure(figsize=(15,3))\n",
    "for i in range(10):\n",
    "    ax = fig.add_subplot(2,10, i+1, xticks=[], yticks=[])\n",
    "    ax.imshow(np.squeeze(x_train[i]), cmap='gray')\n",
    "    ax.set_title(y_train[i])"
   ]
  },
  {
   "cell_type": "code",
   "execution_count": 5,
   "metadata": {},
   "outputs": [
    {
     "name": "stdout",
     "output_type": "stream",
     "text": [
      "(28, 28, 1)\n"
     ]
    }
   ],
   "source": [
    "# determine the shape of the input images\n",
    "inp_shape = x_train.shape[1:]\n",
    "print(inp_shape)"
   ]
  },
  {
   "cell_type": "code",
   "execution_count": 6,
   "metadata": {},
   "outputs": [],
   "source": [
    "# defining the model\n",
    "model = Sequential()\n",
    "model.add(Conv2D(32, (3,3), activation='relu', input_shape=inp_shape))\n",
    "model.add(MaxPool2D((2, 2)))\n",
    "model.add(Conv2D(48, (3,3), activation='relu'))\n",
    "model.add(MaxPool2D((2, 2)))\n",
    "model.add(Dropout(0.5))\n",
    "model.add(Flatten())\n",
    "model.add(Dense(500, activation='relu'))\n",
    "model.add(Dense(10, activation='softmax'))"
   ]
  },
  {
   "cell_type": "code",
   "execution_count": 7,
   "metadata": {},
   "outputs": [
    {
     "name": "stdout",
     "output_type": "stream",
     "text": [
      "Model: \"sequential\"\n",
      "_________________________________________________________________\n",
      " Layer (type)                Output Shape              Param #   \n",
      "=================================================================\n",
      " conv2d (Conv2D)             (None, 26, 26, 32)        320       \n",
      "                                                                 \n",
      " max_pooling2d (MaxPooling2D  (None, 13, 13, 32)       0         \n",
      " )                                                               \n",
      "                                                                 \n",
      " conv2d_1 (Conv2D)           (None, 11, 11, 48)        13872     \n",
      "                                                                 \n",
      " max_pooling2d_1 (MaxPooling  (None, 5, 5, 48)         0         \n",
      " 2D)                                                             \n",
      "                                                                 \n",
      " dropout (Dropout)           (None, 5, 5, 48)          0         \n",
      "                                                                 \n",
      " flatten (Flatten)           (None, 1200)              0         \n",
      "                                                                 \n",
      " dense (Dense)               (None, 500)               600500    \n",
      "                                                                 \n",
      " dense_1 (Dense)             (None, 10)                5010      \n",
      "                                                                 \n",
      "=================================================================\n",
      "Total params: 619,702\n",
      "Trainable params: 619,702\n",
      "Non-trainable params: 0\n",
      "_________________________________________________________________\n"
     ]
    }
   ],
   "source": [
    "# text Description of model\n",
    "model.summary()"
   ]
  },
  {
   "cell_type": "code",
   "execution_count": 9,
   "metadata": {},
   "outputs": [
    {
     "name": "stdout",
     "output_type": "stream",
     "text": [
      "Epoch 1/10\n",
      "422/422 - 36s - loss: 0.2485 - accuracy: 0.9243 - val_loss: 0.0586 - val_accuracy: 0.9827 - 36s/epoch - 86ms/step\n",
      "Epoch 2/10\n",
      "422/422 - 32s - loss: 0.0825 - accuracy: 0.9747 - val_loss: 0.0444 - val_accuracy: 0.9872 - 32s/epoch - 76ms/step\n",
      "Epoch 3/10\n",
      "422/422 - 33s - loss: 0.0605 - accuracy: 0.9806 - val_loss: 0.0328 - val_accuracy: 0.9903 - 33s/epoch - 79ms/step\n",
      "Epoch 4/10\n",
      "422/422 - 28s - loss: 0.0495 - accuracy: 0.9844 - val_loss: 0.0336 - val_accuracy: 0.9912 - 28s/epoch - 67ms/step\n",
      "Epoch 5/10\n",
      "422/422 - 27s - loss: 0.0426 - accuracy: 0.9866 - val_loss: 0.0272 - val_accuracy: 0.9922 - 27s/epoch - 65ms/step\n",
      "Epoch 6/10\n",
      "422/422 - 27s - loss: 0.0383 - accuracy: 0.9876 - val_loss: 0.0277 - val_accuracy: 0.9920 - 27s/epoch - 65ms/step\n",
      "Epoch 7/10\n",
      "422/422 - 27s - loss: 0.0338 - accuracy: 0.9892 - val_loss: 0.0244 - val_accuracy: 0.9938 - 27s/epoch - 64ms/step\n",
      "Epoch 8/10\n",
      "422/422 - 27s - loss: 0.0285 - accuracy: 0.9906 - val_loss: 0.0313 - val_accuracy: 0.9918 - 27s/epoch - 64ms/step\n",
      "Epoch 9/10\n",
      "422/422 - 27s - loss: 0.0275 - accuracy: 0.9913 - val_loss: 0.0219 - val_accuracy: 0.9943 - 27s/epoch - 63ms/step\n",
      "Epoch 10/10\n",
      "422/422 - 26s - loss: 0.0255 - accuracy: 0.9914 - val_loss: 0.0269 - val_accuracy: 0.9923 - 26s/epoch - 62ms/step\n"
     ]
    }
   ],
   "source": [
    "# define loss and optimizer\n",
    "model.compile(optimizer='adam', loss='sparse_categorical_crossentropy', metrics=['accuracy'])\n",
    "# fit the model\n",
    "history = model.fit(x_train, y_train, epochs=10, batch_size=128, verbose=2, validation_split=0.1)"
   ]
  },
  {
   "cell_type": "code",
   "execution_count": 10,
   "metadata": {},
   "outputs": [
    {
     "data": {
      "image/png": "[encoded data removed]",
      "text/plain": [
       "<Figure size 640x480 with 1 Axes>"
      ]
     },
     "metadata": {},
     "output_type": "display_data"
    }
   ],
   "source": [
    "# ploting the learning curves\n",
    "pyplot.title('Learning Curves')\n",
    "pyplot.xlabel('Epochs')\n",
    "pyplot.ylabel('Cross Entropy')\n",
    "pyplot.plot(history.history['loss'], label='train')\n",
    "pyplot.plot(history.history['val_loss'], label='val')\n",
    "pyplot.legend()\n",
    "pyplot.show()\n"
   ]
  },
  {
   "cell_type": "code",
   "execution_count": 20,
   "metadata": {},
   "outputs": [
    {
     "name": "stdout",
     "output_type": "stream",
     "text": [
      "Accuracy: 99.1599977016449\n"
     ]
    }
   ],
   "source": [
    "# evaluate the model\n",
    "loss, accuracy = model.evaluate(x_test, y_test, verbose=0)\n",
    "print(f'Accuracy: {accuracy*100}')"
   ]
  },
  {
   "cell_type": "code",
   "execution_count": 65,
   "metadata": {},
   "outputs": [
    {
     "data": {
      "text/plain": [
       "<matplotlib.image.AxesImage at 0x2193c68a040>"
      ]
     },
     "execution_count": 65,
     "metadata": {},
     "output_type": "execute_result"
    },
    {
     "data": {
      "image/png": "[encoded data removed]",
      "text/plain": [
       "<Figure size 640x480 with 1 Axes>"
      ]
     },
     "metadata": {},
     "output_type": "display_data"
    }
   ],
   "source": [
    "# pick a random number from test data\n",
    "random_num = np.random.randint(0, len(x_test))\n",
    "image = x_train[random_num]\n",
    "# lets display the image which we want to predict\n",
    "plt.imshow(np.squeeze(image), cmap='gray')"
   ]
  },
  {
   "cell_type": "code",
   "execution_count": 66,
   "metadata": {},
   "outputs": [
    {
     "name": "stdout",
     "output_type": "stream",
     "text": [
      "1/1 [==============================] - 0s 86ms/step\n",
      "Predicted: 9\n"
     ]
    }
   ],
   "source": [
    "# make a prediction\n",
    "# reshaping the image for model input\n",
    "image= image.reshape(1,image.shape[0],image.shape[1],image.shape[2])\n",
    "# predicting the label of image\n",
    "yhat = model.predict([image])\n",
    "print('Predicted: {}'.format(argmax(yhat)))"
   ]
  }
 ],
 "metadata": {
  "kernelspec": {
   "display_name": "Python 3",
   "language": "python",
   "name": "python3"
  },
  "language_info": {
   "codemirror_mode": {
    "name": "ipython",
    "version": 3
   },
   "file_extension": ".py",
   "mimetype": "text/x-python",
   "name": "python",
   "nbconvert_exporter": "python",
   "pygments_lexer": "ipython3",
   "version": "3.8.0"
  },
  "orig_nbformat": 4
 },
 "nbformat": 4,
 "nbformat_minor": 2
}
