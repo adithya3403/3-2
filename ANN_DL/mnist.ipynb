{
 "cells": [
  {
   "attachments": {},
   "cell_type": "markdown",
   "metadata": {},
   "source": [
    "# MNIST CNN"
   ]
  },
  {
   "attachments": {},
   "cell_type": "markdown",
   "metadata": {},
   "source": [
    "We first normalize the pixel values and reshape the input data into 4D tensors for use with a CNN.\n",
    "\n",
    "Then, we define a simple CNN model with two convolutional layers and two max pooling layers, followed by two dense layers.\n",
    "\n",
    "The model is compiled, trained, and evaluated on the test set, and we make predictions on a random test image."
   ]
  },
  {
   "cell_type": "code",
   "execution_count": 1,
   "metadata": {},
   "outputs": [],
   "source": [
    "# Import the libraries\n",
    "import tensorflow as tf\n",
    "import numpy as np\n",
    "import matplotlib.pyplot as plt"
   ]
  },
  {
   "cell_type": "code",
   "execution_count": 2,
   "metadata": {},
   "outputs": [],
   "source": [
    "# Load the MNIST dataset\n",
    "mnist = tf.keras.datasets.mnist\n",
    "(x_train, y_train), (x_test, y_test) = mnist.load_data()"
   ]
  },
  {
   "cell_type": "code",
   "execution_count": 3,
   "metadata": {},
   "outputs": [],
   "source": [
    "# Normalize pixel values to between 0 and 1\n",
    "x_train = x_train / 255.0\n",
    "x_test = x_test / 255.0"
   ]
  },
  {
   "cell_type": "code",
   "execution_count": 42,
   "metadata": {},
   "outputs": [],
   "source": [
    "# Reshape the images to 4D tensors for use with a CNN\n",
    "x_train = x_train.reshape((-1, 28, 28, 1))\n",
    "x_test = x_test.reshape((-1, 28, 28, 1))"
   ]
  },
  {
   "cell_type": "code",
   "execution_count": 43,
   "metadata": {},
   "outputs": [],
   "source": [
    "# Define the CNN model\n",
    "model = tf.keras.models.Sequential([\n",
    "    tf.keras.layers.Conv2D(32, (3,3), activation='relu', input_shape=(28, 28, 1)),\n",
    "    tf.keras.layers.MaxPooling2D((2,2)),\n",
    "    tf.keras.layers.Conv2D(64, (3,3), activation='relu'),\n",
    "    tf.keras.layers.MaxPooling2D((2,2)),\n",
    "    tf.keras.layers.Flatten(),\n",
    "    tf.keras.layers.Dense(64, activation='relu'),\n",
    "    tf.keras.layers.Dense(10, activation='softmax')\n",
    "])"
   ]
  },
  {
   "cell_type": "code",
   "execution_count": 44,
   "metadata": {},
   "outputs": [],
   "source": [
    "# Compile the model\n",
    "model.compile(optimizer='adam',\n",
    "    loss='sparse_categorical_crossentropy',\n",
    "    metrics=['accuracy'])"
   ]
  },
  {
   "cell_type": "code",
   "execution_count": 45,
   "metadata": {},
   "outputs": [
    {
     "name": "stdout",
     "output_type": "stream",
     "text": [
      "Epoch 1/15\n",
      "1875/1875 [==============================] - 35s 18ms/step - loss: 0.1405 - accuracy: 0.9578\n",
      "Epoch 2/15\n",
      "1875/1875 [==============================] - 29s 16ms/step - loss: 0.0488 - accuracy: 0.9849\n",
      "Epoch 3/15\n",
      "1875/1875 [==============================] - 28s 15ms/step - loss: 0.0333 - accuracy: 0.9895\n",
      "Epoch 4/15\n",
      "1875/1875 [==============================] - 29s 15ms/step - loss: 0.0251 - accuracy: 0.9922\n",
      "Epoch 5/15\n",
      "1875/1875 [==============================] - 29s 15ms/step - loss: 0.0194 - accuracy: 0.9936\n",
      "Epoch 6/15\n",
      "1875/1875 [==============================] - 27s 15ms/step - loss: 0.0153 - accuracy: 0.9949\n",
      "Epoch 7/15\n",
      "1875/1875 [==============================] - 28s 15ms/step - loss: 0.0105 - accuracy: 0.9969\n",
      "Epoch 8/15\n",
      "1875/1875 [==============================] - 28s 15ms/step - loss: 0.0106 - accuracy: 0.9965\n",
      "Epoch 9/15\n",
      "1875/1875 [==============================] - 28s 15ms/step - loss: 0.0075 - accuracy: 0.9975\n",
      "Epoch 10/15\n",
      "1875/1875 [==============================] - 28s 15ms/step - loss: 0.0075 - accuracy: 0.9974\n",
      "Epoch 11/15\n",
      "1875/1875 [==============================] - 28s 15ms/step - loss: 0.0062 - accuracy: 0.9981\n",
      "Epoch 12/15\n",
      "1875/1875 [==============================] - 28s 15ms/step - loss: 0.0059 - accuracy: 0.9980\n",
      "Epoch 13/15\n",
      "1875/1875 [==============================] - 28s 15ms/step - loss: 0.0060 - accuracy: 0.9977\n",
      "Epoch 14/15\n",
      "1875/1875 [==============================] - 28s 15ms/step - loss: 0.0042 - accuracy: 0.9985\n",
      "Epoch 15/15\n",
      "1875/1875 [==============================] - 29s 15ms/step - loss: 0.0046 - accuracy: 0.9985\n"
     ]
    },
    {
     "data": {
      "text/plain": [
       "<keras.callbacks.History at 0x200fa738d90>"
      ]
     },
     "execution_count": 45,
     "metadata": {},
     "output_type": "execute_result"
    }
   ],
   "source": [
    "# Train the model\n",
    "model.fit(x_train, y_train, epochs=15)"
   ]
  },
  {
   "cell_type": "code",
   "execution_count": 46,
   "metadata": {},
   "outputs": [
    {
     "name": "stdout",
     "output_type": "stream",
     "text": [
      "313/313 [==============================] - 2s 6ms/step - loss: 0.0650 - accuracy: 0.9869\n",
      "Test accuracy: 0.9868999719619751\n"
     ]
    }
   ],
   "source": [
    "# Evaluate the model on the test set\n",
    "test_loss, test_acc = model.evaluate(x_test, y_test)\n",
    "print('Test accuracy:', test_acc)"
   ]
  },
  {
   "cell_type": "code",
   "execution_count": 47,
   "metadata": {},
   "outputs": [
    {
     "name": "stdout",
     "output_type": "stream",
     "text": [
      "313/313 [==============================] - 2s 6ms/step\n"
     ]
    }
   ],
   "source": [
    "# Make predictions on the test set\n",
    "predictions = model.predict(x_test)"
   ]
  },
  {
   "cell_type": "code",
   "execution_count": 48,
   "metadata": {},
   "outputs": [
    {
     "data": {
      "image/png": "[encoded data removed]",
      "text/plain": [
       "<Figure size 640x480 with 1 Axes>"
      ]
     },
     "metadata": {},
     "output_type": "display_data"
    }
   ],
   "source": [
    "# Plot a random image and its predicted label\n",
    "index = np.random.randint(len(x_test))\n",
    "plt.imshow(x_test[index].reshape(28,28), cmap='gray')\n",
    "plt.title(f\"Predicted label: {np.argmax(predictions[index])}\")\n",
    "plt.show()"
   ]
  }
 ],
 "metadata": {
  "kernelspec": {
   "display_name": "Python 3",
   "language": "python",
   "name": "python3"
  },
  "language_info": {
   "codemirror_mode": {
    "name": "ipython",
    "version": 3
   },
   "file_extension": ".py",
   "mimetype": "text/x-python",
   "name": "python",
   "nbconvert_exporter": "python",
   "pygments_lexer": "ipython3",
   "version": "3.8.0"
  },
  "orig_nbformat": 4
 },
 "nbformat": 4,
 "nbformat_minor": 2
}
