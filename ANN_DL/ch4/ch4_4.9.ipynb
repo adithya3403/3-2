{
 "cells": [
  {
   "cell_type": "code",
   "execution_count": 1,
   "metadata": {},
   "outputs": [
    {
     "data": {
      "text/plain": [
       "'2.11.0'"
      ]
     },
     "execution_count": 1,
     "metadata": {},
     "output_type": "execute_result"
    }
   ],
   "source": [
    "import tensorflow as tf\n",
    "tf.__version__"
   ]
  },
  {
   "attachments": {},
   "cell_type": "markdown",
   "metadata": {},
   "source": [
    "# Mathematical Operations"
   ]
  },
  {
   "cell_type": "code",
   "execution_count": 17,
   "metadata": {},
   "outputs": [],
   "source": [
    "a=tf.range(5)\n",
    "b=tf.constant(2)"
   ]
  },
  {
   "attachments": {},
   "cell_type": "markdown",
   "metadata": {},
   "source": [
    "### Addition"
   ]
  },
  {
   "cell_type": "code",
   "execution_count": 18,
   "metadata": {},
   "outputs": [
    {
     "data": {
      "text/plain": [
       "<tf.Tensor: shape=(5,), dtype=int32, numpy=array([2, 3, 4, 5, 6])>"
      ]
     },
     "execution_count": 18,
     "metadata": {},
     "output_type": "execute_result"
    }
   ],
   "source": [
    "a+b"
   ]
  },
  {
   "attachments": {},
   "cell_type": "markdown",
   "metadata": {},
   "source": [
    "### Subtraction"
   ]
  },
  {
   "cell_type": "code",
   "execution_count": 19,
   "metadata": {},
   "outputs": [
    {
     "data": {
      "text/plain": [
       "<tf.Tensor: shape=(5,), dtype=int32, numpy=array([-2, -1,  0,  1,  2])>"
      ]
     },
     "execution_count": 19,
     "metadata": {},
     "output_type": "execute_result"
    }
   ],
   "source": [
    "a-b"
   ]
  },
  {
   "attachments": {},
   "cell_type": "markdown",
   "metadata": {},
   "source": [
    "### Multiplication"
   ]
  },
  {
   "cell_type": "code",
   "execution_count": 20,
   "metadata": {},
   "outputs": [
    {
     "data": {
      "text/plain": [
       "<tf.Tensor: shape=(5,), dtype=int32, numpy=array([0, 2, 4, 6, 8])>"
      ]
     },
     "execution_count": 20,
     "metadata": {},
     "output_type": "execute_result"
    }
   ],
   "source": [
    "a*b"
   ]
  },
  {
   "attachments": {},
   "cell_type": "markdown",
   "metadata": {},
   "source": [
    "### Division"
   ]
  },
  {
   "cell_type": "code",
   "execution_count": 21,
   "metadata": {},
   "outputs": [
    {
     "data": {
      "text/plain": [
       "<tf.Tensor: shape=(5,), dtype=float64, numpy=array([0. , 0.5, 1. , 1.5, 2. ])>"
      ]
     },
     "execution_count": 21,
     "metadata": {},
     "output_type": "execute_result"
    }
   ],
   "source": [
    "a/b"
   ]
  },
  {
   "cell_type": "code",
   "execution_count": 22,
   "metadata": {},
   "outputs": [
    {
     "data": {
      "text/plain": [
       "<tf.Tensor: shape=(5,), dtype=int32, numpy=array([0, 0, 1, 1, 2])>"
      ]
     },
     "execution_count": 22,
     "metadata": {},
     "output_type": "execute_result"
    }
   ],
   "source": [
    "a//b"
   ]
  },
  {
   "cell_type": "code",
   "execution_count": 23,
   "metadata": {},
   "outputs": [
    {
     "data": {
      "text/plain": [
       "<tf.Tensor: shape=(5,), dtype=int32, numpy=array([0, 1, 0, 1, 0])>"
      ]
     },
     "execution_count": 23,
     "metadata": {},
     "output_type": "execute_result"
    }
   ],
   "source": [
    "a%b"
   ]
  },
  {
   "attachments": {},
   "cell_type": "markdown",
   "metadata": {},
   "source": [
    "### Power"
   ]
  },
  {
   "cell_type": "code",
   "execution_count": 24,
   "metadata": {},
   "outputs": [
    {
     "data": {
      "text/plain": [
       "<tf.Tensor: shape=(4,), dtype=int32, numpy=array([ 0,  1,  8, 27])>"
      ]
     },
     "execution_count": 24,
     "metadata": {},
     "output_type": "execute_result"
    }
   ],
   "source": [
    "x=tf.range(4)\n",
    "tf.pow(x, 3)"
   ]
  },
  {
   "cell_type": "code",
   "execution_count": 25,
   "metadata": {},
   "outputs": [
    {
     "data": {
      "text/plain": [
       "<tf.Tensor: shape=(4,), dtype=int32, numpy=array([0, 1, 4, 9])>"
      ]
     },
     "execution_count": 25,
     "metadata": {},
     "output_type": "execute_result"
    }
   ],
   "source": [
    "x**2"
   ]
  },
  {
   "cell_type": "code",
   "execution_count": 26,
   "metadata": {},
   "outputs": [
    {
     "data": {
      "text/plain": [
       "<tf.Tensor: shape=(3,), dtype=float32, numpy=array([1., 2., 3.], dtype=float32)>"
      ]
     },
     "execution_count": 26,
     "metadata": {},
     "output_type": "execute_result"
    }
   ],
   "source": [
    "x=tf.constant([1.,4.,9.])\n",
    "x**(0.5)"
   ]
  },
  {
   "cell_type": "code",
   "execution_count": 27,
   "metadata": {},
   "outputs": [
    {
     "data": {
      "text/plain": [
       "<tf.Tensor: shape=(5,), dtype=float32, numpy=array([ 0.,  1.,  4.,  9., 16.], dtype=float32)>"
      ]
     },
     "execution_count": 27,
     "metadata": {},
     "output_type": "execute_result"
    }
   ],
   "source": [
    "x=tf.range(5)\n",
    "x=tf.cast(x, dtype=tf.float32)\n",
    "x=tf.square(x)\n",
    "x"
   ]
  },
  {
   "cell_type": "code",
   "execution_count": 28,
   "metadata": {},
   "outputs": [
    {
     "data": {
      "text/plain": [
       "<tf.Tensor: shape=(5,), dtype=float32, numpy=array([0., 1., 2., 3., 4.], dtype=float32)>"
      ]
     },
     "execution_count": 28,
     "metadata": {},
     "output_type": "execute_result"
    }
   ],
   "source": [
    "tf.sqrt(x)"
   ]
  },
  {
   "attachments": {},
   "cell_type": "markdown",
   "metadata": {},
   "source": [
    "### Exponential"
   ]
  },
  {
   "cell_type": "code",
   "execution_count": 29,
   "metadata": {},
   "outputs": [
    {
     "data": {
      "text/plain": [
       "<tf.Tensor: shape=(3,), dtype=float32, numpy=array([2., 4., 8.], dtype=float32)>"
      ]
     },
     "execution_count": 29,
     "metadata": {},
     "output_type": "execute_result"
    }
   ],
   "source": [
    "x=tf.constant([1.,2.,3.])\n",
    "2**x"
   ]
  },
  {
   "cell_type": "code",
   "execution_count": 30,
   "metadata": {},
   "outputs": [
    {
     "data": {
      "text/plain": [
       "<tf.Tensor: shape=(), dtype=float32, numpy=2.7182817>"
      ]
     },
     "execution_count": 30,
     "metadata": {},
     "output_type": "execute_result"
    }
   ],
   "source": [
    "tf.exp(1.)"
   ]
  },
  {
   "attachments": {},
   "cell_type": "markdown",
   "metadata": {},
   "source": [
    "### Logarithmic"
   ]
  },
  {
   "cell_type": "code",
   "execution_count": 31,
   "metadata": {},
   "outputs": [
    {
     "data": {
      "text/plain": [
       "<tf.Tensor: shape=(), dtype=float32, numpy=3.0>"
      ]
     },
     "execution_count": 31,
     "metadata": {},
     "output_type": "execute_result"
    }
   ],
   "source": [
    "x=tf.exp(3.)\n",
    "tf.math.log(x)"
   ]
  },
  {
   "cell_type": "code",
   "execution_count": 32,
   "metadata": {},
   "outputs": [
    {
     "data": {
      "text/plain": [
       "<tf.Tensor: shape=(2,), dtype=float32, numpy=array([1., 2.], dtype=float32)>"
      ]
     },
     "execution_count": 32,
     "metadata": {},
     "output_type": "execute_result"
    }
   ],
   "source": [
    "x=tf.constant([1.,2.])\n",
    "x=10**x\n",
    "tf.math.log(x)/tf.math.log(10.)"
   ]
  },
  {
   "attachments": {},
   "cell_type": "markdown",
   "metadata": {},
   "source": [
    "### Matrix multiplication"
   ]
  },
  {
   "cell_type": "code",
   "execution_count": 33,
   "metadata": {},
   "outputs": [
    {
     "data": {
      "text/plain": [
       "<tf.Tensor: shape=(4, 3, 28, 3), dtype=float32, numpy=\n",
       "array([[[[  2.4567368 ,   7.0472426 ,  -7.517092  ],\n",
       "         [-10.145126  ,   2.8599753 ,  -2.9897041 ],\n",
       "         [ -7.837422  ,   0.5516577 ,   3.9429293 ],\n",
       "         ...,\n",
       "         [  5.9139614 , -10.028306  ,   3.9126234 ],\n",
       "         [  0.32852602,   2.7027087 , -10.845387  ],\n",
       "         [ -5.035463  ,  -0.18780589,   1.2840558 ]],\n",
       "\n",
       "        [[ -0.311176  ,  -6.1990976 ,  -8.239786  ],\n",
       "         [  2.78978   ,   7.6015253 ,   3.4902318 ],\n",
       "         [ -6.6951237 ,   0.03151894,   1.6778479 ],\n",
       "         ...,\n",
       "         [ -2.4134896 ,   1.5263555 ,   9.298641  ],\n",
       "         [  3.7872899 ,   2.4384956 ,   5.292796  ],\n",
       "         [  1.87724   ,   3.751566  , -10.307771  ]],\n",
       "\n",
       "        [[ -2.7086637 ,  -9.41251   ,  -7.9269853 ],\n",
       "         [  3.3104334 ,  -0.6424792 ,   2.0484078 ],\n",
       "         [  5.635937  ,  -0.36705256,   0.7219771 ],\n",
       "         ...,\n",
       "         [-14.902014  ,  -8.971646  ,  -2.2381697 ],\n",
       "         [  1.7169464 ,   0.58435965,   3.52902   ],\n",
       "         [  6.141201  ,  -6.1738358 ,   0.53129053]]],\n",
       "\n",
       "\n",
       "       [[[ -2.5666192 ,   0.8452203 ,   4.944798  ],\n",
       "         [  9.023573  ,  -6.122757  ,   7.495061  ],\n",
       "         [ -7.157265  ,  -2.068049  ,   0.9582758 ],\n",
       "         ...,\n",
       "         [  4.705861  ,   5.990103  ,  -1.6397066 ],\n",
       "         [ -5.6631494 ,   0.17332792,   3.7906022 ],\n",
       "         [ -3.4368057 , -12.400512  ,  -0.71209717]],\n",
       "\n",
       "        [[ -2.2978654 ,  -5.424204  ,   2.4925473 ],\n",
       "         [ -0.6011723 ,  -1.7531295 ,  -5.1092343 ],\n",
       "         [  6.726558  ,   0.84932184,  -3.1082776 ],\n",
       "         ...,\n",
       "         [ 10.634125  ,  -3.1977425 , -11.929898  ],\n",
       "         [  1.7229807 ,   0.08382797,  -0.7729921 ],\n",
       "         [  9.003947  ,   3.7888901 ,  -0.03882957]],\n",
       "\n",
       "        [[ -4.5414243 ,   0.04908705,   0.5477803 ],\n",
       "         [ -4.2219515 ,   9.496485  ,  -5.8661222 ],\n",
       "         [  0.72472954,  -0.79829836,  -1.0811151 ],\n",
       "         ...,\n",
       "         [  5.5481434 ,   5.276018  ,  -8.322662  ],\n",
       "         [ -6.8632874 ,   1.6128311 ,   0.4744661 ],\n",
       "         [ -4.4551916 ,   0.14886487,  -4.6841936 ]]],\n",
       "\n",
       "\n",
       "       [[[ -8.197191  ,  11.326594  ,  -5.747632  ],\n",
       "         [  2.7535002 ,  -4.0642986 ,   5.4626904 ],\n",
       "         [  0.72613525,  -4.612116  , -11.799011  ],\n",
       "         ...,\n",
       "         [-13.284474  ,   3.3648186 ,  -6.542759  ],\n",
       "         [  2.1674666 ,   1.3675952 ,   2.2568135 ],\n",
       "         [  1.1090803 ,   1.5219823 ,  -7.113763  ]],\n",
       "\n",
       "        [[ -5.153751  ,   3.2006392 ,  -3.4753215 ],\n",
       "         [  1.583611  ,   2.9767718 ,  -0.14748335],\n",
       "         [  0.8601456 ,  -4.27313   ,  -7.399346  ],\n",
       "         ...,\n",
       "         [  4.85239   ,   4.8248954 ,  -7.061944  ],\n",
       "         [  6.7060423 ,  -0.7087242 ,   6.540879  ],\n",
       "         [  2.5087526 ,  11.750962  ,   1.2776046 ]],\n",
       "\n",
       "        [[ -7.199691  ,   4.3583446 ,  -9.19205   ],\n",
       "         [ -2.0934188 ,  10.509396  ,   4.4183655 ],\n",
       "         [  3.414402  ,   4.992713  ,  -4.2033386 ],\n",
       "         ...,\n",
       "         [ -5.860369  ,  -3.4760637 ,  10.38039   ],\n",
       "         [ -4.8121357 , -12.602234  ,   8.937923  ],\n",
       "         [ -6.4717684 ,  -3.5389369 ,  12.93026   ]]],\n",
       "\n",
       "\n",
       "       [[[ -4.1635795 ,  -5.9147453 ,  -6.2374735 ],\n",
       "         [  0.5038824 ,  11.568056  ,  10.16926   ],\n",
       "         [  2.1561606 ,  -3.3835802 ,   0.2405963 ],\n",
       "         ...,\n",
       "         [ -2.079959  ,   5.596546  ,   1.7054708 ],\n",
       "         [  6.9362307 , -10.337522  ,  -2.2014816 ],\n",
       "         [  1.313905  ,   2.3689082 ,  -1.3394659 ]],\n",
       "\n",
       "        [[  2.667889  ,   1.580205  ,  -9.0163145 ],\n",
       "         [ 12.56298   ,   3.141065  ,  -1.6081448 ],\n",
       "         [  4.962123  ,  -1.0568391 ,  -1.6193907 ],\n",
       "         ...,\n",
       "         [ 15.187892  , -16.352757  ,   5.1061926 ],\n",
       "         [-12.25499   ,  13.264798  ,   5.9966516 ],\n",
       "         [  4.3905125 ,  -3.8511007 ,  -3.1197464 ]],\n",
       "\n",
       "        [[ -9.336844  , -11.994909  ,   3.9780862 ],\n",
       "         [  1.2260933 ,   1.1277941 ,  -6.6960526 ],\n",
       "         [  3.4159586 ,  -3.9678009 ,   5.0713105 ],\n",
       "         ...,\n",
       "         [  0.757071  ,  -5.6098833 ,  -4.6925774 ],\n",
       "         [  7.5613937 ,  -5.882971  ,   1.8698168 ],\n",
       "         [  4.2815213 ,  -5.8092685 ,  -9.009858  ]]]], dtype=float32)>"
      ]
     },
     "execution_count": 33,
     "metadata": {},
     "output_type": "execute_result"
    }
   ],
   "source": [
    "a=tf.random.normal([4,3,28,32])\n",
    "b=tf.random.normal([4,3,32,3])\n",
    "a@b # @ is matrix multiplication"
   ]
  },
  {
   "cell_type": "code",
   "execution_count": 34,
   "metadata": {},
   "outputs": [
    {
     "data": {
      "text/plain": [
       "<tf.Tensor: shape=(4, 28, 16), dtype=float32, numpy=\n",
       "array([[[ 12.044787  ,  -5.44342   ,  -3.7011247 , ...,  -3.2875164 ,\n",
       "          -3.2319224 ,   2.8443432 ],\n",
       "        [  2.3724284 ,  -3.3410404 ,   5.280134  , ...,  -6.525276  ,\n",
       "           1.8740978 ,   6.220971  ],\n",
       "        [ -2.2427433 ,   9.631798  ,  -3.491018  , ...,  -3.5123563 ,\n",
       "           5.257494  ,  -0.17973089],\n",
       "        ...,\n",
       "        [  5.5000033 ,   4.7718606 ,  -5.092619  , ...,   4.0612    ,\n",
       "           7.707215  ,   1.7837676 ],\n",
       "        [  0.17152146,   4.4595304 ,  -0.9843549 , ...,   1.4644542 ,\n",
       "          -7.682591  ,   7.1742773 ],\n",
       "        [ -0.54770136,  -0.4945547 ,   6.0268197 , ...,   7.1280932 ,\n",
       "           0.8402066 ,   2.112479  ]],\n",
       "\n",
       "       [[ -2.9163284 ,   3.0192058 ,   9.854709  , ...,   7.32072   ,\n",
       "          -0.05809782,  -6.2163205 ],\n",
       "        [ -4.824468  ,   3.1901662 ,   4.766145  , ...,  -0.2042114 ,\n",
       "           6.8576427 ,  -1.8923693 ],\n",
       "        [  1.9029984 ,   0.47865883,   3.1263716 , ...,   9.031667  ,\n",
       "          -4.276477  ,   7.25367   ],\n",
       "        ...,\n",
       "        [  2.652449  , -15.628018  ,   0.58300567, ..., -13.918248  ,\n",
       "          -6.4557242 ,   1.1612248 ],\n",
       "        [ -1.6826911 ,  -2.4580748 ,   3.4737287 , ...,  -8.210376  ,\n",
       "          10.475692  ,  -3.7632535 ],\n",
       "        [  4.0883093 ,  -8.047759  ,   2.6459026 , ...,  -1.0636811 ,\n",
       "           6.047807  ,   5.00558   ]],\n",
       "\n",
       "       [[ -5.642345  ,  -2.9664478 ,   6.0806317 , ...,   1.707785  ,\n",
       "           6.675681  ,   4.670675  ],\n",
       "        [ -0.3873309 ,   1.0707977 ,   0.54085076, ...,  -9.463823  ,\n",
       "          -8.192562  ,  -5.3601875 ],\n",
       "        [  2.0235028 ,   1.4191298 ,   1.5573622 , ...,  -1.3814819 ,\n",
       "           3.020604  ,  -6.0064406 ],\n",
       "        ...,\n",
       "        [ -2.6652644 ,   1.2659109 ,  -2.8698254 , ...,  -0.78231514,\n",
       "          12.446487  ,  -8.761071  ],\n",
       "        [-10.071544  ,   1.494469  ,  11.885813  , ...,  -0.7592095 ,\n",
       "           2.1005883 ,   2.8462527 ],\n",
       "        [-10.293894  ,  13.523159  ,   4.2805614 , ..., -10.862156  ,\n",
       "           2.853288  ,  -0.6432906 ]],\n",
       "\n",
       "       [[  5.9944563 ,   0.4468428 ,  -8.899864  , ...,   7.5748653 ,\n",
       "           8.564401  ,   3.88023   ],\n",
       "        [  3.389402  ,   6.182886  ,  -1.0832481 , ...,   0.74159837,\n",
       "         -16.10829   ,   1.9452796 ],\n",
       "        [ -1.6393862 ,  -1.649456  ,  12.561025  , ...,   5.4685755 ,\n",
       "           1.1967928 ,   6.4089556 ],\n",
       "        ...,\n",
       "        [  6.257909  ,  -5.828929  ,   5.932948  , ...,  -0.9464438 ,\n",
       "          -6.8908815 ,   1.3073301 ],\n",
       "        [ -0.5297481 ,  -0.3729399 ,  -0.06828976, ...,   4.6555824 ,\n",
       "          -9.94952   ,  -0.8844099 ],\n",
       "        [  0.54686594,  -4.5635543 ,   7.164139  , ...,  -3.639123  ,\n",
       "          -8.033002  ,   1.4017943 ]]], dtype=float32)>"
      ]
     },
     "execution_count": 34,
     "metadata": {},
     "output_type": "execute_result"
    }
   ],
   "source": [
    "a=tf.random.normal([4,28,32])\n",
    "b=tf.random.normal([32,16])\n",
    "tf.matmul(a, b)"
   ]
  },
  {
   "cell_type": "code",
   "execution_count": 35,
   "metadata": {},
   "outputs": [
    {
     "data": {
      "image/png": "[encoded data removed]",
      "text/plain": [
       "<Figure size 640x480 with 1 Axes>"
      ]
     },
     "metadata": {},
     "output_type": "display_data"
    }
   ],
   "source": [
    "import numpy as np\n",
    "import random as rd\n",
    "import matplotlib.pyplot as plt\n",
    "arr=np.random.randint(0, 255, size=(30,30,3))\n",
    "plt.imshow(arr)\n",
    "plt.show()"
   ]
  }
 ],
 "metadata": {
  "kernelspec": {
   "display_name": "Python 3",
   "language": "python",
   "name": "python3"
  },
  "language_info": {
   "codemirror_mode": {
    "name": "ipython",
    "version": 3
   },
   "file_extension": ".py",
   "mimetype": "text/x-python",
   "name": "python",
   "nbconvert_exporter": "python",
   "pygments_lexer": "ipython3",
   "version": "3.8.0"
  },
  "orig_nbformat": 4,
  "vscode": {
   "interpreter": {
    "hash": "46a5e820fae5c01f8ab8f3b920045ce887673a37bd422c73202f4e116d9bb3c0"
   }
  }
 },
 "nbformat": 4,
 "nbformat_minor": 2
}
