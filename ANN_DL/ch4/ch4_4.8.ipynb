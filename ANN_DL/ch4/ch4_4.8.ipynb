{
 "cells": [
  {
   "cell_type": "code",
   "execution_count": 2,
   "metadata": {},
   "outputs": [
    {
     "data": {
      "text/plain": [
       "'2.11.0'"
      ]
     },
     "execution_count": 2,
     "metadata": {},
     "output_type": "execute_result"
    }
   ],
   "source": [
    "import tensorflow as tf\n",
    "tf.__version__"
   ]
  },
  {
   "attachments": {},
   "cell_type": "markdown",
   "metadata": {},
   "source": [
    "# Broadcasting"
   ]
  },
  {
   "cell_type": "code",
   "execution_count": 3,
   "metadata": {},
   "outputs": [
    {
     "data": {
      "text/plain": [
       "<tf.Tensor: shape=(2, 32, 32, 3), dtype=float32, numpy=\n",
       "array([[[[-2.3053083 , -2.3053083 , -2.3053083 ],\n",
       "         [ 1.2806065 ,  1.2806065 ,  1.2806065 ],\n",
       "         [ 0.2030578 ,  0.2030578 ,  0.2030578 ],\n",
       "         ...,\n",
       "         [ 0.9039433 ,  0.9039433 ,  0.9039433 ],\n",
       "         [-0.09223805, -0.09223805, -0.09223805],\n",
       "         [ 2.2207701 ,  2.2207701 ,  2.2207701 ]],\n",
       "\n",
       "        [[-2.3053083 , -2.3053083 , -2.3053083 ],\n",
       "         [ 1.2806065 ,  1.2806065 ,  1.2806065 ],\n",
       "         [ 0.2030578 ,  0.2030578 ,  0.2030578 ],\n",
       "         ...,\n",
       "         [ 0.9039433 ,  0.9039433 ,  0.9039433 ],\n",
       "         [-0.09223805, -0.09223805, -0.09223805],\n",
       "         [ 2.2207701 ,  2.2207701 ,  2.2207701 ]],\n",
       "\n",
       "        [[-2.3053083 , -2.3053083 , -2.3053083 ],\n",
       "         [ 1.2806065 ,  1.2806065 ,  1.2806065 ],\n",
       "         [ 0.2030578 ,  0.2030578 ,  0.2030578 ],\n",
       "         ...,\n",
       "         [ 0.9039433 ,  0.9039433 ,  0.9039433 ],\n",
       "         [-0.09223805, -0.09223805, -0.09223805],\n",
       "         [ 2.2207701 ,  2.2207701 ,  2.2207701 ]],\n",
       "\n",
       "        ...,\n",
       "\n",
       "        [[-2.3053083 , -2.3053083 , -2.3053083 ],\n",
       "         [ 1.2806065 ,  1.2806065 ,  1.2806065 ],\n",
       "         [ 0.2030578 ,  0.2030578 ,  0.2030578 ],\n",
       "         ...,\n",
       "         [ 0.9039433 ,  0.9039433 ,  0.9039433 ],\n",
       "         [-0.09223805, -0.09223805, -0.09223805],\n",
       "         [ 2.2207701 ,  2.2207701 ,  2.2207701 ]],\n",
       "\n",
       "        [[-2.3053083 , -2.3053083 , -2.3053083 ],\n",
       "         [ 1.2806065 ,  1.2806065 ,  1.2806065 ],\n",
       "         [ 0.2030578 ,  0.2030578 ,  0.2030578 ],\n",
       "         ...,\n",
       "         [ 0.9039433 ,  0.9039433 ,  0.9039433 ],\n",
       "         [-0.09223805, -0.09223805, -0.09223805],\n",
       "         [ 2.2207701 ,  2.2207701 ,  2.2207701 ]],\n",
       "\n",
       "        [[-2.3053083 , -2.3053083 , -2.3053083 ],\n",
       "         [ 1.2806065 ,  1.2806065 ,  1.2806065 ],\n",
       "         [ 0.2030578 ,  0.2030578 ,  0.2030578 ],\n",
       "         ...,\n",
       "         [ 0.9039433 ,  0.9039433 ,  0.9039433 ],\n",
       "         [-0.09223805, -0.09223805, -0.09223805],\n",
       "         [ 2.2207701 ,  2.2207701 ,  2.2207701 ]]],\n",
       "\n",
       "\n",
       "       [[[-2.3053083 , -2.3053083 , -2.3053083 ],\n",
       "         [ 1.2806065 ,  1.2806065 ,  1.2806065 ],\n",
       "         [ 0.2030578 ,  0.2030578 ,  0.2030578 ],\n",
       "         ...,\n",
       "         [ 0.9039433 ,  0.9039433 ,  0.9039433 ],\n",
       "         [-0.09223805, -0.09223805, -0.09223805],\n",
       "         [ 2.2207701 ,  2.2207701 ,  2.2207701 ]],\n",
       "\n",
       "        [[-2.3053083 , -2.3053083 , -2.3053083 ],\n",
       "         [ 1.2806065 ,  1.2806065 ,  1.2806065 ],\n",
       "         [ 0.2030578 ,  0.2030578 ,  0.2030578 ],\n",
       "         ...,\n",
       "         [ 0.9039433 ,  0.9039433 ,  0.9039433 ],\n",
       "         [-0.09223805, -0.09223805, -0.09223805],\n",
       "         [ 2.2207701 ,  2.2207701 ,  2.2207701 ]],\n",
       "\n",
       "        [[-2.3053083 , -2.3053083 , -2.3053083 ],\n",
       "         [ 1.2806065 ,  1.2806065 ,  1.2806065 ],\n",
       "         [ 0.2030578 ,  0.2030578 ,  0.2030578 ],\n",
       "         ...,\n",
       "         [ 0.9039433 ,  0.9039433 ,  0.9039433 ],\n",
       "         [-0.09223805, -0.09223805, -0.09223805],\n",
       "         [ 2.2207701 ,  2.2207701 ,  2.2207701 ]],\n",
       "\n",
       "        ...,\n",
       "\n",
       "        [[-2.3053083 , -2.3053083 , -2.3053083 ],\n",
       "         [ 1.2806065 ,  1.2806065 ,  1.2806065 ],\n",
       "         [ 0.2030578 ,  0.2030578 ,  0.2030578 ],\n",
       "         ...,\n",
       "         [ 0.9039433 ,  0.9039433 ,  0.9039433 ],\n",
       "         [-0.09223805, -0.09223805, -0.09223805],\n",
       "         [ 2.2207701 ,  2.2207701 ,  2.2207701 ]],\n",
       "\n",
       "        [[-2.3053083 , -2.3053083 , -2.3053083 ],\n",
       "         [ 1.2806065 ,  1.2806065 ,  1.2806065 ],\n",
       "         [ 0.2030578 ,  0.2030578 ,  0.2030578 ],\n",
       "         ...,\n",
       "         [ 0.9039433 ,  0.9039433 ,  0.9039433 ],\n",
       "         [-0.09223805, -0.09223805, -0.09223805],\n",
       "         [ 2.2207701 ,  2.2207701 ,  2.2207701 ]],\n",
       "\n",
       "        [[-2.3053083 , -2.3053083 , -2.3053083 ],\n",
       "         [ 1.2806065 ,  1.2806065 ,  1.2806065 ],\n",
       "         [ 0.2030578 ,  0.2030578 ,  0.2030578 ],\n",
       "         ...,\n",
       "         [ 0.9039433 ,  0.9039433 ,  0.9039433 ],\n",
       "         [-0.09223805, -0.09223805, -0.09223805],\n",
       "         [ 2.2207701 ,  2.2207701 ,  2.2207701 ]]]], dtype=float32)>"
      ]
     },
     "execution_count": 3,
     "metadata": {},
     "output_type": "execute_result"
    }
   ],
   "source": [
    "A = tf.random.normal([32,1]) # Create a matrix\n",
    "tf.broadcast_to(A, [2,32,32,3]) # Expand to 4 dimensions"
   ]
  },
  {
   "cell_type": "code",
   "execution_count": 4,
   "metadata": {},
   "outputs": [
    {
     "ename": "InvalidArgumentError",
     "evalue": "{{function_node __wrapped__BroadcastTo_device_/job:localhost/replica:0/task:0/device:CPU:0}} Incompatible shapes: [32,2] vs. [2,32,32,4] [Op:BroadcastTo]",
     "output_type": "error",
     "traceback": [
      "\u001b[1;31m---------------------------------------------------------------------------\u001b[0m",
      "\u001b[1;31mInvalidArgumentError\u001b[0m                      Traceback (most recent call last)",
      "Cell \u001b[1;32mIn[4], line 2\u001b[0m\n\u001b[0;32m      1\u001b[0m A \u001b[39m=\u001b[39m tf\u001b[39m.\u001b[39mrandom\u001b[39m.\u001b[39mnormal([\u001b[39m32\u001b[39m,\u001b[39m2\u001b[39m])\n\u001b[1;32m----> 2\u001b[0m tf\u001b[39m.\u001b[39;49mbroadcast_to(A, [\u001b[39m2\u001b[39;49m,\u001b[39m32\u001b[39;49m,\u001b[39m32\u001b[39;49m,\u001b[39m4\u001b[39;49m])\n",
      "File \u001b[1;32mc:\\Users\\ADITHYA\\AppData\\Local\\Programs\\Python\\Python38\\lib\\site-packages\\tensorflow\\python\\ops\\gen_array_ops.py:1070\u001b[0m, in \u001b[0;36mbroadcast_to\u001b[1;34m(input, shape, name)\u001b[0m\n\u001b[0;32m   1068\u001b[0m   \u001b[39mif\u001b[39;00m _result \u001b[39mis\u001b[39;00m \u001b[39mnot\u001b[39;00m \u001b[39mNotImplemented\u001b[39m:\n\u001b[0;32m   1069\u001b[0m     \u001b[39mreturn\u001b[39;00m _result\n\u001b[1;32m-> 1070\u001b[0m   \u001b[39mreturn\u001b[39;00m broadcast_to_eager_fallback(\n\u001b[0;32m   1071\u001b[0m       \u001b[39minput\u001b[39;49m, shape, name\u001b[39m=\u001b[39;49mname, ctx\u001b[39m=\u001b[39;49m_ctx)\n\u001b[0;32m   1072\u001b[0m \u001b[39mexcept\u001b[39;00m _core\u001b[39m.\u001b[39m_SymbolicException:\n\u001b[0;32m   1073\u001b[0m   \u001b[39mpass\u001b[39;00m  \u001b[39m# Add nodes to the TensorFlow graph.\u001b[39;00m\n",
      "File \u001b[1;32mc:\\Users\\ADITHYA\\AppData\\Local\\Programs\\Python\\Python38\\lib\\site-packages\\tensorflow\\python\\ops\\gen_array_ops.py:1116\u001b[0m, in \u001b[0;36mbroadcast_to_eager_fallback\u001b[1;34m(input, shape, name, ctx)\u001b[0m\n\u001b[0;32m   1114\u001b[0m _inputs_flat \u001b[39m=\u001b[39m [\u001b[39minput\u001b[39m, shape]\n\u001b[0;32m   1115\u001b[0m _attrs \u001b[39m=\u001b[39m (\u001b[39m\"\u001b[39m\u001b[39mT\u001b[39m\u001b[39m\"\u001b[39m, _attr_T, \u001b[39m\"\u001b[39m\u001b[39mTidx\u001b[39m\u001b[39m\"\u001b[39m, _attr_Tidx)\n\u001b[1;32m-> 1116\u001b[0m _result \u001b[39m=\u001b[39m _execute\u001b[39m.\u001b[39;49mexecute(\u001b[39mb\u001b[39;49m\u001b[39m\"\u001b[39;49m\u001b[39mBroadcastTo\u001b[39;49m\u001b[39m\"\u001b[39;49m, \u001b[39m1\u001b[39;49m, inputs\u001b[39m=\u001b[39;49m_inputs_flat,\n\u001b[0;32m   1117\u001b[0m                            attrs\u001b[39m=\u001b[39;49m_attrs, ctx\u001b[39m=\u001b[39;49mctx, name\u001b[39m=\u001b[39;49mname)\n\u001b[0;32m   1118\u001b[0m \u001b[39mif\u001b[39;00m _execute\u001b[39m.\u001b[39mmust_record_gradient():\n\u001b[0;32m   1119\u001b[0m   _execute\u001b[39m.\u001b[39mrecord_gradient(\n\u001b[0;32m   1120\u001b[0m       \u001b[39m\"\u001b[39m\u001b[39mBroadcastTo\u001b[39m\u001b[39m\"\u001b[39m, _inputs_flat, _attrs, _result)\n",
      "File \u001b[1;32mc:\\Users\\ADITHYA\\AppData\\Local\\Programs\\Python\\Python38\\lib\\site-packages\\tensorflow\\python\\eager\\execute.py:52\u001b[0m, in \u001b[0;36mquick_execute\u001b[1;34m(op_name, num_outputs, inputs, attrs, ctx, name)\u001b[0m\n\u001b[0;32m     50\u001b[0m \u001b[39mtry\u001b[39;00m:\n\u001b[0;32m     51\u001b[0m   ctx\u001b[39m.\u001b[39mensure_initialized()\n\u001b[1;32m---> 52\u001b[0m   tensors \u001b[39m=\u001b[39m pywrap_tfe\u001b[39m.\u001b[39;49mTFE_Py_Execute(ctx\u001b[39m.\u001b[39;49m_handle, device_name, op_name,\n\u001b[0;32m     53\u001b[0m                                       inputs, attrs, num_outputs)\n\u001b[0;32m     54\u001b[0m \u001b[39mexcept\u001b[39;00m core\u001b[39m.\u001b[39m_NotOkStatusException \u001b[39mas\u001b[39;00m e:\n\u001b[0;32m     55\u001b[0m   \u001b[39mif\u001b[39;00m name \u001b[39mis\u001b[39;00m \u001b[39mnot\u001b[39;00m \u001b[39mNone\u001b[39;00m:\n",
      "\u001b[1;31mInvalidArgumentError\u001b[0m: {{function_node __wrapped__BroadcastTo_device_/job:localhost/replica:0/task:0/device:CPU:0}} Incompatible shapes: [32,2] vs. [2,32,32,4] [Op:BroadcastTo]"
     ]
    }
   ],
   "source": [
    "A = tf.random.normal([32,2])\n",
    "tf.broadcast_to(A, [2,32,32,4])"
   ]
  },
  {
   "cell_type": "code",
   "execution_count": null,
   "metadata": {},
   "outputs": [],
   "source": []
  }
 ],
 "metadata": {
  "kernelspec": {
   "display_name": "Python 3",
   "language": "python",
   "name": "python3"
  },
  "language_info": {
   "codemirror_mode": {
    "name": "ipython",
    "version": 3
   },
   "file_extension": ".py",
   "mimetype": "text/x-python",
   "name": "python",
   "nbconvert_exporter": "python",
   "pygments_lexer": "ipython3",
   "version": "3.8.0"
  },
  "orig_nbformat": 4,
  "vscode": {
   "interpreter": {
    "hash": "46a5e820fae5c01f8ab8f3b920045ce887673a37bd422c73202f4e116d9bb3c0"
   }
  }
 },
 "nbformat": 4,
 "nbformat_minor": 2
}
