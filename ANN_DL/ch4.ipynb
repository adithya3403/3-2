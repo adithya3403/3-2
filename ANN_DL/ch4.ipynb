{
 "cells": [
  {
   "attachments": {},
   "cell_type": "markdown",
   "metadata": {},
   "source": [
    "# CHAPTER 4: BASIC TENSORFLOW"
   ]
  },
  {
   "cell_type": "code",
   "execution_count": 1,
   "metadata": {},
   "outputs": [
    {
     "data": {
      "text/plain": [
       "'2.11.0'"
      ]
     },
     "execution_count": 1,
     "metadata": {},
     "output_type": "execute_result"
    }
   ],
   "source": [
    "import numpy as np\n",
    "import tensorflow as tf\n",
    "from tensorflow import keras\n",
    "from keras import layers\n",
    "tf.__version__"
   ]
  },
  {
   "attachments": {},
   "cell_type": "markdown",
   "metadata": {},
   "source": [
    "## 4.1 Data Types"
   ]
  },
  {
   "attachments": {},
   "cell_type": "markdown",
   "metadata": {},
   "source": [
    "### Numeric"
   ]
  },
  {
   "cell_type": "code",
   "execution_count": 2,
   "metadata": {},
   "outputs": [
    {
     "data": {
      "text/plain": [
       "(float, tensorflow.python.framework.ops.EagerTensor, True)"
      ]
     },
     "execution_count": 2,
     "metadata": {},
     "output_type": "execute_result"
    }
   ],
   "source": [
    "a=1.2\n",
    "aa=tf.constant(1.2)\n",
    "type(a), type(aa), tf.is_tensor(aa)"
   ]
  },
  {
   "cell_type": "code",
   "execution_count": 3,
   "metadata": {},
   "outputs": [
    {
     "data": {
      "text/plain": [
       "<tf.Tensor: shape=(3,), dtype=float32, numpy=array([1. , 2. , 3.3], dtype=float32)>"
      ]
     },
     "execution_count": 3,
     "metadata": {},
     "output_type": "execute_result"
    }
   ],
   "source": [
    "x=tf.constant([1, 2., 3.3])\n",
    "x"
   ]
  },
  {
   "cell_type": "code",
   "execution_count": 4,
   "metadata": {},
   "outputs": [
    {
     "data": {
      "text/plain": [
       "array([1. , 2. , 3.3], dtype=float32)"
      ]
     },
     "execution_count": 4,
     "metadata": {},
     "output_type": "execute_result"
    }
   ],
   "source": [
    "x.numpy()"
   ]
  },
  {
   "cell_type": "code",
   "execution_count": 5,
   "metadata": {},
   "outputs": [
    {
     "data": {
      "text/plain": [
       "(<tf.Tensor: shape=(1,), dtype=float32, numpy=array([1.2], dtype=float32)>,\n",
       " TensorShape([1]))"
      ]
     },
     "execution_count": 5,
     "metadata": {},
     "output_type": "execute_result"
    }
   ],
   "source": [
    "a=tf.constant([1.2])\n",
    "a, a.shape"
   ]
  },
  {
   "cell_type": "code",
   "execution_count": 6,
   "metadata": {},
   "outputs": [
    {
     "data": {
      "text/plain": [
       "(<tf.Tensor: shape=(3,), dtype=float32, numpy=array([1., 2., 3.], dtype=float32)>,\n",
       " TensorShape([3]))"
      ]
     },
     "execution_count": 6,
     "metadata": {},
     "output_type": "execute_result"
    }
   ],
   "source": [
    "a=tf.constant([1, 2, 3.])\n",
    "a, a.shape"
   ]
  },
  {
   "cell_type": "code",
   "execution_count": 7,
   "metadata": {},
   "outputs": [
    {
     "data": {
      "text/plain": [
       "(<tf.Tensor: shape=(2, 2), dtype=int32, numpy=\n",
       " array([[1, 2],\n",
       "        [3, 4]])>,\n",
       " TensorShape([2, 2]))"
      ]
     },
     "execution_count": 7,
     "metadata": {},
     "output_type": "execute_result"
    }
   ],
   "source": [
    "a=tf.constant([[1,2],[3,4]])\n",
    "a, a.shape"
   ]
  },
  {
   "cell_type": "code",
   "execution_count": 8,
   "metadata": {},
   "outputs": [
    {
     "data": {
      "text/plain": [
       "(<tf.Tensor: shape=(2, 2, 2), dtype=int32, numpy=\n",
       " array([[[1, 2],\n",
       "         [3, 4]],\n",
       " \n",
       "        [[5, 6],\n",
       "         [7, 8]]])>,\n",
       " TensorShape([2, 2, 2]))"
      ]
     },
     "execution_count": 8,
     "metadata": {},
     "output_type": "execute_result"
    }
   ],
   "source": [
    "a=tf.constant([[[1,2],[3,4]], [[5,6],[7,8]]])\n",
    "a, a.shape"
   ]
  },
  {
   "attachments": {},
   "cell_type": "markdown",
   "metadata": {},
   "source": [
    "### String"
   ]
  },
  {
   "cell_type": "code",
   "execution_count": 9,
   "metadata": {},
   "outputs": [
    {
     "data": {
      "text/plain": [
       "<tf.Tensor: shape=(), dtype=string, numpy=b'Hello, Deep learning'>"
      ]
     },
     "execution_count": 9,
     "metadata": {},
     "output_type": "execute_result"
    }
   ],
   "source": [
    "a=tf.constant('Hello, Deep learning')\n",
    "a"
   ]
  },
  {
   "cell_type": "code",
   "execution_count": 10,
   "metadata": {},
   "outputs": [
    {
     "data": {
      "text/plain": [
       "<tf.Tensor: shape=(), dtype=string, numpy=b'hello, deep learning'>"
      ]
     },
     "execution_count": 10,
     "metadata": {},
     "output_type": "execute_result"
    }
   ],
   "source": [
    "tf.strings.lower(a)"
   ]
  },
  {
   "attachments": {},
   "cell_type": "markdown",
   "metadata": {},
   "source": [
    "### Boolean"
   ]
  },
  {
   "cell_type": "code",
   "execution_count": 11,
   "metadata": {},
   "outputs": [
    {
     "data": {
      "text/plain": [
       "<tf.Tensor: shape=(), dtype=bool, numpy=True>"
      ]
     },
     "execution_count": 11,
     "metadata": {},
     "output_type": "execute_result"
    }
   ],
   "source": [
    "a=tf.constant(True)\n",
    "a"
   ]
  },
  {
   "cell_type": "code",
   "execution_count": 12,
   "metadata": {},
   "outputs": [
    {
     "data": {
      "text/plain": [
       "<tf.Tensor: shape=(2,), dtype=bool, numpy=array([ True, False])>"
      ]
     },
     "execution_count": 12,
     "metadata": {},
     "output_type": "execute_result"
    }
   ],
   "source": [
    "a=tf.constant([True, False])\n",
    "a"
   ]
  },
  {
   "cell_type": "code",
   "execution_count": 13,
   "metadata": {},
   "outputs": [
    {
     "data": {
      "text/plain": [
       "False"
      ]
     },
     "execution_count": 13,
     "metadata": {},
     "output_type": "execute_result"
    }
   ],
   "source": [
    "a=tf.constant(True)\n",
    "a is True"
   ]
  },
  {
   "cell_type": "code",
   "execution_count": 14,
   "metadata": {},
   "outputs": [
    {
     "data": {
      "text/plain": [
       "<tf.Tensor: shape=(), dtype=bool, numpy=True>"
      ]
     },
     "execution_count": 14,
     "metadata": {},
     "output_type": "execute_result"
    }
   ],
   "source": [
    "a==True"
   ]
  },
  {
   "attachments": {},
   "cell_type": "markdown",
   "metadata": {},
   "source": [
    "## 4.2 Numerical Precision"
   ]
  },
  {
   "cell_type": "code",
   "execution_count": 15,
   "metadata": {},
   "outputs": [
    {
     "data": {
      "text/plain": [
       "<tf.Tensor: shape=(), dtype=int32, numpy=123456789>"
      ]
     },
     "execution_count": 15,
     "metadata": {},
     "output_type": "execute_result"
    }
   ],
   "source": [
    "tf.constant(123456789, dtype=tf.int16)\n",
    "tf.constant(123456789, dtype=tf.int32)"
   ]
  },
  {
   "cell_type": "code",
   "execution_count": 16,
   "metadata": {},
   "outputs": [
    {
     "data": {
      "text/plain": [
       "<tf.Tensor: shape=(), dtype=float32, numpy=3.1415927>"
      ]
     },
     "execution_count": 16,
     "metadata": {},
     "output_type": "execute_result"
    }
   ],
   "source": [
    "tf.constant(np.pi, dtype=tf.float32)"
   ]
  },
  {
   "cell_type": "code",
   "execution_count": 17,
   "metadata": {},
   "outputs": [
    {
     "data": {
      "text/plain": [
       "<tf.Tensor: shape=(), dtype=float64, numpy=3.141592653589793>"
      ]
     },
     "execution_count": 17,
     "metadata": {},
     "output_type": "execute_result"
    }
   ],
   "source": [
    "tf.constant(np.pi, dtype=tf.float64)"
   ]
  },
  {
   "cell_type": "code",
   "execution_count": 18,
   "metadata": {},
   "outputs": [
    {
     "name": "stdout",
     "output_type": "stream",
     "text": [
      "before: <dtype: 'float16'>\n",
      "after: <dtype: 'float32'>\n"
     ]
    }
   ],
   "source": [
    "a=tf.constant(np.pi, dtype=tf.float16)\n",
    "print('before:', a.dtype)\n",
    "if a.dtype!=tf.float32:\n",
    "    a=tf.cast(a, tf.float32)\n",
    "print('after:', a.dtype)"
   ]
  },
  {
   "cell_type": "code",
   "execution_count": 19,
   "metadata": {},
   "outputs": [
    {
     "data": {
      "text/plain": [
       "<tf.Tensor: shape=(), dtype=int16, numpy=-13035>"
      ]
     },
     "execution_count": 19,
     "metadata": {},
     "output_type": "execute_result"
    }
   ],
   "source": [
    "a=tf.constant(123456789, dtype=tf.int32)\n",
    "tf.cast(a, tf.int16)"
   ]
  },
  {
   "cell_type": "code",
   "execution_count": 20,
   "metadata": {},
   "outputs": [
    {
     "data": {
      "text/plain": [
       "<tf.Tensor: shape=(2,), dtype=int32, numpy=array([1, 0])>"
      ]
     },
     "execution_count": 20,
     "metadata": {},
     "output_type": "execute_result"
    }
   ],
   "source": [
    "a=tf.constant([True, False])\n",
    "tf.cast(a, tf.int32)"
   ]
  },
  {
   "cell_type": "code",
   "execution_count": 21,
   "metadata": {},
   "outputs": [
    {
     "data": {
      "text/plain": [
       "<tf.Tensor: shape=(4,), dtype=bool, numpy=array([ True, False,  True,  True])>"
      ]
     },
     "execution_count": 21,
     "metadata": {},
     "output_type": "execute_result"
    }
   ],
   "source": [
    "a=tf.constant([-1, 0, 1, 2])\n",
    "tf.cast(a, tf.bool)"
   ]
  },
  {
   "attachments": {},
   "cell_type": "markdown",
   "metadata": {},
   "source": [
    "## 4.3 Tensors to be optimized"
   ]
  },
  {
   "cell_type": "code",
   "execution_count": 22,
   "metadata": {},
   "outputs": [
    {
     "data": {
      "text/plain": [
       "('Variable:0', True)"
      ]
     },
     "execution_count": 22,
     "metadata": {},
     "output_type": "execute_result"
    }
   ],
   "source": [
    "a=tf.constant([-1, 0, 1, 2])\n",
    "aa=tf.Variable(a)\n",
    "aa.name, aa.trainable"
   ]
  },
  {
   "cell_type": "code",
   "execution_count": 23,
   "metadata": {},
   "outputs": [
    {
     "data": {
      "text/plain": [
       "<tf.Variable 'Variable:0' shape=(2, 2) dtype=int32, numpy=\n",
       "array([[1, 2],\n",
       "       [3, 4]])>"
      ]
     },
     "execution_count": 23,
     "metadata": {},
     "output_type": "execute_result"
    }
   ],
   "source": [
    "a=tf.Variable([[1,2],[3,4]])\n",
    "a"
   ]
  },
  {
   "attachments": {},
   "cell_type": "markdown",
   "metadata": {},
   "source": [
    "## 4.4 Create Tensors"
   ]
  },
  {
   "attachments": {},
   "cell_type": "markdown",
   "metadata": {},
   "source": [
    "### Create tensors from arrays and lists"
   ]
  },
  {
   "cell_type": "code",
   "execution_count": 24,
   "metadata": {},
   "outputs": [
    {
     "data": {
      "text/plain": [
       "<tf.Tensor: shape=(2,), dtype=float32, numpy=array([1., 2.], dtype=float32)>"
      ]
     },
     "execution_count": 24,
     "metadata": {},
     "output_type": "execute_result"
    }
   ],
   "source": [
    "# create tensor from python list\n",
    "tf.convert_to_tensor([1, 2.])"
   ]
  },
  {
   "cell_type": "code",
   "execution_count": 25,
   "metadata": {},
   "outputs": [
    {
     "data": {
      "text/plain": [
       "<tf.Tensor: shape=(2, 2), dtype=float64, numpy=\n",
       "array([[1., 2.],\n",
       "       [3., 4.]])>"
      ]
     },
     "execution_count": 25,
     "metadata": {},
     "output_type": "execute_result"
    }
   ],
   "source": [
    "# create a tensor from numpy array\n",
    "tf.convert_to_tensor(np.array([[1,2.],[3,4]]))"
   ]
  },
  {
   "cell_type": "markdown",
   "metadata": {},
   "source": [
    "### create all-0 or all-1 tensors"
   ]
  },
  {
   "cell_type": "code",
   "execution_count": 26,
   "metadata": {},
   "outputs": [
    {
     "data": {
      "text/plain": [
       "(<tf.Tensor: shape=(), dtype=float32, numpy=0.0>,\n",
       " <tf.Tensor: shape=(), dtype=float32, numpy=1.0>)"
      ]
     },
     "execution_count": 26,
     "metadata": {},
     "output_type": "execute_result"
    }
   ],
   "source": [
    "tf.zeros([]), tf.ones([])"
   ]
  },
  {
   "cell_type": "code",
   "execution_count": 27,
   "metadata": {},
   "outputs": [
    {
     "data": {
      "text/plain": [
       "(<tf.Tensor: shape=(1,), dtype=float32, numpy=array([0.], dtype=float32)>,\n",
       " <tf.Tensor: shape=(1,), dtype=float32, numpy=array([1.], dtype=float32)>)"
      ]
     },
     "execution_count": 27,
     "metadata": {},
     "output_type": "execute_result"
    }
   ],
   "source": [
    "tf.zeros([1]), tf.ones([1])"
   ]
  },
  {
   "cell_type": "code",
   "execution_count": 28,
   "metadata": {},
   "outputs": [
    {
     "data": {
      "text/plain": [
       "<tf.Tensor: shape=(2, 2), dtype=float32, numpy=\n",
       "array([[0., 0.],\n",
       "       [0., 0.]], dtype=float32)>"
      ]
     },
     "execution_count": 28,
     "metadata": {},
     "output_type": "execute_result"
    }
   ],
   "source": [
    "tf.zeros([2,2])"
   ]
  },
  {
   "cell_type": "code",
   "execution_count": 29,
   "metadata": {},
   "outputs": [
    {
     "data": {
      "text/plain": [
       "<tf.Tensor: shape=(3, 2), dtype=float32, numpy=\n",
       "array([[1., 1.],\n",
       "       [1., 1.],\n",
       "       [1., 1.]], dtype=float32)>"
      ]
     },
     "execution_count": 29,
     "metadata": {},
     "output_type": "execute_result"
    }
   ],
   "source": [
    "tf.ones([3,2])"
   ]
  },
  {
   "cell_type": "code",
   "execution_count": 30,
   "metadata": {},
   "outputs": [
    {
     "data": {
      "text/plain": [
       "<tf.Tensor: shape=(2, 3), dtype=float32, numpy=\n",
       "array([[0., 0., 0.],\n",
       "       [0., 0., 0.]], dtype=float32)>"
      ]
     },
     "execution_count": 30,
     "metadata": {},
     "output_type": "execute_result"
    }
   ],
   "source": [
    "a=tf.ones([2,3])\n",
    "tf.zeros_like(a)"
   ]
  },
  {
   "cell_type": "code",
   "execution_count": 31,
   "metadata": {},
   "outputs": [
    {
     "data": {
      "text/plain": [
       "<tf.Tensor: shape=(3, 2), dtype=float32, numpy=\n",
       "array([[0., 0.],\n",
       "       [0., 0.],\n",
       "       [0., 0.]], dtype=float32)>"
      ]
     },
     "execution_count": 31,
     "metadata": {},
     "output_type": "execute_result"
    }
   ],
   "source": [
    "a=tf.zeros([3, 2])\n",
    "tf.zeros_like(a)"
   ]
  },
  {
   "cell_type": "markdown",
   "metadata": {},
   "source": [
    "### create customized numeric tensor"
   ]
  },
  {
   "cell_type": "code",
   "execution_count": 32,
   "metadata": {},
   "outputs": [
    {
     "data": {
      "text/plain": [
       "<tf.Tensor: shape=(), dtype=int32, numpy=-1>"
      ]
     },
     "execution_count": 32,
     "metadata": {},
     "output_type": "execute_result"
    }
   ],
   "source": [
    "tf.fill([], -1)"
   ]
  },
  {
   "cell_type": "code",
   "execution_count": 33,
   "metadata": {},
   "outputs": [
    {
     "data": {
      "text/plain": [
       "<tf.Tensor: shape=(1,), dtype=int32, numpy=array([-1])>"
      ]
     },
     "execution_count": 33,
     "metadata": {},
     "output_type": "execute_result"
    }
   ],
   "source": [
    "tf.fill([1], -1)"
   ]
  },
  {
   "cell_type": "code",
   "execution_count": 34,
   "metadata": {},
   "outputs": [
    {
     "data": {
      "text/plain": [
       "<tf.Tensor: shape=(2, 2), dtype=int32, numpy=\n",
       "array([[99, 99],\n",
       "       [99, 99]])>"
      ]
     },
     "execution_count": 34,
     "metadata": {},
     "output_type": "execute_result"
    }
   ],
   "source": [
    "tf.fill([2,2], 99)"
   ]
  },
  {
   "cell_type": "markdown",
   "metadata": {},
   "source": [
    "### create tensor from known distribution"
   ]
  },
  {
   "cell_type": "code",
   "execution_count": 35,
   "metadata": {},
   "outputs": [
    {
     "data": {
      "text/plain": [
       "<tf.Tensor: shape=(2, 2), dtype=float32, numpy=\n",
       "array([[ 0.10706927, -0.4606232 ],\n",
       "       [-1.0716251 , -1.5224437 ]], dtype=float32)>"
      ]
     },
     "execution_count": 35,
     "metadata": {},
     "output_type": "execute_result"
    }
   ],
   "source": [
    "tf.random.normal([2,2])"
   ]
  },
  {
   "cell_type": "code",
   "execution_count": 36,
   "metadata": {},
   "outputs": [
    {
     "data": {
      "text/plain": [
       "<tf.Tensor: shape=(2, 2), dtype=float32, numpy=\n",
       "array([[ 0.45006955, -1.3386152 ],\n",
       "       [ 0.24530464,  0.6020783 ]], dtype=float32)>"
      ]
     },
     "execution_count": 36,
     "metadata": {},
     "output_type": "execute_result"
    }
   ],
   "source": [
    "tf.random.normal([2,2], mean=1, stddev=2)"
   ]
  },
  {
   "cell_type": "code",
   "execution_count": 37,
   "metadata": {},
   "outputs": [
    {
     "data": {
      "text/plain": [
       "<tf.Tensor: shape=(2, 2), dtype=float32, numpy=\n",
       "array([[0.91676307, 0.14937091],\n",
       "       [0.8011174 , 0.6990485 ]], dtype=float32)>"
      ]
     },
     "execution_count": 37,
     "metadata": {},
     "output_type": "execute_result"
    }
   ],
   "source": [
    "tf.random.uniform([2,2])"
   ]
  },
  {
   "cell_type": "code",
   "execution_count": 38,
   "metadata": {},
   "outputs": [
    {
     "data": {
      "text/plain": [
       "<tf.Tensor: shape=(2, 2), dtype=float32, numpy=\n",
       "array([[8.7158   , 4.0560207],\n",
       "       [9.99645  , 3.9650702]], dtype=float32)>"
      ]
     },
     "execution_count": 38,
     "metadata": {},
     "output_type": "execute_result"
    }
   ],
   "source": [
    "tf.random.uniform([2,2], maxval=10)"
   ]
  },
  {
   "cell_type": "code",
   "execution_count": 39,
   "metadata": {},
   "outputs": [
    {
     "data": {
      "text/plain": [
       "<tf.Tensor: shape=(2, 2), dtype=int32, numpy=\n",
       "array([[90, 39],\n",
       "       [14, 26]])>"
      ]
     },
     "execution_count": 39,
     "metadata": {},
     "output_type": "execute_result"
    }
   ],
   "source": [
    "# create an integer tensor from a unifrom distribution with interval [0, 100)\n",
    "tf.random.uniform([2,2], maxval=100, dtype=tf.int32)"
   ]
  },
  {
   "cell_type": "markdown",
   "metadata": {},
   "source": [
    "### create a sequence"
   ]
  },
  {
   "cell_type": "code",
   "execution_count": 40,
   "metadata": {},
   "outputs": [
    {
     "data": {
      "text/plain": [
       "<tf.Tensor: shape=(10,), dtype=int32, numpy=array([0, 1, 2, 3, 4, 5, 6, 7, 8, 9])>"
      ]
     },
     "execution_count": 40,
     "metadata": {},
     "output_type": "execute_result"
    }
   ],
   "source": [
    "tf.range(10)"
   ]
  },
  {
   "cell_type": "code",
   "execution_count": 41,
   "metadata": {},
   "outputs": [
    {
     "data": {
      "text/plain": [
       "<tf.Tensor: shape=(5,), dtype=int32, numpy=array([0, 2, 4, 6, 8])>"
      ]
     },
     "execution_count": 41,
     "metadata": {},
     "output_type": "execute_result"
    }
   ],
   "source": [
    "tf.range(10, delta=2)"
   ]
  },
  {
   "cell_type": "code",
   "execution_count": 42,
   "metadata": {},
   "outputs": [
    {
     "data": {
      "text/plain": [
       "<tf.Tensor: shape=(5,), dtype=int32, numpy=array([1, 3, 5, 7, 9])>"
      ]
     },
     "execution_count": 42,
     "metadata": {},
     "output_type": "execute_result"
    }
   ],
   "source": [
    "tf.range(1, 10, delta=2)"
   ]
  },
  {
   "attachments": {},
   "cell_type": "markdown",
   "metadata": {},
   "source": [
    "## 4.5 typical applications of tensors"
   ]
  },
  {
   "attachments": {},
   "cell_type": "markdown",
   "metadata": {},
   "source": [
    "### scalar"
   ]
  },
  {
   "cell_type": "code",
   "execution_count": 43,
   "metadata": {},
   "outputs": [
    {
     "data": {
      "text/plain": [
       "<tf.Tensor: shape=(), dtype=float32, numpy=0.35842633>"
      ]
     },
     "execution_count": 43,
     "metadata": {},
     "output_type": "execute_result"
    }
   ],
   "source": [
    "out=tf.random.uniform([4,10])\n",
    "y=tf.constant([2,3,2,0])\n",
    "y=tf.one_hot(y, depth=10)\n",
    "loss=tf.keras.losses.mse(y, out)\n",
    "loss=tf.reduce_mean(loss)\n",
    "loss"
   ]
  },
  {
   "cell_type": "markdown",
   "metadata": {},
   "source": [
    "### vector"
   ]
  },
  {
   "cell_type": "code",
   "execution_count": 44,
   "metadata": {},
   "outputs": [
    {
     "data": {
      "text/plain": [
       "<tf.Tensor: shape=(4, 2), dtype=float32, numpy=\n",
       "array([[-0.51895124,  1.2884717 ],\n",
       "       [-0.57874423,  0.39116022],\n",
       "       [ 0.6660625 ,  0.96317625],\n",
       "       [ 1.0576186 , -0.4307586 ]], dtype=float32)>"
      ]
     },
     "execution_count": 44,
     "metadata": {},
     "output_type": "execute_result"
    }
   ],
   "source": [
    "# suppose z is the output of an activation function\n",
    "z=tf.random.normal([4,2])\n",
    "b=tf.zeros([2])\n",
    "z=z+b\n",
    "z"
   ]
  },
  {
   "cell_type": "code",
   "execution_count": 45,
   "metadata": {},
   "outputs": [
    {
     "data": {
      "text/plain": [
       "<tf.Variable 'bias:0' shape=(3,) dtype=float32, numpy=array([0., 0., 0.], dtype=float32)>"
      ]
     },
     "execution_count": 45,
     "metadata": {},
     "output_type": "execute_result"
    }
   ],
   "source": [
    "fc=layers.Dense(3)\n",
    "fc.build(input_shape=(2, 4))\n",
    "fc.bias"
   ]
  },
  {
   "attachments": {},
   "cell_type": "markdown",
   "metadata": {},
   "source": [
    "### matrix"
   ]
  },
  {
   "cell_type": "code",
   "execution_count": 46,
   "metadata": {},
   "outputs": [
    {
     "data": {
      "text/plain": [
       "<tf.Tensor: shape=(4, 3), dtype=float32, numpy=\n",
       "array([[1. , 2. , 3.3],\n",
       "       [1. , 2. , 3.3],\n",
       "       [1. , 2. , 3.3],\n",
       "       [1. , 2. , 3.3]], dtype=float32)>"
      ]
     },
     "execution_count": 46,
     "metadata": {},
     "output_type": "execute_result"
    }
   ],
   "source": [
    "w=tf.ones([4,3])\n",
    "b=tf.zeros([3])\n",
    "o=x@w+b # @ means matrix multiplication\n",
    "o"
   ]
  },
  {
   "cell_type": "code",
   "execution_count": 47,
   "metadata": {},
   "outputs": [
    {
     "data": {
      "text/plain": [
       "<tf.Variable 'kernel:0' shape=(4, 3) dtype=float32, numpy=\n",
       "array([[-0.77059996, -0.68097675, -0.40924263],\n",
       "       [ 0.313367  ,  0.42157674, -0.19340819],\n",
       "       [-0.08502579, -0.25694853,  0.25207984],\n",
       "       [-0.29850125,  0.8257313 ,  0.8355087 ]], dtype=float32)>"
      ]
     },
     "execution_count": 47,
     "metadata": {},
     "output_type": "execute_result"
    }
   ],
   "source": [
    "fc=layers.Dense(3)\n",
    "fc.build(input_shape=(2, 4))\n",
    "fc.kernel"
   ]
  },
  {
   "attachments": {},
   "cell_type": "markdown",
   "metadata": {},
   "source": [
    "### 3d-tensor"
   ]
  },
  {
   "cell_type": "code",
   "execution_count": 48,
   "metadata": {},
   "outputs": [
    {
     "data": {
      "text/plain": [
       "(25000, 80)"
      ]
     },
     "execution_count": 48,
     "metadata": {},
     "output_type": "execute_result"
    }
   ],
   "source": [
    "(x_train, y_train), (x_test, y_test)=keras.datasets.imdb.load_data(num_words=10000)\n",
    "x_train=keras.preprocessing.sequence.pad_sequences(x_train, maxlen=80)\n",
    "x_train.shape"
   ]
  },
  {
   "cell_type": "code",
   "execution_count": 49,
   "metadata": {},
   "outputs": [
    {
     "data": {
      "text/plain": [
       "TensorShape([25000, 80, 100])"
      ]
     },
     "execution_count": 49,
     "metadata": {},
     "output_type": "execute_result"
    }
   ],
   "source": [
    "embedding=layers.Embedding(10000, 100)\n",
    "out=embedding(x_train)\n",
    "out.shape"
   ]
  },
  {
   "attachments": {},
   "cell_type": "markdown",
   "metadata": {},
   "source": [
    "### 4d-tensor"
   ]
  },
  {
   "cell_type": "code",
   "execution_count": 50,
   "metadata": {},
   "outputs": [
    {
     "data": {
      "text/plain": [
       "TensorShape([4, 30, 30, 16])"
      ]
     },
     "execution_count": 50,
     "metadata": {},
     "output_type": "execute_result"
    }
   ],
   "source": [
    "x=tf.random.normal([4,32,32,3])\n",
    "layer=layers.Conv2D(16, kernel_size=3)\n",
    "out=layer(x)\n",
    "out.shape"
   ]
  },
  {
   "cell_type": "markdown",
   "metadata": {},
   "source": [
    "## 4.6 Indexing and Slicing"
   ]
  },
  {
   "attachments": {},
   "cell_type": "markdown",
   "metadata": {},
   "source": [
    "### indexing"
   ]
  },
  {
   "cell_type": "code",
   "execution_count": 51,
   "metadata": {},
   "outputs": [
    {
     "data": {
      "text/plain": [
       "<tf.Tensor: shape=(32, 32, 3), dtype=float32, numpy=\n",
       "array([[[ 0.58489954,  0.06275843,  1.5943791 ],\n",
       "        [ 1.8956033 ,  0.9918764 ,  1.25936   ],\n",
       "        [ 0.52050024, -1.2179135 , -0.36255682],\n",
       "        ...,\n",
       "        [ 0.05568027, -2.0612955 ,  0.26560163],\n",
       "        [-0.5798008 , -0.2716227 , -0.67806345],\n",
       "        [-0.02721567, -0.4402337 ,  1.2151496 ]],\n",
       "\n",
       "       [[-1.055544  ,  1.0230336 ,  0.18395258],\n",
       "        [ 0.749045  ,  1.1748412 , -0.18624783],\n",
       "        [ 0.5541873 , -0.653913  , -0.25883344],\n",
       "        ...,\n",
       "        [-0.67612207,  0.44866332, -0.8326048 ],\n",
       "        [-0.21540287,  0.01959279,  0.97187   ],\n",
       "        [-0.95871246, -1.2917789 , -0.03424413]],\n",
       "\n",
       "       [[-0.467682  ,  1.2481059 , -1.4969276 ],\n",
       "        [-0.8797108 , -0.17354377, -0.3757575 ],\n",
       "        [ 2.6121695 ,  0.01694001, -1.1339674 ],\n",
       "        ...,\n",
       "        [ 0.01416801,  2.1497447 , -0.8152111 ],\n",
       "        [-1.7688156 ,  0.6822554 , -0.29286927],\n",
       "        [ 1.4857715 ,  0.58258486, -0.8073743 ]],\n",
       "\n",
       "       ...,\n",
       "\n",
       "       [[-0.70150954,  0.29890493,  0.957537  ],\n",
       "        [-0.788064  , -0.36780554,  1.6941007 ],\n",
       "        [ 2.0817409 ,  0.3741115 , -1.301348  ],\n",
       "        ...,\n",
       "        [ 0.13947728, -0.9921772 , -1.1613282 ],\n",
       "        [-0.07824112, -0.59666777, -0.12845924],\n",
       "        [ 1.1201665 ,  1.1327555 ,  0.7431219 ]],\n",
       "\n",
       "       [[ 0.7575319 ,  0.49200124,  1.312425  ],\n",
       "        [-0.01563282,  0.25672796,  0.8777374 ],\n",
       "        [-0.19954515, -2.5414379 , -0.5721664 ],\n",
       "        ...,\n",
       "        [ 0.27702993, -0.68449414,  0.766105  ],\n",
       "        [ 2.1633258 , -1.3499582 , -1.3331618 ],\n",
       "        [ 0.36060053, -0.865196  , -0.22479482]],\n",
       "\n",
       "       [[ 1.4549489 , -0.545594  , -0.87917364],\n",
       "        [-0.23180892,  0.8139069 ,  0.4644656 ],\n",
       "        [-1.3341326 , -0.16748743, -1.2348415 ],\n",
       "        ...,\n",
       "        [ 0.9725463 ,  0.4023909 ,  0.6001087 ],\n",
       "        [-0.26057017,  0.25978354, -0.82061756],\n",
       "        [ 1.400017  ,  0.00584223, -0.7922644 ]]], dtype=float32)>"
      ]
     },
     "execution_count": 51,
     "metadata": {},
     "output_type": "execute_result"
    }
   ],
   "source": [
    "x=tf.random.normal([4,32,32,3])\n",
    "x[0]"
   ]
  },
  {
   "cell_type": "code",
   "execution_count": 52,
   "metadata": {},
   "outputs": [
    {
     "data": {
      "text/plain": [
       "<tf.Tensor: shape=(32, 3), dtype=float32, numpy=\n",
       "array([[-1.055544  ,  1.0230336 ,  0.18395258],\n",
       "       [ 0.749045  ,  1.1748412 , -0.18624783],\n",
       "       [ 0.5541873 , -0.653913  , -0.25883344],\n",
       "       [ 0.4942375 , -0.41841042,  0.8599759 ],\n",
       "       [-0.04771643,  0.6819991 ,  0.17461777],\n",
       "       [-0.46340644,  1.1941372 ,  0.21404183],\n",
       "       [-0.8864758 ,  0.3159479 ,  2.1483197 ],\n",
       "       [ 0.23068067, -0.11443833,  0.9767965 ],\n",
       "       [-0.39456043,  0.6322146 , -0.05917358],\n",
       "       [ 1.3782333 ,  0.6389279 , -1.472526  ],\n",
       "       [ 0.7302049 ,  0.75173473, -0.8056534 ],\n",
       "       [ 0.34095052,  1.0539069 , -0.03312985],\n",
       "       [-0.02612858, -0.9814218 , -0.10714734],\n",
       "       [ 0.30670062,  0.6634574 , -0.7249617 ],\n",
       "       [-0.9625482 ,  0.6742338 , -2.3315208 ],\n",
       "       [ 0.21187401,  0.9183136 ,  2.2035346 ],\n",
       "       [-1.5654751 ,  2.1758885 , -0.42830244],\n",
       "       [-0.5697059 ,  0.51741725, -0.8991917 ],\n",
       "       [-0.23051141,  0.02825477, -2.7887986 ],\n",
       "       [-1.6417834 ,  1.0837599 , -0.03414381],\n",
       "       [-1.105166  ,  1.1671232 , -0.07285117],\n",
       "       [-0.17505327,  0.64873916,  0.186682  ],\n",
       "       [ 0.65582824,  0.33415344,  0.90743303],\n",
       "       [ 0.19802772, -1.4378775 , -0.09410487],\n",
       "       [ 0.91715866, -0.6096622 ,  0.7140218 ],\n",
       "       [ 0.7715292 , -0.20236668,  0.40958738],\n",
       "       [ 0.81343734,  0.6811561 ,  2.103012  ],\n",
       "       [-1.1175143 , -1.0428995 , -0.8218029 ],\n",
       "       [ 1.064723  , -1.2924162 ,  0.65860665],\n",
       "       [-0.67612207,  0.44866332, -0.8326048 ],\n",
       "       [-0.21540287,  0.01959279,  0.97187   ],\n",
       "       [-0.95871246, -1.2917789 , -0.03424413]], dtype=float32)>"
      ]
     },
     "execution_count": 52,
     "metadata": {},
     "output_type": "execute_result"
    }
   ],
   "source": [
    "x[0][1]"
   ]
  },
  {
   "cell_type": "code",
   "execution_count": 53,
   "metadata": {},
   "outputs": [
    {
     "data": {
      "text/plain": [
       "<tf.Tensor: shape=(3,), dtype=float32, numpy=array([ 0.5541873 , -0.653913  , -0.25883344], dtype=float32)>"
      ]
     },
     "execution_count": 53,
     "metadata": {},
     "output_type": "execute_result"
    }
   ],
   "source": [
    "x[0][1][2]"
   ]
  },
  {
   "cell_type": "code",
   "execution_count": 54,
   "metadata": {},
   "outputs": [
    {
     "data": {
      "text/plain": [
       "<tf.Tensor: shape=(), dtype=float32, numpy=-0.62113434>"
      ]
     },
     "execution_count": 54,
     "metadata": {},
     "output_type": "execute_result"
    }
   ],
   "source": [
    "x[2][1][0][2]"
   ]
  },
  {
   "cell_type": "code",
   "execution_count": 55,
   "metadata": {},
   "outputs": [
    {
     "data": {
      "text/plain": [
       "<tf.Tensor: shape=(3,), dtype=float32, numpy=array([-0.989374  , -2.1656044 , -0.32122838], dtype=float32)>"
      ]
     },
     "execution_count": 55,
     "metadata": {},
     "output_type": "execute_result"
    }
   ],
   "source": [
    "x[1,9,2]"
   ]
  },
  {
   "attachments": {},
   "cell_type": "markdown",
   "metadata": {},
   "source": [
    "### slicing"
   ]
  },
  {
   "cell_type": "code",
   "execution_count": 56,
   "metadata": {},
   "outputs": [
    {
     "data": {
      "text/plain": [
       "<tf.Tensor: shape=(2, 32, 32, 3), dtype=float32, numpy=\n",
       "array([[[[-7.62470484e-01,  3.18159997e-01,  7.32169211e-01],\n",
       "         [ 1.38335848e+00,  1.92868367e-01, -8.72530818e-01],\n",
       "         [ 1.06529987e+00,  1.36670101e+00,  3.36004615e-01],\n",
       "         ...,\n",
       "         [ 4.85857099e-01,  2.61799157e-01,  7.59130359e-01],\n",
       "         [-1.02379847e+00, -8.15904737e-01,  4.66082722e-01],\n",
       "         [-2.49721054e-02, -9.19667721e-01, -4.39888954e-01]],\n",
       "\n",
       "        [[-1.19365418e+00, -1.89660037e+00, -3.25177670e-01],\n",
       "         [-8.02219331e-01, -9.29692566e-01, -6.95839643e-01],\n",
       "         [ 9.09295455e-02, -1.06787793e-02, -4.32808369e-01],\n",
       "         ...,\n",
       "         [ 1.56434387e-01,  1.17302716e+00, -5.88435054e-01],\n",
       "         [-6.60356581e-02, -9.64426637e-01,  6.26503229e-01],\n",
       "         [-3.98458719e-01,  6.56541526e-01,  3.63128304e-01]],\n",
       "\n",
       "        [[-9.24271882e-01, -5.29383004e-01, -1.20852840e+00],\n",
       "         [-1.82894182e+00, -1.26901722e+00, -2.68790778e-03],\n",
       "         [ 7.79010177e-01, -8.05269480e-01, -1.15062606e+00],\n",
       "         ...,\n",
       "         [-1.50228477e+00,  2.53099799e-01, -5.11729121e-02],\n",
       "         [ 1.30717957e+00, -2.35527682e+00,  1.35673177e+00],\n",
       "         [ 3.69113892e-01,  2.90971339e-01,  1.48244524e+00]],\n",
       "\n",
       "        ...,\n",
       "\n",
       "        [[ 1.14397466e-01,  6.89560175e-01,  9.67750013e-01],\n",
       "         [-1.42080441e-01,  5.04762709e-01, -1.38674247e+00],\n",
       "         [-1.79852891e+00, -1.09343696e+00,  3.31066918e+00],\n",
       "         ...,\n",
       "         [ 2.78755039e-01,  1.25841928e+00, -1.30458176e+00],\n",
       "         [-6.70517266e-01, -1.25978053e+00,  4.46275443e-01],\n",
       "         [ 8.97414804e-01,  1.02582467e+00, -2.37198651e-01]],\n",
       "\n",
       "        [[ 1.28361106e+00, -8.19382966e-01, -9.33711305e-02],\n",
       "         [-5.87406866e-02,  3.67071539e-01,  3.61086160e-01],\n",
       "         [ 2.19503498e+00, -8.40031385e-01,  6.64764762e-01],\n",
       "         ...,\n",
       "         [-6.05694175e-01,  1.83102325e-01, -5.39154589e-01],\n",
       "         [ 1.00697100e-01,  7.60904968e-01,  4.04027313e-01],\n",
       "         [ 1.33893299e+00,  5.08939149e-03, -3.40631515e-01]],\n",
       "\n",
       "        [[-1.35549903e+00, -9.72770035e-01, -1.59536099e+00],\n",
       "         [ 9.18743372e-01, -1.40606642e+00, -2.78397036e+00],\n",
       "         [-4.83162045e-01,  9.91940498e-01, -1.79554164e+00],\n",
       "         ...,\n",
       "         [ 5.88231683e-01,  1.82926849e-01,  1.03125811e+00],\n",
       "         [ 5.58870733e-01, -4.96573359e-01,  5.42835832e-01],\n",
       "         [ 1.16217887e+00,  3.62150431e-01, -3.99207205e-01]]],\n",
       "\n",
       "\n",
       "       [[[ 1.90432119e+00,  1.28375486e-01, -4.33976233e-01],\n",
       "         [ 7.40798473e-01,  2.65173409e-02, -2.46212885e-01],\n",
       "         [-8.27904642e-01, -3.61348182e-01, -3.52159113e-01],\n",
       "         ...,\n",
       "         [ 1.66842508e+00,  1.19969523e+00,  8.23649228e-01],\n",
       "         [-3.61946106e-01, -1.75025177e+00, -1.29636538e+00],\n",
       "         [-1.59092891e+00, -8.93130451e-02,  4.66844559e-01]],\n",
       "\n",
       "        [[ 1.12898195e+00, -7.64578462e-01, -6.21134341e-01],\n",
       "         [-2.09299907e-01,  3.04330736e-01, -1.61603832e+00],\n",
       "         [-6.19835615e-01,  1.24375021e+00,  1.21581554e+00],\n",
       "         ...,\n",
       "         [-1.44811380e+00,  1.32050729e+00, -1.81848705e+00],\n",
       "         [-9.14776623e-02,  1.92873731e-01,  7.19189703e-01],\n",
       "         [-3.64904761e-01, -1.11464691e+00, -6.44564569e-01]],\n",
       "\n",
       "        [[ 1.51845706e+00, -7.94029176e-01, -9.65348244e-01],\n",
       "         [-4.34043109e-01, -1.39576018e+00,  1.53099865e-01],\n",
       "         [ 1.39936829e+00, -7.14482963e-01, -1.42285585e+00],\n",
       "         ...,\n",
       "         [ 3.42115909e-01,  1.32691932e+00,  1.40569460e+00],\n",
       "         [-6.74178541e-01,  5.03306270e-01, -1.91247582e-01],\n",
       "         [-1.81305528e-01,  3.53990018e-01, -4.94890481e-01]],\n",
       "\n",
       "        ...,\n",
       "\n",
       "        [[ 3.04242820e-01, -1.90683510e-02,  9.04776216e-01],\n",
       "         [-3.94256949e-01, -5.99790990e-01, -9.09031332e-01],\n",
       "         [-5.95549941e-02,  9.58607435e-01, -7.20430374e-01],\n",
       "         ...,\n",
       "         [-9.40067843e-02, -1.19057930e+00,  1.45298040e+00],\n",
       "         [ 1.15839767e+00, -1.69623113e+00,  2.96436459e-01],\n",
       "         [-1.13125764e-01, -1.26757383e+00,  5.36820471e-01]],\n",
       "\n",
       "        [[ 3.18332672e-01,  1.15602076e+00,  9.60924774e-02],\n",
       "         [-1.49721217e+00,  1.26163399e+00, -1.16866791e+00],\n",
       "         [-1.08564734e-01, -7.51226127e-01,  8.71455729e-01],\n",
       "         ...,\n",
       "         [-3.20792407e-01,  7.96458721e-01,  1.53844273e+00],\n",
       "         [-5.21323442e-01, -9.91110325e-01,  2.18866915e-01],\n",
       "         [ 1.25688946e+00, -1.99385419e-01, -6.62960947e-01]],\n",
       "\n",
       "        [[-1.47403634e+00,  1.84834659e+00,  1.92501307e-01],\n",
       "         [ 1.96387792e+00,  3.10325027e-01, -4.80058700e-01],\n",
       "         [ 2.09716871e-01,  1.86174482e-01,  4.83370721e-01],\n",
       "         ...,\n",
       "         [ 9.96160924e-01,  1.89797893e-01, -1.44394445e+00],\n",
       "         [ 6.90677166e-01,  5.84976733e-01,  6.76881475e-03],\n",
       "         [ 3.65664423e-01, -6.96409702e-01,  1.12785077e+00]]]],\n",
       "      dtype=float32)>"
      ]
     },
     "execution_count": 56,
     "metadata": {},
     "output_type": "execute_result"
    }
   ],
   "source": [
    "x[1:3]"
   ]
  },
  {
   "cell_type": "code",
   "execution_count": 57,
   "metadata": {},
   "outputs": [
    {
     "data": {
      "text/plain": [
       "<tf.Tensor: shape=(32, 32, 3), dtype=float32, numpy=\n",
       "array([[[ 0.58489954,  0.06275843,  1.5943791 ],\n",
       "        [ 1.8956033 ,  0.9918764 ,  1.25936   ],\n",
       "        [ 0.52050024, -1.2179135 , -0.36255682],\n",
       "        ...,\n",
       "        [ 0.05568027, -2.0612955 ,  0.26560163],\n",
       "        [-0.5798008 , -0.2716227 , -0.67806345],\n",
       "        [-0.02721567, -0.4402337 ,  1.2151496 ]],\n",
       "\n",
       "       [[-1.055544  ,  1.0230336 ,  0.18395258],\n",
       "        [ 0.749045  ,  1.1748412 , -0.18624783],\n",
       "        [ 0.5541873 , -0.653913  , -0.25883344],\n",
       "        ...,\n",
       "        [-0.67612207,  0.44866332, -0.8326048 ],\n",
       "        [-0.21540287,  0.01959279,  0.97187   ],\n",
       "        [-0.95871246, -1.2917789 , -0.03424413]],\n",
       "\n",
       "       [[-0.467682  ,  1.2481059 , -1.4969276 ],\n",
       "        [-0.8797108 , -0.17354377, -0.3757575 ],\n",
       "        [ 2.6121695 ,  0.01694001, -1.1339674 ],\n",
       "        ...,\n",
       "        [ 0.01416801,  2.1497447 , -0.8152111 ],\n",
       "        [-1.7688156 ,  0.6822554 , -0.29286927],\n",
       "        [ 1.4857715 ,  0.58258486, -0.8073743 ]],\n",
       "\n",
       "       ...,\n",
       "\n",
       "       [[-0.70150954,  0.29890493,  0.957537  ],\n",
       "        [-0.788064  , -0.36780554,  1.6941007 ],\n",
       "        [ 2.0817409 ,  0.3741115 , -1.301348  ],\n",
       "        ...,\n",
       "        [ 0.13947728, -0.9921772 , -1.1613282 ],\n",
       "        [-0.07824112, -0.59666777, -0.12845924],\n",
       "        [ 1.1201665 ,  1.1327555 ,  0.7431219 ]],\n",
       "\n",
       "       [[ 0.7575319 ,  0.49200124,  1.312425  ],\n",
       "        [-0.01563282,  0.25672796,  0.8777374 ],\n",
       "        [-0.19954515, -2.5414379 , -0.5721664 ],\n",
       "        ...,\n",
       "        [ 0.27702993, -0.68449414,  0.766105  ],\n",
       "        [ 2.1633258 , -1.3499582 , -1.3331618 ],\n",
       "        [ 0.36060053, -0.865196  , -0.22479482]],\n",
       "\n",
       "       [[ 1.4549489 , -0.545594  , -0.87917364],\n",
       "        [-0.23180892,  0.8139069 ,  0.4644656 ],\n",
       "        [-1.3341326 , -0.16748743, -1.2348415 ],\n",
       "        ...,\n",
       "        [ 0.9725463 ,  0.4023909 ,  0.6001087 ],\n",
       "        [-0.26057017,  0.25978354, -0.82061756],\n",
       "        [ 1.400017  ,  0.00584223, -0.7922644 ]]], dtype=float32)>"
      ]
     },
     "execution_count": 57,
     "metadata": {},
     "output_type": "execute_result"
    }
   ],
   "source": [
    "x[0, ::]"
   ]
  },
  {
   "cell_type": "code",
   "execution_count": 58,
   "metadata": {},
   "outputs": [
    {
     "data": {
      "text/plain": [
       "<tf.Tensor: shape=(4, 14, 14, 3), dtype=float32, numpy=\n",
       "array([[[[ 5.84899545e-01,  6.27584308e-02,  1.59437907e+00],\n",
       "         [ 5.20500243e-01, -1.21791351e+00, -3.62556815e-01],\n",
       "         [-1.19034326e+00,  8.07949960e-01,  4.54248264e-02],\n",
       "         ...,\n",
       "         [ 2.00442359e-01, -6.72383189e-01, -3.10103089e-01],\n",
       "         [ 1.01666689e+00,  5.60690105e-01,  1.87081170e+00],\n",
       "         [-7.19568849e-01, -4.98779863e-01,  1.27862707e-01]],\n",
       "\n",
       "        [[-4.67682004e-01,  1.24810588e+00, -1.49692762e+00],\n",
       "         [ 2.61216950e+00,  1.69400051e-02, -1.13396740e+00],\n",
       "         [-5.20853639e-01,  1.17762610e-01, -2.07482600e+00],\n",
       "         ...,\n",
       "         [ 3.43093663e-01, -4.13781494e-01, -1.73052180e+00],\n",
       "         [ 1.62285089e+00, -3.32471669e-01, -5.76060414e-01],\n",
       "         [-1.17845452e+00,  1.50021136e-01,  5.49533553e-02]],\n",
       "\n",
       "        [[ 3.86642992e-01,  1.81373917e-02, -2.57872850e-01],\n",
       "         [-2.50193655e-01,  1.08904660e-01,  7.68219531e-01],\n",
       "         [-9.58159149e-01, -7.48547494e-01,  2.33490050e-01],\n",
       "         ...,\n",
       "         [ 6.92392349e-01, -2.09703064e+00,  2.18073994e-01],\n",
       "         [-3.24394643e-01,  2.45076701e-01, -4.17815745e-01],\n",
       "         [-1.44652712e+00,  1.36888862e-01, -7.08423793e-01]],\n",
       "\n",
       "        ...,\n",
       "\n",
       "        [[-7.26327598e-01,  1.26267290e+00, -1.35798228e+00],\n",
       "         [-6.42386317e-01, -4.71895605e-01, -4.77204025e-01],\n",
       "         [-1.25656450e+00,  1.45298445e+00,  9.88395095e-01],\n",
       "         ...,\n",
       "         [ 1.05526194e-01,  1.33370543e+00,  5.13016820e-01],\n",
       "         [ 9.58220422e-01, -4.48855132e-01, -8.40062082e-01],\n",
       "         [ 1.35942006e+00,  9.75076795e-01,  1.69580960e+00]],\n",
       "\n",
       "        [[-4.15304720e-01, -2.12695885e+00, -1.01580846e+00],\n",
       "         [-1.37913299e+00, -4.78520691e-01,  3.74984801e-01],\n",
       "         [-4.31912988e-02,  1.47209990e+00, -1.35991180e+00],\n",
       "         ...,\n",
       "         [-2.54148334e-01, -1.27695471e-01, -6.29700840e-01],\n",
       "         [ 6.09485507e-01,  1.75145185e+00, -1.00551987e+00],\n",
       "         [ 8.18443716e-01, -1.37527108e-01, -8.36014986e-01]],\n",
       "\n",
       "        [[ 8.79295111e-01, -1.83976933e-01, -1.58403933e+00],\n",
       "         [ 4.24634229e-04,  1.80549121e+00, -4.86988157e-01],\n",
       "         [ 8.29791009e-01, -1.42232049e+00,  5.05644798e-01],\n",
       "         ...,\n",
       "         [ 2.96749413e-01,  1.10239041e+00,  6.44528046e-02],\n",
       "         [ 2.05985382e-01,  3.14329386e-01, -1.26136100e+00],\n",
       "         [ 1.73167551e+00,  2.60985881e-01, -7.85976708e-01]]],\n",
       "\n",
       "\n",
       "       [[[-7.62470484e-01,  3.18159997e-01,  7.32169211e-01],\n",
       "         [ 1.06529987e+00,  1.36670101e+00,  3.36004615e-01],\n",
       "         [-1.49252847e-01, -2.00016975e+00,  6.31557763e-01],\n",
       "         ...,\n",
       "         [ 6.90126121e-01, -2.77676374e-01, -5.79440117e-01],\n",
       "         [-9.02651429e-01,  7.19191253e-01,  1.62201619e+00],\n",
       "         [ 2.42969942e+00,  1.26616895e+00,  6.01217031e-01]],\n",
       "\n",
       "        [[-9.24271882e-01, -5.29383004e-01, -1.20852840e+00],\n",
       "         [ 7.79010177e-01, -8.05269480e-01, -1.15062606e+00],\n",
       "         [-8.40102911e-01, -7.49512494e-01,  1.90396920e-01],\n",
       "         ...,\n",
       "         [ 1.53539813e+00, -9.14430141e-01, -6.84413195e-01],\n",
       "         [ 1.14336856e-01,  4.73723188e-02,  2.96947747e-01],\n",
       "         [ 4.20215493e-03, -2.92194545e-01,  1.26538739e-01]],\n",
       "\n",
       "        [[ 1.67526102e+00,  2.27498412e-01, -3.01993340e-01],\n",
       "         [-6.26750350e-01,  9.39913988e-01,  1.74153417e-01],\n",
       "         [-1.98499054e-01, -4.92696166e-01,  8.13867509e-01],\n",
       "         ...,\n",
       "         [-9.05953765e-01,  9.33265626e-01, -8.36059868e-01],\n",
       "         [ 1.20342720e+00,  3.40011150e-01,  2.94195741e-01],\n",
       "         [-5.30732870e-01, -6.92618370e-01,  2.05007017e-01]],\n",
       "\n",
       "        ...,\n",
       "\n",
       "        [[ 1.23894179e+00,  1.07095397e+00, -1.21226001e+00],\n",
       "         [ 1.38215148e+00,  8.37869719e-02, -1.11969864e+00],\n",
       "         [ 9.68560696e-01,  9.29950714e-01,  1.00536537e+00],\n",
       "         ...,\n",
       "         [-1.48984969e+00,  1.57460999e+00, -1.89958787e+00],\n",
       "         [-7.58588970e-01,  9.36147094e-01, -1.36392367e+00],\n",
       "         [-4.91187006e-01,  7.54373431e-01, -3.50492597e-01]],\n",
       "\n",
       "        [[-2.77317137e-01, -5.41067362e-01, -1.70925826e-01],\n",
       "         [ 1.90658975e+00,  7.53761649e-01,  4.36886460e-01],\n",
       "         [ 1.20284688e+00,  5.46617508e-01,  4.33535337e-01],\n",
       "         ...,\n",
       "         [-1.74365962e+00, -1.40044177e+00, -2.93212444e-01],\n",
       "         [ 9.23851788e-01, -1.42855370e+00,  1.65257728e+00],\n",
       "         [ 4.95823115e-01, -1.19395876e+00,  1.32189465e+00]],\n",
       "\n",
       "        [[ 4.87919658e-01, -1.14309990e+00,  1.24509561e+00],\n",
       "         [ 1.84237838e-01, -1.01156175e+00,  1.95583618e+00],\n",
       "         [ 6.03765786e-01, -1.10569879e-01,  1.19062400e+00],\n",
       "         ...,\n",
       "         [-2.60175920e+00, -1.43622100e+00,  1.28410208e+00],\n",
       "         [-1.17644560e+00,  9.67198551e-01, -1.21437275e+00],\n",
       "         [-1.09659827e+00,  6.07302180e-03, -1.34850383e+00]]],\n",
       "\n",
       "\n",
       "       [[[ 1.90432119e+00,  1.28375486e-01, -4.33976233e-01],\n",
       "         [-8.27904642e-01, -3.61348182e-01, -3.52159113e-01],\n",
       "         [ 1.44877791e+00, -3.44224960e-01,  1.57102138e-01],\n",
       "         ...,\n",
       "         [-6.99460924e-01, -1.16686285e+00, -6.59039080e-01],\n",
       "         [-7.88017750e-01, -3.13720524e-01, -7.38232434e-01],\n",
       "         [ 8.33641350e-01,  6.06889486e-01,  6.21229470e-01]],\n",
       "\n",
       "        [[ 1.51845706e+00, -7.94029176e-01, -9.65348244e-01],\n",
       "         [ 1.39936829e+00, -7.14482963e-01, -1.42285585e+00],\n",
       "         [-1.16749156e+00, -1.64798212e+00,  4.95548904e-01],\n",
       "         ...,\n",
       "         [ 4.15225685e-01, -5.87426499e-02, -8.66951108e-01],\n",
       "         [-8.59814227e-01, -4.81294751e-01,  2.66863793e-01],\n",
       "         [-2.16112542e+00,  8.52481246e-01,  1.27874601e+00]],\n",
       "\n",
       "        [[ 2.07014012e+00, -1.92231417e+00, -5.16959369e-01],\n",
       "         [ 2.53269374e-01, -8.91978204e-01,  1.45157017e-02],\n",
       "         [ 7.55851805e-01,  4.21683908e-01, -9.70135689e-01],\n",
       "         ...,\n",
       "         [ 5.76925129e-02,  2.02865934e+00, -9.08315301e-01],\n",
       "         [-1.26280248e+00, -3.14660221e-01, -6.69831455e-01],\n",
       "         [ 1.35449338e+00, -4.11835797e-02,  1.05159625e-01]],\n",
       "\n",
       "        ...,\n",
       "\n",
       "        [[-1.86325943e+00, -1.00438379e-01, -1.86410040e-01],\n",
       "         [-1.23604524e+00,  1.38347077e+00, -1.83615279e+00],\n",
       "         [ 3.26020509e-01, -1.74666792e-01, -7.34654844e-01],\n",
       "         ...,\n",
       "         [ 1.16525376e+00,  1.31038809e+00,  3.35717164e-02],\n",
       "         [ 1.17859614e+00, -1.59865699e-03, -9.94862676e-01],\n",
       "         [ 5.94611883e-01, -1.35966551e+00, -6.38889611e-01]],\n",
       "\n",
       "        [[ 3.16070430e-02,  6.86592102e-01,  1.15247297e+00],\n",
       "         [ 6.14846528e-01, -8.42376173e-01, -1.49417484e+00],\n",
       "         [ 6.44996643e-01,  1.15838742e+00, -9.99473512e-01],\n",
       "         ...,\n",
       "         [-1.81211472e+00,  3.34689230e-01,  8.01201344e-01],\n",
       "         [ 1.27793193e+00,  2.79213786e+00, -1.60036504e-01],\n",
       "         [ 1.59339273e+00, -3.54472637e-01, -2.02694035e+00]],\n",
       "\n",
       "        [[-1.81766301e-02,  1.42950046e+00, -1.01816225e+00],\n",
       "         [ 2.12975889e-01,  1.38610029e+00,  2.48077488e+00],\n",
       "         [-1.19058120e+00,  1.87217581e+00,  2.97335476e-01],\n",
       "         ...,\n",
       "         [ 4.97732610e-01,  3.29538792e-01,  1.32806316e-01],\n",
       "         [ 1.94306195e+00, -9.47856843e-01, -9.43424642e-01],\n",
       "         [ 8.92646670e-01, -5.75570345e-01, -7.69207895e-01]]],\n",
       "\n",
       "\n",
       "       [[[-1.66500199e+00, -1.03930116e+00,  9.61197615e-01],\n",
       "         [-4.03581411e-01, -2.23602921e-01,  6.02650166e-01],\n",
       "         [-1.24409318e+00,  4.12130088e-01, -1.78341639e+00],\n",
       "         ...,\n",
       "         [-4.43678647e-01,  7.30069280e-01,  1.37089932e+00],\n",
       "         [-7.23380864e-01, -1.81873024e-01,  2.08740950e+00],\n",
       "         [-1.00003350e+00, -3.59281972e-02,  2.24709272e-01]],\n",
       "\n",
       "        [[-1.32508087e+00, -1.20881951e+00, -1.62607968e+00],\n",
       "         [-2.12619185e-01, -2.78890580e-01,  2.58926541e-01],\n",
       "         [ 2.09816766e+00, -3.73236120e-01, -1.93366215e-01],\n",
       "         ...,\n",
       "         [-1.48080871e-01, -3.78887624e-01,  1.33473849e+00],\n",
       "         [-1.33778727e+00, -6.08103752e-01,  9.46227610e-01],\n",
       "         [ 1.06084967e+00, -2.13531703e-01,  7.59214818e-01]],\n",
       "\n",
       "        [[-4.40797687e-01,  3.99028420e-01,  7.40771145e-02],\n",
       "         [-1.57329798e-01, -2.01416850e-01, -4.20901924e-01],\n",
       "         [-7.09836558e-02, -8.41234624e-01, -1.10768342e+00],\n",
       "         ...,\n",
       "         [-2.82880552e-02, -1.59041750e+00,  1.13813734e+00],\n",
       "         [-9.03092086e-01, -1.60211432e+00, -2.06263518e+00],\n",
       "         [ 2.15116277e-01,  1.28855601e-01, -1.77901709e+00]],\n",
       "\n",
       "        ...,\n",
       "\n",
       "        [[ 5.30602038e-01, -2.17408442e+00,  7.88807094e-01],\n",
       "         [-4.30158049e-01, -5.47185183e-01,  5.70206523e-01],\n",
       "         [-1.16776645e+00,  1.35400343e+00,  4.43025827e-01],\n",
       "         ...,\n",
       "         [ 1.57836592e+00, -1.07333255e+00,  7.61447102e-02],\n",
       "         [ 1.70649672e+00,  2.86886394e-01, -4.09074366e-01],\n",
       "         [-1.72166437e-01,  5.86883903e-01, -9.11224037e-02]],\n",
       "\n",
       "        [[ 1.96997616e-02, -7.90988028e-01,  5.15858948e-01],\n",
       "         [ 1.04128289e+00, -1.11110985e+00,  4.74337414e-02],\n",
       "         [-1.23683357e+00,  2.09843063e+00, -5.25224566e-01],\n",
       "         ...,\n",
       "         [-1.12998140e+00, -1.20431411e+00, -1.09070587e+00],\n",
       "         [ 2.46039286e-01,  1.18377931e-01, -2.16930556e+00],\n",
       "         [ 6.52445436e-01,  5.37239969e-01,  1.87780917e-01]],\n",
       "\n",
       "        [[-8.40837538e-01,  2.99462341e-02,  1.26525283e+00],\n",
       "         [-4.44947004e-01,  1.19361460e+00, -1.57991147e+00],\n",
       "         [-9.83130097e-01,  1.12008083e+00,  9.50186670e-01],\n",
       "         ...,\n",
       "         [-1.43967830e-02,  1.53064203e+00, -1.72858381e+00],\n",
       "         [ 5.28222024e-01, -2.03330621e-01,  1.68852782e+00],\n",
       "         [ 1.34172583e+00, -1.67350209e+00, -2.37299830e-01]]]],\n",
       "      dtype=float32)>"
      ]
     },
     "execution_count": 58,
     "metadata": {},
     "output_type": "execute_result"
    }
   ],
   "source": [
    "x[:, 0:28:2 ,0:28:2 ,:]"
   ]
  },
  {
   "cell_type": "code",
   "execution_count": 59,
   "metadata": {},
   "outputs": [
    {
     "data": {
      "text/plain": [
       "<tf.Tensor: shape=(8,), dtype=int32, numpy=array([8, 7, 6, 5, 4, 3, 2, 1])>"
      ]
     },
     "execution_count": 59,
     "metadata": {},
     "output_type": "execute_result"
    }
   ],
   "source": [
    "x=tf.range(9)\n",
    "x[8:0:-1]"
   ]
  },
  {
   "cell_type": "code",
   "execution_count": 60,
   "metadata": {},
   "outputs": [
    {
     "data": {
      "text/plain": [
       "<tf.Tensor: shape=(9,), dtype=int32, numpy=array([8, 7, 6, 5, 4, 3, 2, 1, 0])>"
      ]
     },
     "execution_count": 60,
     "metadata": {},
     "output_type": "execute_result"
    }
   ],
   "source": [
    "x[::-1]"
   ]
  },
  {
   "cell_type": "code",
   "execution_count": 61,
   "metadata": {},
   "outputs": [
    {
     "data": {
      "text/plain": [
       "<tf.Tensor: shape=(5,), dtype=int32, numpy=array([8, 6, 4, 2, 0])>"
      ]
     },
     "execution_count": 61,
     "metadata": {},
     "output_type": "execute_result"
    }
   ],
   "source": [
    "x[::-2]"
   ]
  },
  {
   "cell_type": "code",
   "execution_count": 62,
   "metadata": {},
   "outputs": [
    {
     "data": {
      "text/plain": [
       "<tf.Tensor: shape=(16, 16, 3), dtype=float32, numpy=\n",
       "array([[[-3.21374625e-01,  6.81888878e-01,  7.58138359e-01],\n",
       "        [-4.93309110e-01,  1.21504933e-01, -5.78743629e-02],\n",
       "        [ 2.93129468e+00, -3.76153469e-01,  1.13656469e-01],\n",
       "        [-1.01115215e+00, -8.64787817e-01,  1.67789114e+00],\n",
       "        [ 4.97625977e-01,  8.55163559e-02, -9.70578313e-01],\n",
       "        [ 7.04671323e-01, -1.13257873e+00,  4.78485227e-01],\n",
       "        [-4.60732371e-01, -5.74749947e-01, -2.23226994e-01],\n",
       "        [ 3.49998549e-02, -5.50976634e-01, -3.24682623e-01],\n",
       "        [-4.48712289e-01, -1.63074270e-01, -2.43575305e-01],\n",
       "        [ 7.89912343e-01,  2.19727278e-01, -1.00843096e+00],\n",
       "        [ 1.58256829e-01, -8.87878478e-01, -2.44743514e+00],\n",
       "        [ 8.19460303e-02, -1.13852394e+00, -1.63440359e+00],\n",
       "        [ 8.65372598e-01, -3.28763435e-03,  2.15887785e+00],\n",
       "        [-9.23320711e-01,  2.20708504e-01, -1.08528852e+00],\n",
       "        [-9.45618689e-01, -1.09253073e+00, -1.77373183e+00],\n",
       "        [ 3.93080682e-01, -9.67424214e-01, -4.15185690e-01]],\n",
       "\n",
       "       [[-1.36393023e+00,  1.84687749e-01,  7.05075860e-02],\n",
       "        [-2.03786895e-01, -1.25085831e+00, -1.33577764e-01],\n",
       "        [-7.14215457e-01,  1.10644865e+00,  1.51182845e-01],\n",
       "        [ 2.61595160e-01,  5.03950775e-01,  1.21082044e+00],\n",
       "        [ 6.41468465e-01,  1.81621444e+00, -1.00616825e+00],\n",
       "        [-2.69080698e-01, -9.30113554e-01,  1.85316098e+00],\n",
       "        [-5.18725812e-01, -6.78957775e-02, -6.96669221e-01],\n",
       "        [ 1.60040772e+00,  2.38982543e-01,  8.92888248e-01],\n",
       "        [ 5.26383072e-02, -2.08108738e-01, -3.16706270e-01],\n",
       "        [-9.39088762e-01, -1.94238710e+00, -4.55058903e-01],\n",
       "        [-4.25299227e-01, -2.87201500e+00,  1.05246305e+00],\n",
       "        [-1.92784607e+00, -4.57073092e-01, -5.83250046e-01],\n",
       "        [-7.26727009e-01, -1.14581895e+00, -1.00219536e+00],\n",
       "        [ 1.81856304e-01,  1.38986754e+00,  3.06626797e-01],\n",
       "        [ 1.47973680e+00,  1.25434792e+00, -3.24833930e-01],\n",
       "        [ 6.87139854e-02,  2.62639821e-01, -2.27444381e-01]],\n",
       "\n",
       "       [[-1.23530722e+00,  1.50080216e+00,  1.40665278e-01],\n",
       "        [ 7.07835197e-01, -3.83460402e-01, -6.21349573e-01],\n",
       "        [-2.39064431e+00,  9.30802584e-01,  1.53909016e+00],\n",
       "        [ 2.21867394e-02,  7.32464850e-01, -1.43046772e+00],\n",
       "        [ 1.04078448e+00,  7.68869698e-01,  3.98643345e-01],\n",
       "        [ 9.26603436e-01,  1.57071018e+00,  2.08359885e+00],\n",
       "        [ 8.17421138e-01, -8.89823496e-01, -7.93597698e-02],\n",
       "        [ 6.39186323e-01,  1.46131301e+00, -2.50337213e-01],\n",
       "        [ 1.12479234e+00, -1.56744313e+00, -3.62381339e-02],\n",
       "        [-1.87172925e+00,  8.99594426e-01,  1.41183031e+00],\n",
       "        [ 1.40977311e+00, -2.27788830e+00,  1.53680444e+00],\n",
       "        [ 1.41215873e+00, -2.08676386e+00, -8.00383687e-01],\n",
       "        [ 5.66528797e-01, -8.50493550e-01,  1.09519911e+00],\n",
       "        [ 7.79878080e-01, -8.82563829e-01,  1.04435122e+00],\n",
       "        [ 6.02088511e-01, -5.94683766e-01, -2.99507046e+00],\n",
       "        [ 2.58300710e+00,  1.15429211e+00, -1.18192887e+00]],\n",
       "\n",
       "       [[ 1.44459295e+00, -1.03476357e+00,  7.20424950e-01],\n",
       "        [ 7.51494542e-02,  1.13897049e+00, -1.01212835e+00],\n",
       "        [ 5.71620047e-01, -8.44020069e-01,  1.51149273e-01],\n",
       "        [-3.23280543e-01, -3.01026851e-01, -3.08753848e-01],\n",
       "        [ 1.47171438e+00,  1.66112676e-01, -1.32610130e+00],\n",
       "        [ 7.91638851e-01, -1.27645588e+00,  7.37610579e-01],\n",
       "        [ 1.69091332e+00,  1.04569912e+00,  4.18525279e-01],\n",
       "        [ 1.07984722e+00,  2.94228292e+00, -1.36866713e+00],\n",
       "        [-1.26533794e+00, -2.85977125e-01, -4.00927812e-02],\n",
       "        [-8.24420303e-02, -2.03351647e-01,  1.65754244e-01],\n",
       "        [ 1.75701797e-01, -1.96948040e+00,  2.67773330e-01],\n",
       "        [ 1.12608083e-01,  1.08799212e-01, -1.38992476e+00],\n",
       "        [-2.29408950e-01, -1.92466915e+00,  1.30426753e+00],\n",
       "        [ 6.60108447e-01,  3.17817837e-01,  3.34168196e-01],\n",
       "        [ 7.07209468e-01,  1.09899986e+00, -4.90885764e-01],\n",
       "        [-8.13433528e-01,  1.92654085e+00,  1.50740111e+00]],\n",
       "\n",
       "       [[-5.28317392e-01,  7.28626847e-01, -1.27080441e+00],\n",
       "        [-1.83825165e-01, -1.85205638e-01,  1.10029924e+00],\n",
       "        [-1.16374135e+00,  5.94938457e-01,  1.16601622e+00],\n",
       "        [-2.40186259e-01, -1.78879678e+00, -1.26108766e+00],\n",
       "        [ 5.45149803e-01,  1.73543155e+00, -1.33871126e+00],\n",
       "        [ 1.28890789e+00,  3.38203102e-01,  4.03840184e-01],\n",
       "        [-3.19913626e-01, -4.07275945e-01, -1.07890725e+00],\n",
       "        [ 4.13493216e-01, -4.91839796e-01, -8.33828747e-01],\n",
       "        [ 2.41469845e-01,  9.14133072e-01, -5.44392705e-01],\n",
       "        [ 1.01525426e+00,  2.66567111e-01,  1.38266492e+00],\n",
       "        [ 1.00608015e+00, -1.02354479e+00, -2.11006927e+00],\n",
       "        [-2.47235317e-02, -4.15587485e-01,  1.98524773e-01],\n",
       "        [ 2.98025489e-01,  1.08240545e+00, -7.17785716e-01],\n",
       "        [ 1.24834037e+00, -1.47156656e+00, -7.58893967e-01],\n",
       "        [ 5.06471574e-01,  2.31016111e-02,  1.44058526e+00],\n",
       "        [ 1.08852017e+00, -6.64523125e-01, -1.09472275e+00]],\n",
       "\n",
       "       [[ 1.68073034e+00,  1.71390271e+00,  8.21609437e-01],\n",
       "        [-1.11196530e+00, -2.13211328e-01, -4.99924958e-01],\n",
       "        [-3.47990245e-01, -1.15322459e+00, -9.26101506e-02],\n",
       "        [ 4.22736019e-01,  8.83131623e-01,  1.91435874e-01],\n",
       "        [ 2.60015018e-02, -2.55582571e-01, -1.12131357e+00],\n",
       "        [ 2.14218402e+00, -5.15579045e-01, -6.90275788e-01],\n",
       "        [-1.09590733e+00, -1.44652337e-01,  3.51993769e-01],\n",
       "        [ 9.21245754e-01,  1.50571299e+00,  3.64453018e-01],\n",
       "        [ 1.66674185e+00, -2.82056069e+00,  1.49141896e+00],\n",
       "        [ 2.12409180e-02,  1.41919696e+00,  9.83920038e-01],\n",
       "        [-3.92686218e-01, -5.07906497e-01, -1.45797980e+00],\n",
       "        [ 1.66812122e+00,  1.42088461e+00, -1.56808221e+00],\n",
       "        [ 6.88593447e-01,  1.14148402e+00, -1.34848630e+00],\n",
       "        [ 6.27228618e-01,  2.98872828e-01,  1.05343103e+00],\n",
       "        [-1.44818544e+00,  1.07007241e+00,  5.78515589e-01],\n",
       "        [-9.16064143e-01,  4.62303385e-02, -2.24036112e-01]],\n",
       "\n",
       "       [[ 2.00505805e+00, -3.86671364e-01, -2.21245307e-02],\n",
       "        [ 3.62136096e-01, -1.01752830e+00, -1.96801588e-01],\n",
       "        [-1.59079599e+00,  3.74676138e-01, -2.03713447e-01],\n",
       "        [ 1.17698157e+00, -1.69305086e+00, -2.32134295e+00],\n",
       "        [-4.85014200e-01, -2.68625081e-01, -6.32125735e-01],\n",
       "        [-3.70205462e-01,  3.71608406e-01, -1.37668610e+00],\n",
       "        [ 6.58882022e-01,  1.12668800e+00, -1.05503476e+00],\n",
       "        [ 1.47584021e+00, -3.17717284e-01, -1.22794628e+00],\n",
       "        [ 1.75296739e-01,  1.46035805e-01, -2.82720000e-01],\n",
       "        [ 1.25245750e+00,  3.91001403e-01, -7.32730091e-01],\n",
       "        [ 1.24841821e+00,  1.01172519e+00, -5.18949866e-01],\n",
       "        [-7.62027800e-01,  5.78138649e-01,  7.11501777e-01],\n",
       "        [ 4.03785408e-01, -1.91007876e+00,  8.30858529e-01],\n",
       "        [-5.58021963e-01, -4.02092099e-01,  1.10206401e+00],\n",
       "        [ 6.26193285e-01, -8.03888559e-01, -3.50242913e-01],\n",
       "        [ 1.08136284e+00,  4.39532578e-01,  6.04955971e-01]],\n",
       "\n",
       "       [[ 1.10792887e+00,  1.30044177e-01,  8.81421149e-01],\n",
       "        [-2.09943843e+00, -1.79213452e+00,  1.07248425e+00],\n",
       "        [-8.09862077e-01,  8.73057961e-01, -1.34723198e+00],\n",
       "        [ 5.64108752e-02, -9.79852438e-01,  1.04712772e+00],\n",
       "        [ 7.69169182e-02,  3.31738174e-01, -1.72197199e+00],\n",
       "        [ 3.45916711e-02,  1.83912838e+00,  1.52481318e-01],\n",
       "        [ 1.34581149e+00,  9.39852834e-01,  2.39072934e-01],\n",
       "        [ 1.62747657e+00, -6.87241614e-01, -9.99287248e-01],\n",
       "        [ 2.23311973e+00,  2.85737365e-01,  2.56524775e-02],\n",
       "        [ 5.98442078e-01, -1.30031788e+00, -2.26804137e+00],\n",
       "        [ 2.45243132e-01,  2.21033711e-02,  1.69665861e+00],\n",
       "        [-3.59599553e-02, -2.00900704e-01, -1.66026390e+00],\n",
       "        [-5.73226213e-01, -6.08036637e-01, -1.48464537e+00],\n",
       "        [-1.24566600e-01,  2.61041466e-02,  9.76707041e-01],\n",
       "        [ 1.67917514e+00,  8.22793126e-01, -1.19201235e-01],\n",
       "        [-6.34305418e-01,  1.10873306e+00, -7.91511059e-01]],\n",
       "\n",
       "       [[-1.89437315e-01, -1.16225886e+00, -6.65902257e-01],\n",
       "        [ 1.10044909e+00, -1.16792822e+00, -6.43174171e-01],\n",
       "        [ 2.52105236e+00, -5.78383982e-01, -6.87178731e-01],\n",
       "        [ 2.56982684e-01, -5.68526030e-01, -1.54832876e+00],\n",
       "        [ 9.17637885e-01,  1.08986342e+00, -1.11195683e+00],\n",
       "        [-2.73310959e-01, -2.50540137e-01, -1.06637728e+00],\n",
       "        [ 1.64827299e+00, -6.65499270e-01, -1.73454928e+00],\n",
       "        [-2.93200910e-01,  1.56461015e-01, -3.47870290e-01],\n",
       "        [ 6.74405813e-01,  6.07316375e-01, -5.77691436e-01],\n",
       "        [ 8.38927984e-01,  1.22600518e-01, -1.02701628e+00],\n",
       "        [ 5.94648063e-01, -1.07431471e-01,  8.08458090e-01],\n",
       "        [ 7.51233816e-01, -6.54684067e-01,  2.38875389e+00],\n",
       "        [ 1.37745664e-01, -1.32007682e+00, -4.86983322e-02],\n",
       "        [ 2.52527028e-01,  9.78224277e-01, -1.82019341e+00],\n",
       "        [-1.33569944e+00,  9.10287678e-01,  1.00517499e+00],\n",
       "        [-1.53790817e-01,  1.19388437e+00,  1.77831054e+00]],\n",
       "\n",
       "       [[-6.79853439e-01,  2.06430173e+00, -8.60720813e-01],\n",
       "        [ 4.75654542e-01, -5.27548850e-01,  3.30602109e-01],\n",
       "        [-4.28279161e-01, -1.61229062e+00,  1.71422637e+00],\n",
       "        [-4.58003074e-01,  1.82053733e+00, -2.04306889e+00],\n",
       "        [-1.15416133e+00, -1.02205718e+00,  2.26678395e+00],\n",
       "        [ 5.57901673e-02,  3.34564485e-02,  2.55636263e+00],\n",
       "        [-8.99646997e-01,  4.98225614e-02, -1.59355199e+00],\n",
       "        [-1.38985991e+00,  6.87844574e-01, -1.17010725e+00],\n",
       "        [ 1.48588374e-01, -7.77384400e-01, -6.40488088e-01],\n",
       "        [ 3.14569449e+00, -6.70499325e-01,  9.69128430e-01],\n",
       "        [ 1.74918652e+00, -1.42159498e+00,  6.37447357e-01],\n",
       "        [-1.31060505e+00, -1.18882287e+00,  2.17930868e-01],\n",
       "        [-6.24428153e-01,  1.02779949e+00,  1.41952181e+00],\n",
       "        [-5.83930433e-01,  4.90599662e-01, -3.09791237e-01],\n",
       "        [-4.33076739e-01, -1.41024685e+00, -6.84403360e-01],\n",
       "        [ 3.92775357e-01,  4.07364160e-01,  2.42431819e-01]],\n",
       "\n",
       "       [[-2.26719260e+00,  7.31654823e-01,  1.59573153e-01],\n",
       "        [ 3.48171562e-01, -1.47440696e+00,  1.60437012e+00],\n",
       "        [-5.42526953e-02,  8.79679263e-01,  7.51762271e-01],\n",
       "        [-1.82184160e-01, -6.34989262e-01, -4.89702493e-01],\n",
       "        [-7.87269101e-02, -1.07390022e+00,  5.76719046e-01],\n",
       "        [-5.44053838e-02,  3.99377644e-01, -1.56474531e+00],\n",
       "        [ 1.81855571e+00, -1.80923820e-01, -4.53382224e-01],\n",
       "        [-1.48879457e+00, -7.76205659e-01,  7.79983282e-01],\n",
       "        [-1.16109049e+00, -9.02960062e-01, -1.17970932e+00],\n",
       "        [ 2.44942594e+00, -6.78247571e-01, -3.69295061e-01],\n",
       "        [ 3.19878548e-01,  3.80449653e-01, -3.21773231e-01],\n",
       "        [-7.43019462e-01,  1.00941634e+00, -1.33205140e+00],\n",
       "        [-6.97697178e-02, -2.60767969e-03, -1.68361688e+00],\n",
       "        [ 1.48762077e-01,  1.45338261e+00, -3.14851761e-01],\n",
       "        [-7.06823587e-01,  3.37026864e-01, -1.26971483e-01],\n",
       "        [ 2.42898688e-01,  1.13745666e+00,  3.20838094e+00]],\n",
       "\n",
       "       [[-8.64279926e-01, -5.94855368e-01, -1.89274669e+00],\n",
       "        [-8.66276979e-01, -1.50234890e+00,  1.40326726e+00],\n",
       "        [-2.37079784e-01, -4.58858877e-01,  3.06129502e-03],\n",
       "        [ 1.14653580e-01, -8.91650140e-01, -1.19697213e+00],\n",
       "        [ 1.06696248e+00, -9.58334133e-02,  1.70200855e-01],\n",
       "        [ 3.63780677e-01, -3.28044534e-01, -1.48197889e-01],\n",
       "        [-8.59210253e-01, -1.65228796e+00,  4.00782749e-02],\n",
       "        [ 5.91271102e-01, -7.28399038e-01,  3.26177925e-01],\n",
       "        [ 9.61515784e-01,  6.58775508e-01,  2.85688564e-02],\n",
       "        [ 7.24628210e-01, -2.25029874e+00,  3.56494963e-01],\n",
       "        [ 8.23005855e-01,  1.76253235e+00, -8.38721514e-01],\n",
       "        [ 7.30077624e-01,  1.58739388e-01,  7.40308225e-01],\n",
       "        [-5.81511140e-01,  5.93079031e-01, -1.04430127e+00],\n",
       "        [-7.15915740e-01,  1.79655170e+00,  7.13839650e-01],\n",
       "        [ 3.93198580e-01, -1.87680137e+00,  1.87391412e+00],\n",
       "        [-2.26979330e-01,  5.52595496e-01,  2.58403331e-01]],\n",
       "\n",
       "       [[ 1.89286935e+00,  7.62536943e-01, -1.98570538e+00],\n",
       "        [-8.15725327e-01,  4.98570830e-01, -3.32399225e-03],\n",
       "        [-6.51082754e-01,  2.77954698e+00,  3.43904495e-01],\n",
       "        [ 1.30337107e+00, -1.28156888e+00, -7.91732550e-01],\n",
       "        [ 1.98719978e-01,  1.77007690e-01,  3.52072716e-01],\n",
       "        [ 1.03260182e-01, -3.28340113e-01,  9.52368379e-01],\n",
       "        [ 1.40654457e+00, -1.19416916e+00, -8.11844110e-01],\n",
       "        [ 2.21022391e+00,  3.14694673e-01, -1.69693828e-01],\n",
       "        [ 9.53899443e-01,  6.66335225e-01,  1.50815904e+00],\n",
       "        [ 2.63879001e-01, -1.09832609e+00, -2.26276800e-01],\n",
       "        [ 1.50640845e+00, -2.95276374e-01, -9.79538262e-01],\n",
       "        [ 1.23813856e+00,  2.58809447e-01, -6.93632543e-01],\n",
       "        [-4.92518872e-01, -7.18242288e-01, -7.85621166e-01],\n",
       "        [ 4.27629173e-01,  9.54733849e-01,  7.49601305e-01],\n",
       "        [ 1.88188076e+00, -1.69282055e+00, -8.99443865e-01],\n",
       "        [-7.84066319e-01, -1.60942340e+00,  5.81003129e-01]],\n",
       "\n",
       "       [[ 2.95235425e-01, -1.50541842e+00,  9.23940659e-01],\n",
       "        [ 9.75900233e-01, -1.15962040e+00,  8.30665469e-01],\n",
       "        [ 3.18564475e-01, -2.02918053e+00,  1.21850753e+00],\n",
       "        [ 8.06685388e-01, -1.78419098e-01,  3.71252000e-01],\n",
       "        [-3.62328142e-01, -5.71040928e-01, -6.28563225e-01],\n",
       "        [-1.80555344e+00, -3.56410533e-01, -1.16755092e+00],\n",
       "        [-8.56976569e-01,  8.69938910e-01, -3.97351086e-01],\n",
       "        [-3.40466760e-02, -7.23288804e-02, -2.18710467e-01],\n",
       "        [ 1.52943957e+00,  8.70119452e-01, -6.01293087e-01],\n",
       "        [-7.91151226e-01,  1.05749261e+00, -2.16471839e+00],\n",
       "        [-7.36151040e-01, -1.41198993e+00, -2.76652575e-01],\n",
       "        [-7.82613277e-01,  3.24741364e-01,  1.78017771e+00],\n",
       "        [ 3.06060851e-01, -1.59692907e+00,  7.28761435e-01],\n",
       "        [-1.13059640e+00, -1.16348255e+00, -1.30867052e+00],\n",
       "        [-1.34390855e+00,  1.84219331e-01, -2.66868919e-01],\n",
       "        [ 8.10259196e-04,  1.65690303e+00, -9.45215702e-01]],\n",
       "\n",
       "       [[ 3.23366070e+00, -6.48010135e-01,  6.11219645e-01],\n",
       "        [ 6.23883605e-01, -1.02552247e+00, -7.25082397e-01],\n",
       "        [-4.43892717e-01,  4.87034053e-01, -1.78760552e+00],\n",
       "        [ 2.48984590e-01,  1.42290747e+00, -1.02807426e+00],\n",
       "        [-3.80402952e-01, -7.09863126e-01, -8.56386900e-01],\n",
       "        [-9.83051300e-01, -3.37372035e-01, -1.84908375e-01],\n",
       "        [ 1.12271738e+00, -2.55492181e-01, -1.28230929e-01],\n",
       "        [ 6.50530338e-01, -8.43765199e-01,  1.15977108e+00],\n",
       "        [ 7.07539797e-01, -2.00278223e-01, -7.10812926e-01],\n",
       "        [-2.37949222e-01,  2.31343794e+00,  1.49968311e-01],\n",
       "        [-2.90987283e-01, -2.66005397e+00,  7.15338767e-01],\n",
       "        [-5.12527406e-01, -2.66823268e+00,  5.68943918e-01],\n",
       "        [ 4.80372846e-01,  8.16166580e-01,  1.05207646e+00],\n",
       "        [-2.91823503e-02, -7.95507073e-01,  6.54142380e-01],\n",
       "        [ 6.75578058e-01,  5.03858447e-01, -4.66855951e-02],\n",
       "        [-4.56340909e-02,  3.45037937e-01,  5.86481750e-01]],\n",
       "\n",
       "       [[ 5.50298505e-02, -3.94210458e-01, -1.56071651e+00],\n",
       "        [-4.28849578e-01, -1.86137187e+00,  2.46082187e+00],\n",
       "        [ 3.52647118e-02, -1.39704144e+00, -1.57168657e-01],\n",
       "        [-7.33709216e-01,  2.02282310e+00, -8.21700513e-01],\n",
       "        [ 1.42363334e+00, -1.46334994e+00,  6.20765924e-01],\n",
       "        [ 1.27409744e+00, -5.85812628e-02, -6.98366165e-01],\n",
       "        [-1.76596060e-01,  4.46320713e-01, -7.11386144e-01],\n",
       "        [-8.97791050e-03,  8.76729727e-01,  9.70649719e-01],\n",
       "        [ 9.01720464e-01,  6.73037171e-01,  1.72017232e-01],\n",
       "        [ 4.78765160e-01, -1.35354495e+00, -1.46885705e+00],\n",
       "        [-7.17200786e-02,  1.16548097e+00,  1.36346400e+00],\n",
       "        [ 6.72109187e-01, -1.31345057e+00,  1.25042963e+00],\n",
       "        [-6.92547977e-01,  1.01644146e+00, -1.45405495e+00],\n",
       "        [ 1.72593153e+00,  1.16567039e+00,  7.68092752e-01],\n",
       "        [ 9.21919286e-01, -5.02091825e-01, -9.09751654e-01],\n",
       "        [ 1.51214373e+00,  1.84228361e+00, -1.83526814e-01]]],\n",
       "      dtype=float32)>"
      ]
     },
     "execution_count": 62,
     "metadata": {},
     "output_type": "execute_result"
    }
   ],
   "source": [
    "x=tf.random.normal([4, 32, 32, 3])\n",
    "x[0, ::-2, ::-2]"
   ]
  },
  {
   "cell_type": "code",
   "execution_count": 63,
   "metadata": {},
   "outputs": [
    {
     "data": {
      "text/plain": [
       "<tf.Tensor: shape=(4, 32, 32), dtype=float32, numpy=\n",
       "array([[[-0.29476628, -1.4846324 ,  0.21258482, ..., -2.0627344 ,\n",
       "         -0.41727826,  0.6098367 ],\n",
       "        [-1.4510404 ,  1.8422836 ,  1.1670086 , ..., -1.8613719 ,\n",
       "         -0.64096   , -0.39421046],\n",
       "        [ 1.1348677 , -1.7177966 , -1.3805245 , ..., -0.3147774 ,\n",
       "          0.37796888, -0.9959667 ],\n",
       "        ...,\n",
       "        [-0.43558   ,  0.26263982,  0.68745077, ..., -1.2508583 ,\n",
       "         -0.4784719 ,  0.18468775],\n",
       "        [-0.7025399 ,  0.73815805, -0.17827159, ..., -0.33994249,\n",
       "          0.9529127 , -0.554131  ],\n",
       "        [-1.1422685 , -0.9674242 ,  1.7051014 , ...,  0.12150493,\n",
       "         -0.7911042 ,  0.6818889 ]],\n",
       "\n",
       "       [[ 2.2719846 ,  1.9630369 ,  0.22078253, ...,  0.8587999 ,\n",
       "         -1.2688284 , -0.6570166 ],\n",
       "        [ 0.39061233, -0.21660487, -1.3991038 , ...,  0.44747525,\n",
       "         -0.7016163 , -1.2229412 ],\n",
       "        [-1.4651808 ,  0.06510373,  0.53720105, ...,  0.4879503 ,\n",
       "          0.14488807, -0.81751907],\n",
       "        ...,\n",
       "        [-2.0296817 ,  1.0201144 ,  1.0488989 , ...,  1.788784  ,\n",
       "          0.21092245, -0.65874624],\n",
       "        [ 0.04111394, -0.5985886 , -0.291898  , ...,  0.26162624,\n",
       "          0.32346156, -2.0060713 ],\n",
       "        [ 0.7147189 , -0.40575173, -0.09962708, ..., -0.4821337 ,\n",
       "          0.20813382,  1.9023097 ]],\n",
       "\n",
       "       [[ 0.30076942,  0.10563596,  0.5066783 , ..., -1.2326276 ,\n",
       "          0.4779532 , -0.7865802 ],\n",
       "        [-0.0341877 ,  0.161228  ,  1.7268045 , ..., -1.5436995 ,\n",
       "          1.0126268 , -0.03137855],\n",
       "        [ 0.7093588 ,  0.54822576,  0.31886193, ..., -1.5253234 ,\n",
       "         -0.44265428, -0.6895076 ],\n",
       "        ...,\n",
       "        [-1.4544804 , -0.55060035, -0.7650353 , ...,  0.64681995,\n",
       "          0.28962132, -0.20793866],\n",
       "        [ 0.39938518, -0.966431  , -1.4202967 , ...,  0.8701736 ,\n",
       "          0.5220852 , -0.35623506],\n",
       "        [-0.13932438, -0.13850912,  2.3803823 , ...,  0.37744588,\n",
       "          0.537531  , -0.24428964]],\n",
       "\n",
       "       [[ 0.8378714 , -1.1618047 ,  1.4904184 , ..., -0.5996433 ,\n",
       "          0.3261408 ,  1.3632245 ],\n",
       "        [-0.59604186, -2.2659204 ,  0.15323251, ..., -1.7884268 ,\n",
       "         -0.13744316,  0.33249786],\n",
       "        [-0.3331764 ,  0.57589686,  1.3022132 , ..., -0.29938063,\n",
       "          0.5898903 ,  0.16816972],\n",
       "        ...,\n",
       "        [-0.44870013, -0.33845097, -0.38395703, ..., -0.02315029,\n",
       "         -0.07318602, -0.67016184],\n",
       "        [ 0.78235424,  0.39025253, -0.31171942, ..., -2.812446  ,\n",
       "         -1.3011072 , -1.2069016 ],\n",
       "        [-0.88076776, -0.6695503 , -0.9480733 , ...,  0.9686347 ,\n",
       "          0.792514  ,  1.0538037 ]]], dtype=float32)>"
      ]
     },
     "execution_count": 63,
     "metadata": {},
     "output_type": "execute_result"
    }
   ],
   "source": [
    "x[:, :, :, 1]"
   ]
  },
  {
   "cell_type": "code",
   "execution_count": 64,
   "metadata": {},
   "outputs": [
    {
     "data": {
      "text/plain": [
       "<tf.Tensor: shape=(2, 32, 32, 2), dtype=float32, numpy=\n",
       "array([[[[-0.29476628, -0.700534  ],\n",
       "         [-1.4846324 ,  1.0850297 ],\n",
       "         [ 0.21258482, -1.2915475 ],\n",
       "         ...,\n",
       "         [-2.0627344 ,  0.8838746 ],\n",
       "         [-0.41727826,  1.3340023 ],\n",
       "         [ 0.6098367 , -1.1126655 ]],\n",
       "\n",
       "        [[-1.4510404 , -1.0771036 ],\n",
       "         [ 1.8422836 , -0.18352681],\n",
       "         [ 1.1670086 , -0.7965765 ],\n",
       "         ...,\n",
       "         [-1.8613719 ,  2.4608219 ],\n",
       "         [-0.64096   ,  0.05327304],\n",
       "         [-0.39421046, -1.5607165 ]],\n",
       "\n",
       "        [[ 1.1348677 , -0.49143374],\n",
       "         [-1.7177966 , -0.70484674],\n",
       "         [-1.3805245 ,  0.8262856 ],\n",
       "         ...,\n",
       "         [-0.3147774 , -0.7719274 ],\n",
       "         [ 0.37796888,  1.4050292 ],\n",
       "         [-0.9959667 ,  1.2299182 ]],\n",
       "\n",
       "        ...,\n",
       "\n",
       "        [[-0.43558   ,  1.8561068 ],\n",
       "         [ 0.26263982, -0.22744438],\n",
       "         [ 0.68745077,  0.04764308],\n",
       "         ...,\n",
       "         [-1.2508583 , -0.13357776],\n",
       "         [-0.4784719 , -0.9089617 ],\n",
       "         [ 0.18468775,  0.07050759]],\n",
       "\n",
       "        [[-0.7025399 , -0.11999194],\n",
       "         [ 0.73815805,  0.75350326],\n",
       "         [-0.17827159,  1.4184451 ],\n",
       "         ...,\n",
       "         [-0.33994249,  1.4335984 ],\n",
       "         [ 0.9529127 ,  1.0226971 ],\n",
       "         [-0.554131  ,  1.1896031 ]],\n",
       "\n",
       "        [[-1.1422685 ,  0.13157919],\n",
       "         [-0.9674242 , -0.4151857 ],\n",
       "         [ 1.7051014 ,  0.25454706],\n",
       "         ...,\n",
       "         [ 0.12150493, -0.05787436],\n",
       "         [-0.7911042 , -0.5662398 ],\n",
       "         [ 0.6818889 ,  0.75813836]]],\n",
       "\n",
       "\n",
       "       [[[ 2.2719846 ,  0.26056057],\n",
       "         [ 1.9630369 ,  1.119589  ],\n",
       "         [ 0.22078253, -0.7829764 ],\n",
       "         ...,\n",
       "         [ 0.8587999 , -0.37874192],\n",
       "         [-1.2688284 ,  0.06628744],\n",
       "         [-0.6570166 ,  1.515036  ]],\n",
       "\n",
       "        [[ 0.39061233, -0.03087217],\n",
       "         [-0.21660487, -0.51204854],\n",
       "         [-1.3991038 , -1.4595991 ],\n",
       "         ...,\n",
       "         [ 0.44747525, -1.3973246 ],\n",
       "         [-0.7016163 ,  2.2946882 ],\n",
       "         [-1.2229412 , -2.2937782 ]],\n",
       "\n",
       "        [[-1.4651808 ,  0.05211142],\n",
       "         [ 0.06510373,  1.2322762 ],\n",
       "         [ 0.53720105,  2.0651782 ],\n",
       "         ...,\n",
       "         [ 0.4879503 ,  1.6975142 ],\n",
       "         [ 0.14488807, -0.5374498 ],\n",
       "         [-0.81751907, -0.8313217 ]],\n",
       "\n",
       "        ...,\n",
       "\n",
       "        [[-2.0296817 , -0.8643656 ],\n",
       "         [ 1.0201144 , -0.9739921 ],\n",
       "         [ 1.0488989 , -1.609871  ],\n",
       "         ...,\n",
       "         [ 1.788784  , -1.5254401 ],\n",
       "         [ 0.21092245,  0.27530703],\n",
       "         [-0.65874624,  0.662927  ]],\n",
       "\n",
       "        [[ 0.04111394,  0.45952418],\n",
       "         [-0.5985886 ,  0.459717  ],\n",
       "         [-0.291898  ,  0.83850676],\n",
       "         ...,\n",
       "         [ 0.26162624,  1.5719943 ],\n",
       "         [ 0.32346156,  0.8182806 ],\n",
       "         [-2.0060713 , -2.7360094 ]],\n",
       "\n",
       "        [[ 0.7147189 ,  1.3942171 ],\n",
       "         [-0.40575173, -1.279959  ],\n",
       "         [-0.09962708,  0.29601234],\n",
       "         ...,\n",
       "         [-0.4821337 , -1.3697373 ],\n",
       "         [ 0.20813382,  0.788141  ],\n",
       "         [ 1.9023097 ,  1.4847535 ]]]], dtype=float32)>"
      ]
     },
     "execution_count": 64,
     "metadata": {},
     "output_type": "execute_result"
    }
   ],
   "source": [
    "x[0:2, ..., 1:]"
   ]
  },
  {
   "cell_type": "code",
   "execution_count": 65,
   "metadata": {},
   "outputs": [
    {
     "data": {
      "text/plain": [
       "<tf.Tensor: shape=(2, 32, 32, 3), dtype=float32, numpy=\n",
       "array([[[[ 0.09323329,  0.30076942,  0.6284281 ],\n",
       "         [ 0.06823078,  0.10563596,  0.95778984],\n",
       "         [-0.265474  ,  0.5066783 , -0.80227065],\n",
       "         ...,\n",
       "         [ 1.6331784 , -1.2326276 ,  0.3023695 ],\n",
       "         [-0.3541375 ,  0.4779532 , -0.75280654],\n",
       "         [ 0.70451504, -0.7865802 ,  0.17725089]],\n",
       "\n",
       "        [[ 1.2267615 , -0.0341877 ,  0.22635172],\n",
       "         [ 0.59548026,  0.161228  ,  2.5218039 ],\n",
       "         [-0.1506424 ,  1.7268045 ,  0.85613334],\n",
       "         ...,\n",
       "         [-1.0854563 , -1.5436995 ,  0.7422936 ],\n",
       "         [-1.8983    ,  1.0126268 , -0.64718306],\n",
       "         [-1.3659754 , -0.03137855, -0.09347133]],\n",
       "\n",
       "        [[-0.8371452 ,  0.7093588 , -0.22796308],\n",
       "         [ 0.2956057 ,  0.54822576,  1.1440338 ],\n",
       "         [ 0.6146299 ,  0.31886193,  0.08191098],\n",
       "         ...,\n",
       "         [-0.19574623, -1.5253234 , -1.1071409 ],\n",
       "         [-1.5542624 , -0.44265428, -0.16286346],\n",
       "         [-0.63499707, -0.6895076 , -0.68591946]],\n",
       "\n",
       "        ...,\n",
       "\n",
       "        [[-1.8203243 , -1.4544804 ,  0.30268863],\n",
       "         [ 0.07298313, -0.55060035,  0.7388138 ],\n",
       "         [ 0.7655009 , -0.7650353 , -0.14540075],\n",
       "         ...,\n",
       "         [ 0.9359801 ,  0.64681995,  0.79785985],\n",
       "         [ 1.6564353 ,  0.28962132, -0.7227654 ],\n",
       "         [ 0.40471533, -0.20793866, -0.6672007 ]],\n",
       "\n",
       "        [[-0.01085473,  0.39938518, -0.00589382],\n",
       "         [-0.39652395, -0.966431  ,  0.62384915],\n",
       "         [ 2.43601   , -1.4202967 , -0.5112783 ],\n",
       "         ...,\n",
       "         [ 2.4083402 ,  0.8701736 , -1.4484218 ],\n",
       "         [ 0.8065883 ,  0.5220852 , -0.16511182],\n",
       "         [-0.61516476, -0.35623506,  2.1420536 ]],\n",
       "\n",
       "        [[ 0.8476727 , -0.13932438, -0.70883393],\n",
       "         [-0.33350998, -0.13850912, -0.7863331 ],\n",
       "         [ 0.08915834,  2.3803823 ,  1.4360139 ],\n",
       "         ...,\n",
       "         [ 0.55246013,  0.37744588,  0.8003505 ],\n",
       "         [-0.42880562,  0.537531  ,  1.1413052 ],\n",
       "         [-1.8007385 , -0.24428964,  0.0630127 ]]],\n",
       "\n",
       "\n",
       "       [[[-0.3894062 ,  0.8378714 ,  0.21896966],\n",
       "         [-0.35039845, -1.1618047 ,  2.0547523 ],\n",
       "         [ 0.6384503 ,  1.4904184 , -0.68261707],\n",
       "         ...,\n",
       "         [ 2.058434  , -0.5996433 ,  1.642306  ],\n",
       "         [-2.245126  ,  0.3261408 ,  0.34130615],\n",
       "         [-0.5763816 ,  1.3632245 , -1.7368805 ]],\n",
       "\n",
       "        [[-0.21494004, -0.59604186, -0.34028986],\n",
       "         [-0.43760222, -2.2659204 ,  0.44949675],\n",
       "         [-0.05845751,  0.15323251,  0.59957814],\n",
       "         ...,\n",
       "         [ 1.0520737 , -1.7884268 ,  1.173224  ],\n",
       "         [ 0.4974486 , -0.13744316,  0.20249465],\n",
       "         [ 0.0250126 ,  0.33249786, -2.1153266 ]],\n",
       "\n",
       "        [[ 0.53183824, -0.3331764 ,  0.8507224 ],\n",
       "         [ 0.67848116,  0.57589686,  1.3710293 ],\n",
       "         [-0.07897922,  1.3022132 , -1.0253525 ],\n",
       "         ...,\n",
       "         [-0.3026009 , -0.29938063, -0.08313733],\n",
       "         [-2.6039295 ,  0.5898903 , -0.10406981],\n",
       "         [ 0.20216335,  0.16816972,  0.31502572]],\n",
       "\n",
       "        ...,\n",
       "\n",
       "        [[-1.578004  , -0.44870013,  0.2706297 ],\n",
       "         [-1.79708   , -0.33845097, -0.85235804],\n",
       "         [ 0.7127771 , -0.38395703,  1.0877748 ],\n",
       "         ...,\n",
       "         [ 0.8108354 , -0.02315029, -0.34749123],\n",
       "         [ 1.2708918 , -0.07318602, -1.1250858 ],\n",
       "         [-0.47360784, -0.67016184,  1.5257614 ]],\n",
       "\n",
       "        [[-0.35693347,  0.78235424, -0.5490914 ],\n",
       "         [-0.8867853 ,  0.39025253,  0.6857256 ],\n",
       "         [ 0.4013762 , -0.31171942, -0.5820233 ],\n",
       "         ...,\n",
       "         [-0.63429767, -2.812446  ,  0.6908536 ],\n",
       "         [-1.1233186 , -1.3011072 ,  0.9912416 ],\n",
       "         [ 0.1074193 , -1.2069016 , -0.5814637 ]],\n",
       "\n",
       "        [[ 0.03555838, -0.88076776, -0.56216264],\n",
       "         [ 0.8579916 , -0.6695503 , -0.9824833 ],\n",
       "         [ 0.13769472, -0.9480733 ,  0.7053295 ],\n",
       "         ...,\n",
       "         [ 0.47482195,  0.9686347 , -0.38363594],\n",
       "         [ 0.4901487 ,  0.792514  ,  1.8965226 ],\n",
       "         [-1.9286962 ,  1.0538037 ,  1.6587424 ]]]], dtype=float32)>"
      ]
     },
     "execution_count": 65,
     "metadata": {},
     "output_type": "execute_result"
    }
   ],
   "source": [
    "x[2:, ...]"
   ]
  },
  {
   "cell_type": "code",
   "execution_count": 66,
   "metadata": {},
   "outputs": [
    {
     "data": {
      "text/plain": [
       "<tf.Tensor: shape=(4, 32, 32, 2), dtype=float32, numpy=\n",
       "array([[[[-0.12268943, -0.29476628],\n",
       "         [-0.6382878 , -1.4846324 ],\n",
       "         [ 2.2765582 ,  0.21258482],\n",
       "         ...,\n",
       "         [ 0.13087702, -2.0627344 ],\n",
       "         [-0.21862619, -0.41727826],\n",
       "         [ 0.47605273,  0.6098367 ]],\n",
       "\n",
       "        [[-1.1080235 , -1.4510404 ],\n",
       "         [ 1.5121437 ,  1.8422836 ],\n",
       "         [-0.02205044,  1.1670086 ],\n",
       "         ...,\n",
       "         [-0.42884958, -1.8613719 ],\n",
       "         [-1.0516881 , -0.64096   ],\n",
       "         [ 0.05502985, -0.39421046]],\n",
       "\n",
       "        [[ 0.80764914,  1.1348677 ],\n",
       "         [-0.871844  , -1.7177966 ],\n",
       "         [ 0.18825911, -1.3805245 ],\n",
       "         ...,\n",
       "         [-0.3765029 , -0.3147774 ],\n",
       "         [ 1.1552559 ,  0.37796888],\n",
       "         [-1.3380783 , -0.9959667 ]],\n",
       "\n",
       "        ...,\n",
       "\n",
       "        [[-1.3869412 , -0.43558   ],\n",
       "         [ 0.06871399,  0.26263982],\n",
       "         [-0.5193884 ,  0.68745077],\n",
       "         ...,\n",
       "         [-0.2037869 , -1.2508583 ],\n",
       "         [ 0.42774296, -0.4784719 ],\n",
       "         [-1.3639302 ,  0.18468775]],\n",
       "\n",
       "        [[-0.08272931, -0.7025399 ],\n",
       "         [ 1.0431103 ,  0.73815805],\n",
       "         [-0.05729244, -0.17827159],\n",
       "         ...,\n",
       "         [ 0.97965807, -0.33994249],\n",
       "         [-0.23789948,  0.9529127 ],\n",
       "         [-0.7854538 , -0.554131  ]],\n",
       "\n",
       "        [[ 1.2467189 , -1.1422685 ],\n",
       "         [ 0.39308068, -0.9674242 ],\n",
       "         [ 1.798127  ,  1.7051014 ],\n",
       "         ...,\n",
       "         [-0.4933091 ,  0.12150493],\n",
       "         [-0.35611767, -0.7911042 ],\n",
       "         [-0.32137462,  0.6818889 ]]],\n",
       "\n",
       "\n",
       "       [[[ 1.0944    ,  2.2719846 ],\n",
       "         [ 0.10237064,  1.9630369 ],\n",
       "         [ 0.00354169,  0.22078253],\n",
       "         ...,\n",
       "         [ 0.17270318,  0.8587999 ],\n",
       "         [ 0.873503  , -1.2688284 ],\n",
       "         [ 2.044477  , -0.6570166 ]],\n",
       "\n",
       "        [[ 1.8194534 ,  0.39061233],\n",
       "         [-0.77990764, -0.21660487],\n",
       "         [ 0.81928307, -1.3991038 ],\n",
       "         ...,\n",
       "         [ 0.17420372,  0.44747525],\n",
       "         [ 0.26123968, -0.7016163 ],\n",
       "         [-0.57875293, -1.2229412 ]],\n",
       "\n",
       "        [[ 0.43442538, -1.4651808 ],\n",
       "         [-0.16275148,  0.06510373],\n",
       "         [-0.7661029 ,  0.53720105],\n",
       "         ...,\n",
       "         [-0.99988544,  0.4879503 ],\n",
       "         [-0.05284439,  0.14488807],\n",
       "         [ 0.02389451, -0.81751907]],\n",
       "\n",
       "        ...,\n",
       "\n",
       "        [[-1.2735363 , -2.0296817 ],\n",
       "         [ 0.24704956,  1.0201144 ],\n",
       "         [ 1.0745467 ,  1.0488989 ],\n",
       "         ...,\n",
       "         [ 0.45402604,  1.788784  ],\n",
       "         [-0.35209462,  0.21092245],\n",
       "         [ 0.78556603, -0.65874624]],\n",
       "\n",
       "        [[ 0.2415935 ,  0.04111394],\n",
       "         [ 0.23870227, -0.5985886 ],\n",
       "         [ 0.637164  , -0.291898  ],\n",
       "         ...,\n",
       "         [ 1.610865  ,  0.26162624],\n",
       "         [ 1.1573554 ,  0.32346156],\n",
       "         [ 0.02800219, -2.0060713 ]],\n",
       "\n",
       "        [[ 1.3259605 ,  0.7147189 ],\n",
       "         [-0.6761791 , -0.40575173],\n",
       "         [-0.23427974, -0.09962708],\n",
       "         ...,\n",
       "         [-0.4976147 , -0.4821337 ],\n",
       "         [ 2.2428997 ,  0.20813382],\n",
       "         [-1.4725841 ,  1.9023097 ]]],\n",
       "\n",
       "\n",
       "       [[[ 0.09323329,  0.30076942],\n",
       "         [ 0.06823078,  0.10563596],\n",
       "         [-0.265474  ,  0.5066783 ],\n",
       "         ...,\n",
       "         [ 1.6331784 , -1.2326276 ],\n",
       "         [-0.3541375 ,  0.4779532 ],\n",
       "         [ 0.70451504, -0.7865802 ]],\n",
       "\n",
       "        [[ 1.2267615 , -0.0341877 ],\n",
       "         [ 0.59548026,  0.161228  ],\n",
       "         [-0.1506424 ,  1.7268045 ],\n",
       "         ...,\n",
       "         [-1.0854563 , -1.5436995 ],\n",
       "         [-1.8983    ,  1.0126268 ],\n",
       "         [-1.3659754 , -0.03137855]],\n",
       "\n",
       "        [[-0.8371452 ,  0.7093588 ],\n",
       "         [ 0.2956057 ,  0.54822576],\n",
       "         [ 0.6146299 ,  0.31886193],\n",
       "         ...,\n",
       "         [-0.19574623, -1.5253234 ],\n",
       "         [-1.5542624 , -0.44265428],\n",
       "         [-0.63499707, -0.6895076 ]],\n",
       "\n",
       "        ...,\n",
       "\n",
       "        [[-1.8203243 , -1.4544804 ],\n",
       "         [ 0.07298313, -0.55060035],\n",
       "         [ 0.7655009 , -0.7650353 ],\n",
       "         ...,\n",
       "         [ 0.9359801 ,  0.64681995],\n",
       "         [ 1.6564353 ,  0.28962132],\n",
       "         [ 0.40471533, -0.20793866]],\n",
       "\n",
       "        [[-0.01085473,  0.39938518],\n",
       "         [-0.39652395, -0.966431  ],\n",
       "         [ 2.43601   , -1.4202967 ],\n",
       "         ...,\n",
       "         [ 2.4083402 ,  0.8701736 ],\n",
       "         [ 0.8065883 ,  0.5220852 ],\n",
       "         [-0.61516476, -0.35623506]],\n",
       "\n",
       "        [[ 0.8476727 , -0.13932438],\n",
       "         [-0.33350998, -0.13850912],\n",
       "         [ 0.08915834,  2.3803823 ],\n",
       "         ...,\n",
       "         [ 0.55246013,  0.37744588],\n",
       "         [-0.42880562,  0.537531  ],\n",
       "         [-1.8007385 , -0.24428964]]],\n",
       "\n",
       "\n",
       "       [[[-0.3894062 ,  0.8378714 ],\n",
       "         [-0.35039845, -1.1618047 ],\n",
       "         [ 0.6384503 ,  1.4904184 ],\n",
       "         ...,\n",
       "         [ 2.058434  , -0.5996433 ],\n",
       "         [-2.245126  ,  0.3261408 ],\n",
       "         [-0.5763816 ,  1.3632245 ]],\n",
       "\n",
       "        [[-0.21494004, -0.59604186],\n",
       "         [-0.43760222, -2.2659204 ],\n",
       "         [-0.05845751,  0.15323251],\n",
       "         ...,\n",
       "         [ 1.0520737 , -1.7884268 ],\n",
       "         [ 0.4974486 , -0.13744316],\n",
       "         [ 0.0250126 ,  0.33249786]],\n",
       "\n",
       "        [[ 0.53183824, -0.3331764 ],\n",
       "         [ 0.67848116,  0.57589686],\n",
       "         [-0.07897922,  1.3022132 ],\n",
       "         ...,\n",
       "         [-0.3026009 , -0.29938063],\n",
       "         [-2.6039295 ,  0.5898903 ],\n",
       "         [ 0.20216335,  0.16816972]],\n",
       "\n",
       "        ...,\n",
       "\n",
       "        [[-1.578004  , -0.44870013],\n",
       "         [-1.79708   , -0.33845097],\n",
       "         [ 0.7127771 , -0.38395703],\n",
       "         ...,\n",
       "         [ 0.8108354 , -0.02315029],\n",
       "         [ 1.2708918 , -0.07318602],\n",
       "         [-0.47360784, -0.67016184]],\n",
       "\n",
       "        [[-0.35693347,  0.78235424],\n",
       "         [-0.8867853 ,  0.39025253],\n",
       "         [ 0.4013762 , -0.31171942],\n",
       "         ...,\n",
       "         [-0.63429767, -2.812446  ],\n",
       "         [-1.1233186 , -1.3011072 ],\n",
       "         [ 0.1074193 , -1.2069016 ]],\n",
       "\n",
       "        [[ 0.03555838, -0.88076776],\n",
       "         [ 0.8579916 , -0.6695503 ],\n",
       "         [ 0.13769472, -0.9480733 ],\n",
       "         ...,\n",
       "         [ 0.47482195,  0.9686347 ],\n",
       "         [ 0.4901487 ,  0.792514  ],\n",
       "         [-1.9286962 ,  1.0538037 ]]]], dtype=float32)>"
      ]
     },
     "execution_count": 66,
     "metadata": {},
     "output_type": "execute_result"
    }
   ],
   "source": [
    "x[..., :2]"
   ]
  },
  {
   "cell_type": "markdown",
   "metadata": {},
   "source": [
    "## 4.7 Dimensional Transformation"
   ]
  },
  {
   "cell_type": "markdown",
   "metadata": {},
   "source": [
    "### reshape"
   ]
  },
  {
   "cell_type": "code",
   "execution_count": 67,
   "metadata": {},
   "outputs": [
    {
     "data": {
      "text/plain": [
       "<tf.Tensor: shape=(2, 4, 4, 3), dtype=int32, numpy=\n",
       "array([[[[ 0,  1,  2],\n",
       "         [ 3,  4,  5],\n",
       "         [ 6,  7,  8],\n",
       "         [ 9, 10, 11]],\n",
       "\n",
       "        [[12, 13, 14],\n",
       "         [15, 16, 17],\n",
       "         [18, 19, 20],\n",
       "         [21, 22, 23]],\n",
       "\n",
       "        [[24, 25, 26],\n",
       "         [27, 28, 29],\n",
       "         [30, 31, 32],\n",
       "         [33, 34, 35]],\n",
       "\n",
       "        [[36, 37, 38],\n",
       "         [39, 40, 41],\n",
       "         [42, 43, 44],\n",
       "         [45, 46, 47]]],\n",
       "\n",
       "\n",
       "       [[[48, 49, 50],\n",
       "         [51, 52, 53],\n",
       "         [54, 55, 56],\n",
       "         [57, 58, 59]],\n",
       "\n",
       "        [[60, 61, 62],\n",
       "         [63, 64, 65],\n",
       "         [66, 67, 68],\n",
       "         [69, 70, 71]],\n",
       "\n",
       "        [[72, 73, 74],\n",
       "         [75, 76, 77],\n",
       "         [78, 79, 80],\n",
       "         [81, 82, 83]],\n",
       "\n",
       "        [[84, 85, 86],\n",
       "         [87, 88, 89],\n",
       "         [90, 91, 92],\n",
       "         [93, 94, 95]]]])>"
      ]
     },
     "execution_count": 67,
     "metadata": {},
     "output_type": "execute_result"
    }
   ],
   "source": [
    "x=tf.range(96)\n",
    "x=tf.reshape(x, [2,4,4,3])\n",
    "x"
   ]
  },
  {
   "cell_type": "code",
   "execution_count": 68,
   "metadata": {},
   "outputs": [
    {
     "data": {
      "text/plain": [
       "(4, TensorShape([2, 4, 4, 3]))"
      ]
     },
     "execution_count": 68,
     "metadata": {},
     "output_type": "execute_result"
    }
   ],
   "source": [
    "x.ndim, x.shape"
   ]
  },
  {
   "cell_type": "code",
   "execution_count": 69,
   "metadata": {},
   "outputs": [
    {
     "data": {
      "text/plain": [
       "<tf.Tensor: shape=(2, 48), dtype=int32, numpy=\n",
       "array([[ 0,  1,  2,  3,  4,  5,  6,  7,  8,  9, 10, 11, 12, 13, 14, 15,\n",
       "        16, 17, 18, 19, 20, 21, 22, 23, 24, 25, 26, 27, 28, 29, 30, 31,\n",
       "        32, 33, 34, 35, 36, 37, 38, 39, 40, 41, 42, 43, 44, 45, 46, 47],\n",
       "       [48, 49, 50, 51, 52, 53, 54, 55, 56, 57, 58, 59, 60, 61, 62, 63,\n",
       "        64, 65, 66, 67, 68, 69, 70, 71, 72, 73, 74, 75, 76, 77, 78, 79,\n",
       "        80, 81, 82, 83, 84, 85, 86, 87, 88, 89, 90, 91, 92, 93, 94, 95]])>"
      ]
     },
     "execution_count": 69,
     "metadata": {},
     "output_type": "execute_result"
    }
   ],
   "source": [
    "tf.reshape(x, [2, -1])"
   ]
  },
  {
   "cell_type": "code",
   "execution_count": 70,
   "metadata": {},
   "outputs": [
    {
     "data": {
      "text/plain": [
       "<tf.Tensor: shape=(2, 4, 12), dtype=int32, numpy=\n",
       "array([[[ 0,  1,  2,  3,  4,  5,  6,  7,  8,  9, 10, 11],\n",
       "        [12, 13, 14, 15, 16, 17, 18, 19, 20, 21, 22, 23],\n",
       "        [24, 25, 26, 27, 28, 29, 30, 31, 32, 33, 34, 35],\n",
       "        [36, 37, 38, 39, 40, 41, 42, 43, 44, 45, 46, 47]],\n",
       "\n",
       "       [[48, 49, 50, 51, 52, 53, 54, 55, 56, 57, 58, 59],\n",
       "        [60, 61, 62, 63, 64, 65, 66, 67, 68, 69, 70, 71],\n",
       "        [72, 73, 74, 75, 76, 77, 78, 79, 80, 81, 82, 83],\n",
       "        [84, 85, 86, 87, 88, 89, 90, 91, 92, 93, 94, 95]]])>"
      ]
     },
     "execution_count": 70,
     "metadata": {},
     "output_type": "execute_result"
    }
   ],
   "source": [
    "tf.reshape(x, [2,4,12])"
   ]
  },
  {
   "cell_type": "code",
   "execution_count": 71,
   "metadata": {},
   "outputs": [
    {
     "data": {
      "text/plain": [
       "<tf.Tensor: shape=(2, 16, 3), dtype=int32, numpy=\n",
       "array([[[ 0,  1,  2],\n",
       "        [ 3,  4,  5],\n",
       "        [ 6,  7,  8],\n",
       "        [ 9, 10, 11],\n",
       "        [12, 13, 14],\n",
       "        [15, 16, 17],\n",
       "        [18, 19, 20],\n",
       "        [21, 22, 23],\n",
       "        [24, 25, 26],\n",
       "        [27, 28, 29],\n",
       "        [30, 31, 32],\n",
       "        [33, 34, 35],\n",
       "        [36, 37, 38],\n",
       "        [39, 40, 41],\n",
       "        [42, 43, 44],\n",
       "        [45, 46, 47]],\n",
       "\n",
       "       [[48, 49, 50],\n",
       "        [51, 52, 53],\n",
       "        [54, 55, 56],\n",
       "        [57, 58, 59],\n",
       "        [60, 61, 62],\n",
       "        [63, 64, 65],\n",
       "        [66, 67, 68],\n",
       "        [69, 70, 71],\n",
       "        [72, 73, 74],\n",
       "        [75, 76, 77],\n",
       "        [78, 79, 80],\n",
       "        [81, 82, 83],\n",
       "        [84, 85, 86],\n",
       "        [87, 88, 89],\n",
       "        [90, 91, 92],\n",
       "        [93, 94, 95]]])>"
      ]
     },
     "execution_count": 71,
     "metadata": {},
     "output_type": "execute_result"
    }
   ],
   "source": [
    "tf.reshape(x, [2,-1,3])"
   ]
  },
  {
   "attachments": {},
   "cell_type": "markdown",
   "metadata": {},
   "source": [
    "### add and delete dimensions"
   ]
  },
  {
   "cell_type": "code",
   "execution_count": 72,
   "metadata": {},
   "outputs": [
    {
     "data": {
      "text/plain": [
       "<tf.Tensor: shape=(28, 28), dtype=int32, numpy=\n",
       "array([[6, 9, 5, 5, 0, 1, 5, 1, 7, 7, 7, 2, 3, 4, 3, 0, 8, 5, 4, 5, 1, 2,\n",
       "        5, 2, 4, 5, 4, 9],\n",
       "       [3, 0, 4, 4, 4, 2, 1, 0, 1, 4, 4, 5, 7, 1, 4, 0, 9, 6, 2, 6, 9, 7,\n",
       "        0, 2, 8, 1, 1, 6],\n",
       "       [2, 6, 7, 5, 6, 1, 2, 4, 4, 4, 8, 0, 1, 9, 0, 3, 0, 2, 2, 3, 9, 5,\n",
       "        2, 7, 6, 8, 2, 7],\n",
       "       [3, 6, 8, 3, 8, 6, 9, 4, 9, 9, 7, 7, 7, 7, 1, 2, 1, 2, 9, 5, 1, 6,\n",
       "        4, 9, 9, 3, 5, 4],\n",
       "       [4, 8, 7, 1, 2, 0, 8, 8, 0, 2, 9, 5, 3, 6, 3, 6, 1, 5, 2, 5, 2, 4,\n",
       "        2, 8, 7, 4, 5, 6],\n",
       "       [9, 6, 3, 2, 6, 3, 6, 3, 1, 8, 9, 0, 4, 7, 6, 1, 8, 7, 1, 5, 0, 3,\n",
       "        4, 7, 7, 4, 0, 9],\n",
       "       [5, 9, 5, 4, 5, 6, 2, 0, 8, 5, 2, 6, 1, 2, 2, 7, 3, 1, 7, 0, 2, 2,\n",
       "        9, 9, 8, 6, 0, 2],\n",
       "       [3, 4, 9, 7, 7, 0, 2, 8, 9, 2, 0, 9, 9, 2, 0, 7, 3, 1, 7, 1, 0, 7,\n",
       "        7, 2, 3, 8, 7, 6],\n",
       "       [8, 8, 5, 6, 5, 9, 2, 5, 5, 3, 5, 9, 1, 6, 4, 4, 5, 8, 7, 8, 7, 8,\n",
       "        6, 1, 7, 8, 8, 8],\n",
       "       [2, 4, 3, 9, 4, 7, 7, 4, 3, 0, 5, 0, 3, 3, 5, 0, 7, 4, 7, 7, 5, 1,\n",
       "        7, 3, 8, 4, 5, 5],\n",
       "       [6, 5, 0, 2, 4, 1, 4, 8, 8, 9, 4, 2, 1, 3, 9, 9, 4, 7, 4, 8, 1, 7,\n",
       "        3, 2, 4, 9, 3, 0],\n",
       "       [3, 6, 9, 7, 4, 4, 3, 9, 5, 3, 6, 9, 8, 7, 9, 8, 2, 1, 8, 7, 5, 5,\n",
       "        1, 4, 3, 6, 1, 9],\n",
       "       [3, 1, 2, 7, 0, 6, 6, 2, 7, 4, 4, 5, 3, 0, 2, 1, 3, 8, 0, 1, 8, 0,\n",
       "        7, 0, 3, 5, 1, 5],\n",
       "       [7, 7, 6, 2, 1, 2, 1, 0, 0, 8, 1, 6, 4, 0, 8, 8, 2, 1, 7, 4, 7, 3,\n",
       "        1, 1, 3, 7, 3, 9],\n",
       "       [4, 6, 5, 5, 8, 3, 1, 3, 1, 3, 1, 6, 2, 9, 2, 5, 4, 3, 9, 6, 0, 1,\n",
       "        9, 4, 8, 1, 8, 0],\n",
       "       [2, 7, 6, 7, 8, 3, 7, 8, 7, 4, 0, 7, 4, 5, 2, 8, 8, 0, 4, 1, 1, 2,\n",
       "        3, 6, 7, 5, 8, 0],\n",
       "       [2, 2, 5, 8, 2, 7, 2, 4, 4, 8, 7, 6, 8, 5, 5, 4, 0, 3, 0, 5, 4, 4,\n",
       "        8, 6, 3, 7, 8, 6],\n",
       "       [0, 6, 1, 2, 8, 6, 6, 2, 5, 1, 1, 7, 0, 1, 2, 2, 7, 2, 9, 1, 2, 1,\n",
       "        1, 4, 5, 6, 4, 3],\n",
       "       [3, 1, 8, 6, 8, 6, 9, 6, 9, 2, 6, 3, 2, 9, 1, 0, 9, 5, 2, 9, 5, 8,\n",
       "        6, 0, 7, 9, 5, 8],\n",
       "       [3, 1, 0, 3, 3, 6, 2, 0, 6, 6, 8, 0, 9, 5, 8, 2, 2, 1, 3, 1, 2, 0,\n",
       "        9, 1, 6, 6, 2, 2],\n",
       "       [1, 7, 1, 2, 3, 8, 2, 3, 5, 9, 3, 9, 8, 7, 6, 8, 0, 4, 8, 1, 8, 0,\n",
       "        0, 1, 9, 0, 8, 3],\n",
       "       [7, 9, 5, 7, 8, 2, 1, 9, 6, 3, 3, 9, 1, 2, 7, 2, 7, 9, 2, 2, 3, 5,\n",
       "        8, 0, 9, 9, 6, 1],\n",
       "       [7, 7, 6, 3, 9, 5, 8, 2, 2, 1, 4, 5, 1, 9, 1, 5, 3, 1, 4, 7, 0, 3,\n",
       "        1, 0, 1, 9, 3, 9],\n",
       "       [8, 6, 0, 0, 2, 9, 8, 5, 4, 8, 3, 8, 0, 2, 2, 4, 8, 8, 1, 1, 5, 8,\n",
       "        0, 0, 8, 8, 9, 5],\n",
       "       [5, 7, 2, 7, 1, 8, 0, 0, 8, 3, 3, 8, 5, 4, 9, 7, 7, 3, 5, 0, 5, 5,\n",
       "        5, 3, 1, 7, 4, 9],\n",
       "       [2, 7, 6, 1, 7, 7, 7, 5, 9, 1, 8, 3, 8, 4, 6, 5, 7, 1, 9, 4, 1, 6,\n",
       "        8, 3, 7, 5, 7, 1],\n",
       "       [9, 8, 9, 6, 3, 4, 8, 0, 1, 0, 6, 0, 6, 6, 3, 4, 4, 4, 0, 1, 4, 5,\n",
       "        1, 2, 7, 7, 5, 0],\n",
       "       [0, 6, 2, 4, 3, 6, 2, 6, 5, 5, 1, 6, 1, 9, 4, 9, 0, 8, 9, 2, 5, 6,\n",
       "        8, 2, 4, 8, 2, 9]])>"
      ]
     },
     "execution_count": 72,
     "metadata": {},
     "output_type": "execute_result"
    }
   ],
   "source": [
    "x=tf.random.uniform([28,28], maxval=10, dtype=tf.int32)\n",
    "x"
   ]
  },
  {
   "cell_type": "code",
   "execution_count": 73,
   "metadata": {},
   "outputs": [
    {
     "data": {
      "text/plain": [
       "TensorShape([1, 28, 28])"
      ]
     },
     "execution_count": 73,
     "metadata": {},
     "output_type": "execute_result"
    }
   ],
   "source": [
    "# add a dimension\n",
    "x=tf.expand_dims(x, axis=0)\n",
    "x.shape"
   ]
  },
  {
   "cell_type": "code",
   "execution_count": 74,
   "metadata": {},
   "outputs": [
    {
     "data": {
      "text/plain": [
       "TensorShape([28, 28])"
      ]
     },
     "execution_count": 74,
     "metadata": {},
     "output_type": "execute_result"
    }
   ],
   "source": [
    "# delete a dimension\n",
    "x=tf.squeeze(x, axis=0)\n",
    "x.shape"
   ]
  },
  {
   "attachments": {},
   "cell_type": "markdown",
   "metadata": {},
   "source": [
    "### swap dimensions"
   ]
  },
  {
   "cell_type": "code",
   "execution_count": 75,
   "metadata": {},
   "outputs": [
    {
     "data": {
      "text/plain": [
       "<tf.Tensor: shape=(2, 3, 32, 32), dtype=float32, numpy=\n",
       "array([[[[-6.50658906e-01,  3.77542824e-01,  3.39673698e-01, ...,\n",
       "           2.28995562e-01, -9.42751989e-02,  1.82932734e+00],\n",
       "         [ 2.26224720e-01, -8.33348513e-01,  1.95682144e+00, ...,\n",
       "          -5.73563516e-01,  1.44072151e+00, -2.17968792e-01],\n",
       "         [ 1.23591554e+00, -9.16069388e-01,  2.03531456e+00, ...,\n",
       "           1.07506537e+00, -4.95367318e-01, -7.44102180e-01],\n",
       "         ...,\n",
       "         [ 5.41137345e-02,  3.38746130e-01,  3.36289763e-01, ...,\n",
       "          -3.25536281e-02, -3.40288788e-01, -3.63115460e-01],\n",
       "         [ 9.39918876e-01,  8.51026252e-02, -5.45438588e-01, ...,\n",
       "          -4.10508454e-01, -9.00136530e-01,  6.06765807e-01],\n",
       "         [ 6.65787756e-01, -1.57235324e+00,  9.84008610e-02, ...,\n",
       "          -1.69453180e+00,  3.46408278e-01, -4.61338162e-01]],\n",
       "\n",
       "        [[-5.08369982e-01,  1.17185009e+00, -1.94938743e+00, ...,\n",
       "           4.57844168e-01,  1.56717610e+00,  1.27134418e+00],\n",
       "         [-1.06207883e+00,  5.16936719e-01, -3.54784489e-01, ...,\n",
       "           6.93613350e-01,  6.21174693e-01, -7.07078874e-01],\n",
       "         [ 8.01424026e-01,  6.92081273e-01,  8.37229252e-01, ...,\n",
       "          -1.30797172e+00, -9.71823514e-01,  8.33652735e-01],\n",
       "         ...,\n",
       "         [-2.22781897e+00, -5.67853451e-01, -1.35422635e+00, ...,\n",
       "           1.08116686e+00,  1.33193004e+00,  2.16507435e+00],\n",
       "         [ 4.82050240e-01,  4.59044017e-02, -4.55816209e-01, ...,\n",
       "           1.25136733e+00,  1.39229858e+00,  1.59197962e+00],\n",
       "         [ 7.34910965e-01, -6.81005716e-01,  1.09506178e+00, ...,\n",
       "           1.38967407e+00,  1.24824429e+00, -8.47098053e-01]],\n",
       "\n",
       "        [[ 2.97232687e-01, -1.18172395e+00,  1.80982113e+00, ...,\n",
       "           1.57376096e-01, -1.91401756e+00, -6.26009285e-01],\n",
       "         [ 4.56677109e-01,  1.42665827e+00,  1.45531356e-01, ...,\n",
       "          -1.05721667e-01, -4.60907102e-01, -6.07342601e-01],\n",
       "         [-1.01182890e+00,  7.16634929e-01,  1.82225907e+00, ...,\n",
       "           8.42634141e-01, -2.93243974e-01, -1.93787444e+00],\n",
       "         ...,\n",
       "         [-4.52516302e-02, -4.54970419e-01, -2.31211686e+00, ...,\n",
       "          -5.33251643e-01, -1.00684419e-01,  6.72573805e-01],\n",
       "         [-3.97845358e-01, -8.65514338e-01, -3.29726011e-01, ...,\n",
       "           1.08527160e+00, -1.51773441e+00,  1.51408941e-01],\n",
       "         [ 1.72164276e-01, -1.66276127e-01, -2.27072671e-01, ...,\n",
       "          -3.93642157e-01, -3.88406157e-01, -5.03297985e-01]]],\n",
       "\n",
       "\n",
       "       [[[-6.36590600e-01,  7.36923099e-01,  3.35237056e-01, ...,\n",
       "           1.06229222e+00, -1.35623202e-01,  7.91844726e-01],\n",
       "         [-1.09440756e+00, -4.93302554e-01, -1.81130576e+00, ...,\n",
       "           1.80883065e-01,  7.60835648e-01, -6.08088911e-01],\n",
       "         [ 6.06616974e-01, -8.65155458e-01, -2.39319712e-01, ...,\n",
       "           2.40590835e+00,  3.39067906e-01, -8.97430003e-01],\n",
       "         ...,\n",
       "         [ 6.92627728e-01,  6.08624279e-01,  6.33006632e-01, ...,\n",
       "          -2.25813079e+00,  2.02673340e+00, -1.44774902e+00],\n",
       "         [ 9.69962537e-01,  2.47444534e+00, -6.30317926e-01, ...,\n",
       "          -8.05298984e-01, -1.17581320e+00,  7.26208746e-01],\n",
       "         [ 9.97763336e-01,  1.66121468e-01,  8.79828334e-01, ...,\n",
       "           1.72953141e+00, -1.22068739e+00, -2.17543244e+00]],\n",
       "\n",
       "        [[ 5.51516414e-01,  9.87141550e-01, -5.89774251e-01, ...,\n",
       "          -3.23783726e-01,  6.91435814e-01, -7.30288088e-01],\n",
       "         [-8.91548246e-02,  6.24764681e-01,  1.72275111e-01, ...,\n",
       "          -4.30168778e-01, -5.40715098e-01, -1.12415321e-01],\n",
       "         [ 1.01897645e+00,  1.29730153e+00, -1.66051909e-02, ...,\n",
       "          -3.47367615e-01,  6.46224469e-02, -7.77088404e-01],\n",
       "         ...,\n",
       "         [ 2.62788236e-02, -6.38838351e-01, -5.48593163e-01, ...,\n",
       "           2.08652020e+00, -5.41699469e-01, -1.08563876e+00],\n",
       "         [ 2.71388322e-01, -3.12927723e-01,  6.20857179e-01, ...,\n",
       "          -1.35348165e+00, -1.98307204e+00, -2.56133914e-01],\n",
       "         [-2.01232958e+00,  1.91514981e+00,  2.85317190e-02, ...,\n",
       "           7.30324507e-01,  3.29339020e-02,  8.47799599e-01]],\n",
       "\n",
       "        [[-1.31762147e-01, -7.34042525e-01, -7.60331631e-01, ...,\n",
       "          -6.12078726e-01, -1.80961052e-03,  5.22950470e-01],\n",
       "         [ 1.98932004e+00, -1.01257312e+00, -2.06239295e+00, ...,\n",
       "           6.10058844e-01, -1.51978457e+00, -1.40215516e-01],\n",
       "         [-7.20838785e-01,  3.98070574e-01, -5.68771183e-01, ...,\n",
       "           6.82889163e-01, -1.01140261e+00,  4.48745459e-01],\n",
       "         ...,\n",
       "         [ 6.78879097e-02,  2.67382920e-01,  1.75132835e+00, ...,\n",
       "           1.05901098e+00,  1.77805328e+00, -1.24482131e+00],\n",
       "         [ 2.27295184e+00, -4.44094976e-03, -1.12809464e-01, ...,\n",
       "          -2.06021404e+00, -1.79123104e+00, -9.79326487e-01],\n",
       "         [-7.14049399e-01, -2.53589749e-01,  5.47732413e-01, ...,\n",
       "           5.31608880e-01,  7.04649985e-01, -1.87233865e-01]]]],\n",
       "      dtype=float32)>"
      ]
     },
     "execution_count": 75,
     "metadata": {},
     "output_type": "execute_result"
    }
   ],
   "source": [
    "x=tf.random.normal([2,32,32,3])\n",
    "tf.transpose(x, perm=[0,3,1,2])"
   ]
  },
  {
   "cell_type": "code",
   "execution_count": 76,
   "metadata": {},
   "outputs": [
    {
     "data": {
      "text/plain": [
       "<tf.Tensor: shape=(2, 32, 32, 3), dtype=float32, numpy=\n",
       "array([[[[ 4.5256177e-01,  1.3770576e+00, -7.9713893e-01],\n",
       "         [ 2.0707612e+00, -1.4970811e-02,  2.7820650e-01],\n",
       "         [ 1.1043687e-01,  9.6717274e-01,  6.5049124e-01],\n",
       "         ...,\n",
       "         [-1.3286721e+00,  1.7214417e+00, -6.8054932e-01],\n",
       "         [ 2.0893896e+00,  1.0101167e+00, -1.8406931e+00],\n",
       "         [-2.4687371e+00,  1.0426641e+00, -2.5646859e-01]],\n",
       "\n",
       "        [[-9.3966162e-01, -9.1159719e-01,  1.6076714e+00],\n",
       "         [ 5.3562138e-02, -4.5608371e-01, -2.2045696e-01],\n",
       "         [ 2.9676116e-01, -1.2885231e+00,  2.7895158e-02],\n",
       "         ...,\n",
       "         [ 3.2486063e-01,  1.2851874e+00, -1.1580861e+00],\n",
       "         [ 6.9954634e-01,  6.6301638e-01,  3.4285000e-01],\n",
       "         [ 4.1260558e-01,  6.4454682e-02, -4.8258860e-02]],\n",
       "\n",
       "        [[ 3.4698826e-01, -5.4735643e-01,  9.3003345e-01],\n",
       "         [-1.2571678e-01,  1.0554457e+00,  5.4219210e-01],\n",
       "         [-1.6488011e+00, -7.5108945e-02, -8.0315459e-01],\n",
       "         ...,\n",
       "         [ 1.3571481e+00,  2.1237323e+00, -3.3968544e-01],\n",
       "         [-1.4399245e-01, -9.9615079e-01,  1.2282764e-01],\n",
       "         [-4.4680017e-01, -1.1357336e+00,  2.2016845e+00]],\n",
       "\n",
       "        ...,\n",
       "\n",
       "        [[-1.0269810e+00, -6.8686575e-01,  9.9524949e-03],\n",
       "         [-9.6396381e-01,  3.3189297e-01,  3.3264855e-01],\n",
       "         [-1.2409123e+00,  7.8644074e-02, -2.4938852e-01],\n",
       "         ...,\n",
       "         [-1.4886896e-01,  8.8002540e-02, -8.6611003e-01],\n",
       "         [-2.3443382e+00, -1.1869063e+00, -1.6310878e-02],\n",
       "         [-7.7150106e-01, -1.1009533e+00, -9.6115869e-01]],\n",
       "\n",
       "        [[-8.6496502e-02,  9.8362148e-01, -1.3656639e-02],\n",
       "         [-2.8269243e-01,  1.8366922e+00, -5.6927854e-01],\n",
       "         [-4.3264249e-01, -9.7338533e-01,  6.8230337e-01],\n",
       "         ...,\n",
       "         [ 1.2573428e+00, -1.8597797e+00,  3.1338167e-01],\n",
       "         [-1.0179147e-02,  1.4092128e-01, -2.8285187e-01],\n",
       "         [ 2.5846708e+00,  8.9093280e-01, -8.0260879e-01]],\n",
       "\n",
       "        [[-7.1005172e-01, -3.2174341e-02,  4.0114719e-02],\n",
       "         [ 6.1420597e-02, -1.2882024e-01,  1.7989215e-01],\n",
       "         [ 1.8464385e-01,  1.6548744e+00,  6.3563871e-01],\n",
       "         ...,\n",
       "         [-3.9047587e-01,  1.0223541e+00,  8.7817311e-01],\n",
       "         [ 1.0159767e-01, -3.4075594e-01,  3.0526817e-01],\n",
       "         [-1.2948146e+00,  1.2151760e+00,  4.6815705e-02]]],\n",
       "\n",
       "\n",
       "       [[[ 4.7091407e-01, -8.5280699e-01,  1.6430707e+00],\n",
       "         [-4.7840652e-01, -2.1532359e+00, -2.0885508e+00],\n",
       "         [ 1.4430768e+00,  1.1995507e-01,  2.7784961e-01],\n",
       "         ...,\n",
       "         [ 1.8575313e+00, -1.2789512e+00,  9.7125396e-02],\n",
       "         [-3.7030499e-02,  7.5603932e-01, -1.1469101e+00],\n",
       "         [-2.7918214e-01, -2.9339248e-01, -1.3414006e+00]],\n",
       "\n",
       "        [[ 1.4934407e-01,  6.4227617e-01,  3.6549967e-02],\n",
       "         [-2.9610023e-02,  1.8298509e+00,  9.9779278e-01],\n",
       "         [ 8.0951154e-01, -1.2229455e+00, -6.1712402e-01],\n",
       "         ...,\n",
       "         [ 2.6471987e-01,  3.1657684e-01,  9.6557337e-01],\n",
       "         [-4.5152944e-01, -1.3604368e+00, -2.0674481e+00],\n",
       "         [ 1.0909690e-01, -6.0999960e-01,  2.2140422e-01]],\n",
       "\n",
       "        [[-7.6749504e-01, -1.3744651e+00, -1.3950644e+00],\n",
       "         [ 2.8188086e+00,  5.5596221e-02,  1.5196694e+00],\n",
       "         [ 3.0395919e-01, -5.4475909e-01, -3.4445405e-01],\n",
       "         ...,\n",
       "         [ 5.0838822e-01,  1.1988130e+00, -1.4151344e-01],\n",
       "         [ 3.1776446e-01,  1.1596224e+00,  5.8185017e-01],\n",
       "         [-1.4789401e-01, -7.4658495e-01,  5.6901914e-01]],\n",
       "\n",
       "        ...,\n",
       "\n",
       "        [[ 2.8731319e-01,  1.6618977e+00,  1.1344616e+00],\n",
       "         [-9.5252889e-01, -1.7788382e-01, -7.2774500e-01],\n",
       "         [ 5.5819079e-02, -4.5020458e-01, -6.5608728e-01],\n",
       "         ...,\n",
       "         [-3.9322963e-01, -6.2069301e-02, -6.5457694e-02],\n",
       "         [-2.2832315e+00, -3.6300066e-01, -1.5558279e+00],\n",
       "         [ 5.6459051e-01,  1.7896121e-02,  8.8503128e-01]],\n",
       "\n",
       "        [[-4.4358873e-01, -3.4425467e-01,  4.9657500e-01],\n",
       "         [ 3.8326317e-01,  4.5054886e-01, -9.6512169e-01],\n",
       "         [ 7.6714104e-01, -9.3616283e-01,  3.7233791e-01],\n",
       "         ...,\n",
       "         [ 1.2374305e+00,  3.5242742e-01,  9.7628939e-01],\n",
       "         [-5.0827563e-01, -1.3235358e+00,  5.6852281e-01],\n",
       "         [ 4.1657455e-02,  6.0867912e-01, -4.9762797e-01]],\n",
       "\n",
       "        [[ 3.0203807e-01,  2.7220243e-01,  4.3319824e-01],\n",
       "         [-2.7706280e-01, -9.5725024e-01,  3.0423108e-01],\n",
       "         [ 6.0267210e-01,  1.5132037e-01,  4.1850227e-01],\n",
       "         ...,\n",
       "         [ 8.9368218e-01,  1.5891959e-03, -1.4314999e-01],\n",
       "         [-9.1187888e-01,  6.9862962e-02, -1.3842041e+00],\n",
       "         [-2.7055475e-01,  6.2830842e-01,  2.5372748e+00]]]],\n",
       "      dtype=float32)>"
      ]
     },
     "execution_count": 76,
     "metadata": {},
     "output_type": "execute_result"
    }
   ],
   "source": [
    "x=tf.random.normal([2,32,32,3])\n",
    "tf.transpose(x, perm=[0,2,1,3])"
   ]
  },
  {
   "attachments": {},
   "cell_type": "markdown",
   "metadata": {},
   "source": [
    "### copy data"
   ]
  },
  {
   "cell_type": "code",
   "execution_count": 77,
   "metadata": {},
   "outputs": [
    {
     "data": {
      "text/plain": [
       "<tf.Tensor: shape=(1, 2), dtype=int32, numpy=array([[1, 2]])>"
      ]
     },
     "execution_count": 77,
     "metadata": {},
     "output_type": "execute_result"
    }
   ],
   "source": [
    "b=tf.constant([1,2])\n",
    "b=tf.expand_dims(b, axis=0)\n",
    "b"
   ]
  },
  {
   "cell_type": "code",
   "execution_count": 78,
   "metadata": {},
   "outputs": [
    {
     "data": {
      "text/plain": [
       "<tf.Tensor: shape=(2, 2), dtype=int32, numpy=\n",
       "array([[1, 2],\n",
       "       [1, 2]])>"
      ]
     },
     "execution_count": 78,
     "metadata": {},
     "output_type": "execute_result"
    }
   ],
   "source": [
    "b=tf.tile(b, multiples=[2,1])\n",
    "b"
   ]
  },
  {
   "cell_type": "code",
   "execution_count": 79,
   "metadata": {},
   "outputs": [
    {
     "data": {
      "text/plain": [
       "<tf.Tensor: shape=(2, 2), dtype=int32, numpy=\n",
       "array([[0, 1],\n",
       "       [2, 3]])>"
      ]
     },
     "execution_count": 79,
     "metadata": {},
     "output_type": "execute_result"
    }
   ],
   "source": [
    "x=tf.range(4)\n",
    "x=tf.reshape(x, [2,2])\n",
    "x"
   ]
  },
  {
   "cell_type": "code",
   "execution_count": 80,
   "metadata": {},
   "outputs": [
    {
     "data": {
      "text/plain": [
       "<tf.Tensor: shape=(2, 4), dtype=int32, numpy=\n",
       "array([[0, 1, 0, 1],\n",
       "       [2, 3, 2, 3]])>"
      ]
     },
     "execution_count": 80,
     "metadata": {},
     "output_type": "execute_result"
    }
   ],
   "source": [
    "x=tf.tile(x, multiples=[1,2])\n",
    "x"
   ]
  },
  {
   "cell_type": "code",
   "execution_count": 81,
   "metadata": {},
   "outputs": [
    {
     "data": {
      "text/plain": [
       "<tf.Tensor: shape=(4, 4), dtype=int32, numpy=\n",
       "array([[0, 1, 0, 1],\n",
       "       [2, 3, 2, 3],\n",
       "       [0, 1, 0, 1],\n",
       "       [2, 3, 2, 3]])>"
      ]
     },
     "execution_count": 81,
     "metadata": {},
     "output_type": "execute_result"
    }
   ],
   "source": [
    "x=tf.tile(x, multiples=[2,1])\n",
    "x"
   ]
  }
 ],
 "metadata": {
  "kernelspec": {
   "display_name": "Python 3",
   "language": "python",
   "name": "python3"
  },
  "language_info": {
   "codemirror_mode": {
    "name": "ipython",
    "version": 3
   },
   "file_extension": ".py",
   "mimetype": "text/x-python",
   "name": "python",
   "nbconvert_exporter": "python",
   "pygments_lexer": "ipython3",
   "version": "3.8.0"
  },
  "orig_nbformat": 4,
  "vscode": {
   "interpreter": {
    "hash": "46a5e820fae5c01f8ab8f3b920045ce887673a37bd422c73202f4e116d9bb3c0"
   }
  }
 },
 "nbformat": 4,
 "nbformat_minor": 2
}
