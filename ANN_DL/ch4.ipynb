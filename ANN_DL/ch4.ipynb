{
 "cells": [
  {
   "attachments": {},
   "cell_type": "markdown",
   "metadata": {},
   "source": [
    "# CHAPTER 4: BASIC TENSORFLOW"
   ]
  },
  {
   "cell_type": "code",
   "execution_count": 1,
   "metadata": {},
   "outputs": [
    {
     "data": {
      "text/plain": [
       "'2.11.0'"
      ]
     },
     "execution_count": 1,
     "metadata": {},
     "output_type": "execute_result"
    }
   ],
   "source": [
    "import numpy as np\n",
    "import tensorflow as tf\n",
    "from tensorflow.keras import layers\n",
    "tf.__version__"
   ]
  },
  {
   "attachments": {},
   "cell_type": "markdown",
   "metadata": {},
   "source": [
    "## 4.1 Data Types"
   ]
  },
  {
   "attachments": {},
   "cell_type": "markdown",
   "metadata": {},
   "source": [
    "### Numeric"
   ]
  },
  {
   "cell_type": "code",
   "execution_count": 2,
   "metadata": {},
   "outputs": [
    {
     "data": {
      "text/plain": [
       "(float, tensorflow.python.framework.ops.EagerTensor, True)"
      ]
     },
     "execution_count": 2,
     "metadata": {},
     "output_type": "execute_result"
    }
   ],
   "source": [
    "a=1.2\n",
    "aa=tf.constant(1.2)\n",
    "type(a), type(aa), tf.is_tensor(aa)"
   ]
  },
  {
   "cell_type": "code",
   "execution_count": 3,
   "metadata": {},
   "outputs": [
    {
     "data": {
      "text/plain": [
       "<tf.Tensor: shape=(3,), dtype=float32, numpy=array([1. , 2. , 3.3], dtype=float32)>"
      ]
     },
     "execution_count": 3,
     "metadata": {},
     "output_type": "execute_result"
    }
   ],
   "source": [
    "x=tf.constant([1, 2., 3.3])\n",
    "x"
   ]
  },
  {
   "cell_type": "code",
   "execution_count": 4,
   "metadata": {},
   "outputs": [
    {
     "data": {
      "text/plain": [
       "array([1. , 2. , 3.3], dtype=float32)"
      ]
     },
     "execution_count": 4,
     "metadata": {},
     "output_type": "execute_result"
    }
   ],
   "source": [
    "x.numpy()"
   ]
  },
  {
   "cell_type": "code",
   "execution_count": 5,
   "metadata": {},
   "outputs": [
    {
     "data": {
      "text/plain": [
       "(<tf.Tensor: shape=(1,), dtype=float32, numpy=array([1.2], dtype=float32)>,\n",
       " TensorShape([1]))"
      ]
     },
     "execution_count": 5,
     "metadata": {},
     "output_type": "execute_result"
    }
   ],
   "source": [
    "a=tf.constant([1.2])\n",
    "a, a.shape"
   ]
  },
  {
   "cell_type": "code",
   "execution_count": 6,
   "metadata": {},
   "outputs": [
    {
     "data": {
      "text/plain": [
       "(<tf.Tensor: shape=(3,), dtype=float32, numpy=array([1., 2., 3.], dtype=float32)>,\n",
       " TensorShape([3]))"
      ]
     },
     "execution_count": 6,
     "metadata": {},
     "output_type": "execute_result"
    }
   ],
   "source": [
    "a=tf.constant([1, 2, 3.])\n",
    "a, a.shape"
   ]
  },
  {
   "cell_type": "code",
   "execution_count": 7,
   "metadata": {},
   "outputs": [
    {
     "data": {
      "text/plain": [
       "(<tf.Tensor: shape=(2, 2), dtype=int32, numpy=\n",
       " array([[1, 2],\n",
       "        [3, 4]])>,\n",
       " TensorShape([2, 2]))"
      ]
     },
     "execution_count": 7,
     "metadata": {},
     "output_type": "execute_result"
    }
   ],
   "source": [
    "a=tf.constant([[1,2],[3,4]])\n",
    "a, a.shape"
   ]
  },
  {
   "cell_type": "code",
   "execution_count": 8,
   "metadata": {},
   "outputs": [],
   "source": [
    "a=tf.constant([[[1,2],[3,4]], [[5,6],[7,8]]])"
   ]
  },
  {
   "attachments": {},
   "cell_type": "markdown",
   "metadata": {},
   "source": [
    "### String"
   ]
  },
  {
   "cell_type": "code",
   "execution_count": 9,
   "metadata": {},
   "outputs": [
    {
     "data": {
      "text/plain": [
       "<tf.Tensor: shape=(), dtype=string, numpy=b'Hello, Deep learning'>"
      ]
     },
     "execution_count": 9,
     "metadata": {},
     "output_type": "execute_result"
    }
   ],
   "source": [
    "a=tf.constant('Hello, Deep learning')\n",
    "a"
   ]
  },
  {
   "cell_type": "code",
   "execution_count": 10,
   "metadata": {},
   "outputs": [
    {
     "data": {
      "text/plain": [
       "<tf.Tensor: shape=(), dtype=string, numpy=b'hello, deep learning'>"
      ]
     },
     "execution_count": 10,
     "metadata": {},
     "output_type": "execute_result"
    }
   ],
   "source": [
    "tf.strings.lower(a)"
   ]
  },
  {
   "attachments": {},
   "cell_type": "markdown",
   "metadata": {},
   "source": [
    "### Boolean"
   ]
  },
  {
   "cell_type": "code",
   "execution_count": 11,
   "metadata": {},
   "outputs": [
    {
     "data": {
      "text/plain": [
       "<tf.Tensor: shape=(), dtype=bool, numpy=True>"
      ]
     },
     "execution_count": 11,
     "metadata": {},
     "output_type": "execute_result"
    }
   ],
   "source": [
    "a=tf.constant(True)\n",
    "a"
   ]
  },
  {
   "cell_type": "code",
   "execution_count": 12,
   "metadata": {},
   "outputs": [
    {
     "data": {
      "text/plain": [
       "<tf.Tensor: shape=(2,), dtype=bool, numpy=array([ True, False])>"
      ]
     },
     "execution_count": 12,
     "metadata": {},
     "output_type": "execute_result"
    }
   ],
   "source": [
    "a=tf.constant([True, False])\n",
    "a"
   ]
  },
  {
   "cell_type": "code",
   "execution_count": 13,
   "metadata": {},
   "outputs": [
    {
     "data": {
      "text/plain": [
       "False"
      ]
     },
     "execution_count": 13,
     "metadata": {},
     "output_type": "execute_result"
    }
   ],
   "source": [
    "a=tf.constant(True)\n",
    "a is True"
   ]
  },
  {
   "cell_type": "code",
   "execution_count": 14,
   "metadata": {},
   "outputs": [
    {
     "data": {
      "text/plain": [
       "<tf.Tensor: shape=(), dtype=bool, numpy=True>"
      ]
     },
     "execution_count": 14,
     "metadata": {},
     "output_type": "execute_result"
    }
   ],
   "source": [
    "a==True"
   ]
  },
  {
   "attachments": {},
   "cell_type": "markdown",
   "metadata": {},
   "source": [
    "## 4.2 Numerical Precision"
   ]
  },
  {
   "cell_type": "code",
   "execution_count": 15,
   "metadata": {},
   "outputs": [
    {
     "data": {
      "text/plain": [
       "<tf.Tensor: shape=(), dtype=int32, numpy=123456789>"
      ]
     },
     "execution_count": 15,
     "metadata": {},
     "output_type": "execute_result"
    }
   ],
   "source": [
    "tf.constant(123456789, dtype=tf.int16)\n",
    "tf.constant(123456789, dtype=tf.int32)"
   ]
  },
  {
   "cell_type": "code",
   "execution_count": 16,
   "metadata": {},
   "outputs": [
    {
     "data": {
      "text/plain": [
       "<tf.Tensor: shape=(), dtype=float32, numpy=3.1415927>"
      ]
     },
     "execution_count": 16,
     "metadata": {},
     "output_type": "execute_result"
    }
   ],
   "source": [
    "tf.constant(np.pi, dtype=tf.float32)"
   ]
  },
  {
   "cell_type": "code",
   "execution_count": 17,
   "metadata": {},
   "outputs": [
    {
     "data": {
      "text/plain": [
       "<tf.Tensor: shape=(), dtype=float64, numpy=3.141592653589793>"
      ]
     },
     "execution_count": 17,
     "metadata": {},
     "output_type": "execute_result"
    }
   ],
   "source": [
    "tf.constant(np.pi, dtype=tf.float64)"
   ]
  },
  {
   "cell_type": "code",
   "execution_count": 18,
   "metadata": {},
   "outputs": [
    {
     "name": "stdout",
     "output_type": "stream",
     "text": [
      "before: <dtype: 'float16'>\n",
      "after: <dtype: 'float32'>\n"
     ]
    }
   ],
   "source": [
    "a=tf.constant(np.pi, dtype=tf.float16)\n",
    "print('before:', a.dtype)\n",
    "if a.dtype!=tf.float32:\n",
    "    a=tf.cast(a, tf.float32)\n",
    "print('after:', a.dtype)"
   ]
  },
  {
   "cell_type": "code",
   "execution_count": 19,
   "metadata": {},
   "outputs": [
    {
     "data": {
      "text/plain": [
       "<tf.Tensor: shape=(), dtype=int16, numpy=-13035>"
      ]
     },
     "execution_count": 19,
     "metadata": {},
     "output_type": "execute_result"
    }
   ],
   "source": [
    "a=tf.constant(123456789, dtype=tf.int32)\n",
    "tf.cast(a, tf.int16)"
   ]
  },
  {
   "cell_type": "code",
   "execution_count": 20,
   "metadata": {},
   "outputs": [
    {
     "data": {
      "text/plain": [
       "<tf.Tensor: shape=(2,), dtype=int32, numpy=array([1, 0])>"
      ]
     },
     "execution_count": 20,
     "metadata": {},
     "output_type": "execute_result"
    }
   ],
   "source": [
    "a=tf.constant([True, False])\n",
    "tf.cast(a, tf.int32)"
   ]
  },
  {
   "cell_type": "code",
   "execution_count": 21,
   "metadata": {},
   "outputs": [
    {
     "data": {
      "text/plain": [
       "<tf.Tensor: shape=(4,), dtype=bool, numpy=array([ True, False,  True,  True])>"
      ]
     },
     "execution_count": 21,
     "metadata": {},
     "output_type": "execute_result"
    }
   ],
   "source": [
    "a=tf.constant([-1, 0, 1, 2])\n",
    "tf.cast(a, tf.bool)"
   ]
  },
  {
   "attachments": {},
   "cell_type": "markdown",
   "metadata": {},
   "source": [
    "## 4.3 Tensors to be optimized"
   ]
  },
  {
   "cell_type": "code",
   "execution_count": 22,
   "metadata": {},
   "outputs": [
    {
     "data": {
      "text/plain": [
       "('Variable:0', True)"
      ]
     },
     "execution_count": 22,
     "metadata": {},
     "output_type": "execute_result"
    }
   ],
   "source": [
    "a=tf.constant([-1, 0, 1, 2])\n",
    "aa=tf.Variable(a)\n",
    "aa.name, aa.trainable"
   ]
  },
  {
   "cell_type": "code",
   "execution_count": 23,
   "metadata": {},
   "outputs": [
    {
     "data": {
      "text/plain": [
       "<tf.Variable 'Variable:0' shape=(2, 2) dtype=int32, numpy=\n",
       "array([[1, 2],\n",
       "       [3, 4]])>"
      ]
     },
     "execution_count": 23,
     "metadata": {},
     "output_type": "execute_result"
    }
   ],
   "source": [
    "a=tf.Variable([[1,2],[3,4]])\n",
    "a"
   ]
  },
  {
   "attachments": {},
   "cell_type": "markdown",
   "metadata": {},
   "source": [
    "## 4.4 Create Tensors"
   ]
  },
  {
   "attachments": {},
   "cell_type": "markdown",
   "metadata": {},
   "source": [
    "### Create tensors from arrays and lists"
   ]
  },
  {
   "cell_type": "code",
   "execution_count": 24,
   "metadata": {},
   "outputs": [
    {
     "data": {
      "text/plain": [
       "<tf.Tensor: shape=(2,), dtype=float32, numpy=array([1., 2.], dtype=float32)>"
      ]
     },
     "execution_count": 24,
     "metadata": {},
     "output_type": "execute_result"
    }
   ],
   "source": [
    "# create tensor from python list\n",
    "tf.convert_to_tensor([1, 2.])"
   ]
  },
  {
   "cell_type": "code",
   "execution_count": 25,
   "metadata": {},
   "outputs": [
    {
     "data": {
      "text/plain": [
       "<tf.Tensor: shape=(2, 2), dtype=float64, numpy=\n",
       "array([[1., 2.],\n",
       "       [3., 4.]])>"
      ]
     },
     "execution_count": 25,
     "metadata": {},
     "output_type": "execute_result"
    }
   ],
   "source": [
    "# create a tensor from numpy array\n",
    "tf.convert_to_tensor(np.array([[1,2.],[3,4]]))"
   ]
  },
  {
   "cell_type": "markdown",
   "metadata": {},
   "source": [
    "### create all-0 or all-1 tensors"
   ]
  },
  {
   "cell_type": "code",
   "execution_count": 26,
   "metadata": {},
   "outputs": [
    {
     "data": {
      "text/plain": [
       "(<tf.Tensor: shape=(), dtype=float32, numpy=0.0>,\n",
       " <tf.Tensor: shape=(), dtype=float32, numpy=1.0>)"
      ]
     },
     "execution_count": 26,
     "metadata": {},
     "output_type": "execute_result"
    }
   ],
   "source": [
    "tf.zeros([]), tf.ones([])"
   ]
  },
  {
   "cell_type": "code",
   "execution_count": 27,
   "metadata": {},
   "outputs": [
    {
     "data": {
      "text/plain": [
       "(<tf.Tensor: shape=(1,), dtype=float32, numpy=array([0.], dtype=float32)>,\n",
       " <tf.Tensor: shape=(1,), dtype=float32, numpy=array([1.], dtype=float32)>)"
      ]
     },
     "execution_count": 27,
     "metadata": {},
     "output_type": "execute_result"
    }
   ],
   "source": [
    "tf.zeros([1]), tf.ones([1])"
   ]
  },
  {
   "cell_type": "code",
   "execution_count": 28,
   "metadata": {},
   "outputs": [
    {
     "data": {
      "text/plain": [
       "<tf.Tensor: shape=(2, 2), dtype=float32, numpy=\n",
       "array([[0., 0.],\n",
       "       [0., 0.]], dtype=float32)>"
      ]
     },
     "execution_count": 28,
     "metadata": {},
     "output_type": "execute_result"
    }
   ],
   "source": [
    "tf.zeros([2,2])"
   ]
  },
  {
   "cell_type": "code",
   "execution_count": 29,
   "metadata": {},
   "outputs": [
    {
     "data": {
      "text/plain": [
       "<tf.Tensor: shape=(3, 2), dtype=float32, numpy=\n",
       "array([[1., 1.],\n",
       "       [1., 1.],\n",
       "       [1., 1.]], dtype=float32)>"
      ]
     },
     "execution_count": 29,
     "metadata": {},
     "output_type": "execute_result"
    }
   ],
   "source": [
    "tf.ones([3,2])"
   ]
  },
  {
   "cell_type": "code",
   "execution_count": 30,
   "metadata": {},
   "outputs": [
    {
     "data": {
      "text/plain": [
       "<tf.Tensor: shape=(2, 3), dtype=float32, numpy=\n",
       "array([[0., 0., 0.],\n",
       "       [0., 0., 0.]], dtype=float32)>"
      ]
     },
     "execution_count": 30,
     "metadata": {},
     "output_type": "execute_result"
    }
   ],
   "source": [
    "a=tf.ones([2,3])\n",
    "tf.zeros_like(a)"
   ]
  },
  {
   "cell_type": "code",
   "execution_count": 31,
   "metadata": {},
   "outputs": [
    {
     "data": {
      "text/plain": [
       "<tf.Tensor: shape=(3, 2), dtype=float32, numpy=\n",
       "array([[0., 0.],\n",
       "       [0., 0.],\n",
       "       [0., 0.]], dtype=float32)>"
      ]
     },
     "execution_count": 31,
     "metadata": {},
     "output_type": "execute_result"
    }
   ],
   "source": [
    "a=tf.zeros([3, 2])\n",
    "tf.zeros_like(a)"
   ]
  },
  {
   "cell_type": "markdown",
   "metadata": {},
   "source": [
    "### create customized numeric tensor"
   ]
  },
  {
   "cell_type": "code",
   "execution_count": 32,
   "metadata": {},
   "outputs": [
    {
     "data": {
      "text/plain": [
       "<tf.Tensor: shape=(), dtype=int32, numpy=-1>"
      ]
     },
     "execution_count": 32,
     "metadata": {},
     "output_type": "execute_result"
    }
   ],
   "source": [
    "tf.fill([], -1)"
   ]
  },
  {
   "cell_type": "code",
   "execution_count": 33,
   "metadata": {},
   "outputs": [
    {
     "data": {
      "text/plain": [
       "<tf.Tensor: shape=(1,), dtype=int32, numpy=array([-1])>"
      ]
     },
     "execution_count": 33,
     "metadata": {},
     "output_type": "execute_result"
    }
   ],
   "source": [
    "tf.fill([1], -1)"
   ]
  },
  {
   "cell_type": "code",
   "execution_count": 34,
   "metadata": {},
   "outputs": [
    {
     "data": {
      "text/plain": [
       "<tf.Tensor: shape=(2, 2), dtype=int32, numpy=\n",
       "array([[99, 99],\n",
       "       [99, 99]])>"
      ]
     },
     "execution_count": 34,
     "metadata": {},
     "output_type": "execute_result"
    }
   ],
   "source": [
    "tf.fill([2,2], 99)"
   ]
  },
  {
   "cell_type": "markdown",
   "metadata": {},
   "source": [
    "### create tensor from known distribution"
   ]
  },
  {
   "cell_type": "code",
   "execution_count": 35,
   "metadata": {},
   "outputs": [
    {
     "data": {
      "text/plain": [
       "<tf.Tensor: shape=(2, 2), dtype=float32, numpy=\n",
       "array([[ 0.09772062,  1.8532809 ],\n",
       "       [-0.25644428,  0.21247616]], dtype=float32)>"
      ]
     },
     "execution_count": 35,
     "metadata": {},
     "output_type": "execute_result"
    }
   ],
   "source": [
    "tf.random.normal([2,2])"
   ]
  },
  {
   "cell_type": "code",
   "execution_count": 36,
   "metadata": {},
   "outputs": [
    {
     "data": {
      "text/plain": [
       "<tf.Tensor: shape=(2, 2), dtype=float32, numpy=\n",
       "array([[ 3.3565092 ,  0.01112264],\n",
       "       [ 4.708434  , -0.7279823 ]], dtype=float32)>"
      ]
     },
     "execution_count": 36,
     "metadata": {},
     "output_type": "execute_result"
    }
   ],
   "source": [
    "tf.random.normal([2,2], mean=1, stddev=2)"
   ]
  },
  {
   "cell_type": "code",
   "execution_count": 37,
   "metadata": {},
   "outputs": [
    {
     "data": {
      "text/plain": [
       "<tf.Tensor: shape=(2, 2), dtype=float32, numpy=\n",
       "array([[0.12244999, 0.20972252],\n",
       "       [0.2899264 , 0.19540489]], dtype=float32)>"
      ]
     },
     "execution_count": 37,
     "metadata": {},
     "output_type": "execute_result"
    }
   ],
   "source": [
    "tf.random.uniform([2,2])"
   ]
  },
  {
   "cell_type": "code",
   "execution_count": 38,
   "metadata": {},
   "outputs": [
    {
     "data": {
      "text/plain": [
       "<tf.Tensor: shape=(2, 2), dtype=float32, numpy=\n",
       "array([[9.449435, 4.942596],\n",
       "       [6.157378, 5.058522]], dtype=float32)>"
      ]
     },
     "execution_count": 38,
     "metadata": {},
     "output_type": "execute_result"
    }
   ],
   "source": [
    "tf.random.uniform([2,2], maxval=10)"
   ]
  },
  {
   "cell_type": "code",
   "execution_count": 39,
   "metadata": {},
   "outputs": [
    {
     "data": {
      "text/plain": [
       "<tf.Tensor: shape=(2, 2), dtype=int32, numpy=\n",
       "array([[82, 53],\n",
       "       [ 0,  4]])>"
      ]
     },
     "execution_count": 39,
     "metadata": {},
     "output_type": "execute_result"
    }
   ],
   "source": [
    "# create an integer tensor from a unifrom distribution with interval [0, 100)\n",
    "tf.random.uniform([2,2], maxval=100, dtype=tf.int32)"
   ]
  },
  {
   "cell_type": "markdown",
   "metadata": {},
   "source": [
    "### create a sequence"
   ]
  },
  {
   "cell_type": "code",
   "execution_count": 40,
   "metadata": {},
   "outputs": [
    {
     "data": {
      "text/plain": [
       "<tf.Tensor: shape=(10,), dtype=int32, numpy=array([0, 1, 2, 3, 4, 5, 6, 7, 8, 9])>"
      ]
     },
     "execution_count": 40,
     "metadata": {},
     "output_type": "execute_result"
    }
   ],
   "source": [
    "tf.range(10)"
   ]
  },
  {
   "cell_type": "code",
   "execution_count": 41,
   "metadata": {},
   "outputs": [
    {
     "data": {
      "text/plain": [
       "<tf.Tensor: shape=(5,), dtype=int32, numpy=array([0, 2, 4, 6, 8])>"
      ]
     },
     "execution_count": 41,
     "metadata": {},
     "output_type": "execute_result"
    }
   ],
   "source": [
    "tf.range(10, delta=2)"
   ]
  },
  {
   "cell_type": "code",
   "execution_count": 42,
   "metadata": {},
   "outputs": [
    {
     "data": {
      "text/plain": [
       "<tf.Tensor: shape=(5,), dtype=int32, numpy=array([1, 3, 5, 7, 9])>"
      ]
     },
     "execution_count": 42,
     "metadata": {},
     "output_type": "execute_result"
    }
   ],
   "source": [
    "tf.range(1, 10, delta=2)"
   ]
  },
  {
   "attachments": {},
   "cell_type": "markdown",
   "metadata": {},
   "source": [
    "## 4.5 typical applications of tensors"
   ]
  },
  {
   "attachments": {},
   "cell_type": "markdown",
   "metadata": {},
   "source": [
    "### scalar"
   ]
  },
  {
   "cell_type": "code",
   "execution_count": 43,
   "metadata": {},
   "outputs": [
    {
     "data": {
      "text/plain": [
       "<tf.Tensor: shape=(), dtype=float32, numpy=0.24629796>"
      ]
     },
     "execution_count": 43,
     "metadata": {},
     "output_type": "execute_result"
    }
   ],
   "source": [
    "out=tf.random.uniform([4,10])\n",
    "y=tf.constant([2,3,2,0])\n",
    "y=tf.one_hot(y, depth=10)\n",
    "loss=tf.keras.losses.mse(y, out)\n",
    "loss=tf.reduce_mean(loss)\n",
    "loss"
   ]
  },
  {
   "cell_type": "markdown",
   "metadata": {},
   "source": [
    "### vector"
   ]
  },
  {
   "cell_type": "code",
   "execution_count": 44,
   "metadata": {},
   "outputs": [],
   "source": [
    "# suppose z is the output of an activation function\n",
    "z=tf.random.normal([4,2])\n",
    "b=tf.zeros([2])\n",
    "z=z+b"
   ]
  },
  {
   "cell_type": "code",
   "execution_count": 45,
   "metadata": {},
   "outputs": [
    {
     "data": {
      "text/plain": [
       "<tf.Variable 'bias:0' shape=(3,) dtype=float32, numpy=array([0., 0., 0.], dtype=float32)>"
      ]
     },
     "execution_count": 45,
     "metadata": {},
     "output_type": "execute_result"
    }
   ],
   "source": [
    "fc=layers.Dense(3)\n",
    "fc.build(input_shape=(2, 4))\n",
    "fc.bias"
   ]
  },
  {
   "attachments": {},
   "cell_type": "markdown",
   "metadata": {},
   "source": [
    "### matrix"
   ]
  },
  {
   "cell_type": "code",
   "execution_count": 46,
   "metadata": {},
   "outputs": [
    {
     "data": {
      "text/plain": [
       "<tf.Tensor: shape=(4, 3), dtype=float32, numpy=\n",
       "array([[1. , 2. , 3.3],\n",
       "       [1. , 2. , 3.3],\n",
       "       [1. , 2. , 3.3],\n",
       "       [1. , 2. , 3.3]], dtype=float32)>"
      ]
     },
     "execution_count": 46,
     "metadata": {},
     "output_type": "execute_result"
    }
   ],
   "source": [
    "w=tf.ones([4,3])\n",
    "b=tf.zeros([3])\n",
    "o=x@w+b # @ means matrix multiplication\n",
    "o"
   ]
  },
  {
   "cell_type": "code",
   "execution_count": 47,
   "metadata": {},
   "outputs": [
    {
     "data": {
      "text/plain": [
       "<tf.Variable 'kernel:0' shape=(4, 3) dtype=float32, numpy=\n",
       "array([[ 0.19942057, -0.6073772 , -0.03515542],\n",
       "       [ 0.01978779,  0.78009474, -0.08134443],\n",
       "       [ 0.38703036,  0.55141985,  0.92146707],\n",
       "       [ 0.279696  , -0.6453589 , -0.4234097 ]], dtype=float32)>"
      ]
     },
     "execution_count": 47,
     "metadata": {},
     "output_type": "execute_result"
    }
   ],
   "source": [
    "fc=layers.Dense(3)\n",
    "fc.build(input_shape=(2, 4))\n",
    "fc.kernel"
   ]
  },
  {
   "attachments": {},
   "cell_type": "markdown",
   "metadata": {},
   "source": [
    "### 3d-tensor"
   ]
  },
  {
   "cell_type": "code",
   "execution_count": 48,
   "metadata": {},
   "outputs": [
    {
     "data": {
      "text/plain": [
       "(25000, 80)"
      ]
     },
     "execution_count": 48,
     "metadata": {},
     "output_type": "execute_result"
    }
   ],
   "source": [
    "from tensorflow import keras\n",
    "(x_train, y_train), (x_test, y_test)=keras.datasets.imdb.load_data(num_words=10000)\n",
    "x_train=keras.preprocessing.sequence.pad_sequences(x_train, maxlen=80)\n",
    "x_train.shape"
   ]
  },
  {
   "cell_type": "code",
   "execution_count": 49,
   "metadata": {},
   "outputs": [
    {
     "data": {
      "text/plain": [
       "TensorShape([25000, 80, 100])"
      ]
     },
     "execution_count": 49,
     "metadata": {},
     "output_type": "execute_result"
    }
   ],
   "source": [
    "embedding=layers.Embedding(10000, 100)\n",
    "out=embedding(x_train)\n",
    "out.shape"
   ]
  },
  {
   "attachments": {},
   "cell_type": "markdown",
   "metadata": {},
   "source": [
    "### 4d-tensor"
   ]
  },
  {
   "cell_type": "code",
   "execution_count": 50,
   "metadata": {},
   "outputs": [
    {
     "data": {
      "text/plain": [
       "TensorShape([4, 30, 30, 16])"
      ]
     },
     "execution_count": 50,
     "metadata": {},
     "output_type": "execute_result"
    }
   ],
   "source": [
    "x=tf.random.normal([4,32,32,3])\n",
    "layer=layers.Conv2D(16, kernel_size=3)\n",
    "out=layer(x)\n",
    "out.shape"
   ]
  },
  {
   "cell_type": "markdown",
   "metadata": {},
   "source": [
    "## 4.6 Indexing and Slicing"
   ]
  },
  {
   "attachments": {},
   "cell_type": "markdown",
   "metadata": {},
   "source": [
    "### indexing"
   ]
  },
  {
   "cell_type": "code",
   "execution_count": 51,
   "metadata": {},
   "outputs": [
    {
     "data": {
      "text/plain": [
       "<tf.Tensor: shape=(32, 32, 3), dtype=float32, numpy=\n",
       "array([[[-1.0202163e+00, -4.6999907e-01,  5.2477062e-01],\n",
       "        [ 1.1116426e+00, -1.3268656e-01, -5.2939451e-01],\n",
       "        [-2.0700076e-01, -1.9453850e+00, -1.5201812e+00],\n",
       "        ...,\n",
       "        [ 7.4506468e-01,  4.8225266e-01, -1.1069589e+00],\n",
       "        [ 2.0669050e+00, -6.6595078e-01,  3.3664393e-01],\n",
       "        [-2.7525678e-01, -3.8903329e-01,  1.8850255e+00]],\n",
       "\n",
       "       [[-3.3007646e-01, -1.4006610e-01, -1.7933866e-01],\n",
       "        [-2.5849563e-01,  8.5068354e-03,  8.2476211e-01],\n",
       "        [ 2.0839536e+00, -1.0171293e+00, -1.6413171e-02],\n",
       "        ...,\n",
       "        [ 1.0936279e+00, -3.3650815e-01, -1.0961612e+00],\n",
       "        [ 2.1010175e-01,  2.2127105e-01, -1.4620139e-01],\n",
       "        [ 8.7048584e-01,  5.3380340e-01,  1.7251131e-01]],\n",
       "\n",
       "       [[-1.8714261e-01, -1.7036155e+00,  2.2094783e-03],\n",
       "        [-7.9727226e-01,  4.6708387e-01, -3.5358354e-01],\n",
       "        [-2.7876124e+00, -9.5853639e-01,  5.7389785e-02],\n",
       "        ...,\n",
       "        [ 5.5196506e-01,  4.4140345e-01, -1.3253435e-01],\n",
       "        [ 6.2088197e-01,  6.1095124e-01, -1.2707199e-01],\n",
       "        [-5.6837177e-01,  1.3568962e+00,  2.1950488e-01]],\n",
       "\n",
       "       ...,\n",
       "\n",
       "       [[ 7.3651627e-02, -7.3205486e-02, -8.0527253e-02],\n",
       "        [ 4.4610506e-01,  1.8384695e-01,  1.4598726e+00],\n",
       "        [-5.6951028e-01, -1.7354378e+00, -1.2934414e+00],\n",
       "        ...,\n",
       "        [ 5.3487748e-01, -1.4167711e+00, -8.2446951e-01],\n",
       "        [ 6.8403250e-01, -1.5756148e-01, -1.9230571e-01],\n",
       "        [-3.7490305e-01, -1.2320230e-01,  4.9626920e-02]],\n",
       "\n",
       "       [[ 5.6707412e-01,  1.5032829e-01, -7.3229134e-01],\n",
       "        [-1.8923936e+00,  9.1220790e-01, -4.0834329e-01],\n",
       "        [ 1.2234333e+00,  3.4227690e-01,  2.1300404e-01],\n",
       "        ...,\n",
       "        [ 1.5516499e+00, -2.8983080e-01, -1.0774798e+00],\n",
       "        [-1.2134678e-01,  1.2641867e+00,  5.8403808e-01],\n",
       "        [-2.7824003e-01, -9.4139624e-01,  9.7582769e-01]],\n",
       "\n",
       "       [[-1.4120980e-01, -1.4728352e+00,  1.5933032e+00],\n",
       "        [ 7.3955953e-02,  2.2426894e-01, -9.7110361e-01],\n",
       "        [ 5.2144390e-01,  7.0311761e-01, -6.5640432e-01],\n",
       "        ...,\n",
       "        [ 1.9866030e-01,  1.3853850e+00, -4.0809879e-01],\n",
       "        [-2.5089473e-01, -3.9198768e-01, -1.2513819e-01],\n",
       "        [-6.2712586e-01,  5.5545342e-01, -9.7962791e-01]]], dtype=float32)>"
      ]
     },
     "execution_count": 51,
     "metadata": {},
     "output_type": "execute_result"
    }
   ],
   "source": [
    "x=tf.random.normal([4,32,32,3])\n",
    "x[0]"
   ]
  },
  {
   "cell_type": "code",
   "execution_count": 52,
   "metadata": {},
   "outputs": [
    {
     "data": {
      "text/plain": [
       "<tf.Tensor: shape=(32, 3), dtype=float32, numpy=\n",
       "array([[-0.33007646, -0.1400661 , -0.17933866],\n",
       "       [-0.25849563,  0.00850684,  0.8247621 ],\n",
       "       [ 2.0839536 , -1.0171293 , -0.01641317],\n",
       "       [-1.2404692 , -0.4672743 ,  0.5879594 ],\n",
       "       [-1.1172364 ,  0.03876119, -1.4447601 ],\n",
       "       [ 0.777196  , -0.6068358 , -0.28594816],\n",
       "       [ 1.1686264 ,  0.85722744,  0.1735686 ],\n",
       "       [ 0.38311732,  0.501498  ,  1.562064  ],\n",
       "       [ 0.16126327, -0.9838545 ,  1.0690968 ],\n",
       "       [ 0.8659551 ,  0.30943817,  1.4331027 ],\n",
       "       [-0.05609322, -0.9630374 , -1.0944053 ],\n",
       "       [-0.19619086, -0.3567703 , -1.2518604 ],\n",
       "       [-0.19032353, -1.0340316 ,  0.81811345],\n",
       "       [-0.88807356, -0.84696734,  1.2436501 ],\n",
       "       [ 0.10573985,  2.1379092 , -1.4393715 ],\n",
       "       [ 0.53718114,  1.10284   ,  0.26210195],\n",
       "       [-0.06464716,  2.412061  ,  0.80446476],\n",
       "       [ 1.266138  , -2.0698414 , -0.79644257],\n",
       "       [ 0.9941407 ,  0.42801985, -0.5518943 ],\n",
       "       [ 1.1577846 , -0.4617112 ,  0.5236656 ],\n",
       "       [-2.0749881 ,  1.5133911 , -0.09246246],\n",
       "       [-0.54729456, -1.3515295 ,  1.9917493 ],\n",
       "       [ 0.90852135, -0.0353866 ,  0.24178123],\n",
       "       [-0.26843628,  0.66172373, -0.54105085],\n",
       "       [ 0.706863  , -2.491984  ,  0.14433125],\n",
       "       [-0.40517482,  0.33531258,  0.5128615 ],\n",
       "       [ 1.1585943 ,  0.77018386, -2.3475802 ],\n",
       "       [ 0.3707418 ,  0.22194472, -2.1293244 ],\n",
       "       [-0.3173941 , -0.4961808 , -0.04013807],\n",
       "       [ 1.0936279 , -0.33650815, -1.0961612 ],\n",
       "       [ 0.21010175,  0.22127105, -0.14620139],\n",
       "       [ 0.87048584,  0.5338034 ,  0.17251131]], dtype=float32)>"
      ]
     },
     "execution_count": 52,
     "metadata": {},
     "output_type": "execute_result"
    }
   ],
   "source": [
    "x[0][1]"
   ]
  },
  {
   "cell_type": "code",
   "execution_count": 53,
   "metadata": {},
   "outputs": [
    {
     "data": {
      "text/plain": [
       "<tf.Tensor: shape=(3,), dtype=float32, numpy=array([ 2.0839536 , -1.0171293 , -0.01641317], dtype=float32)>"
      ]
     },
     "execution_count": 53,
     "metadata": {},
     "output_type": "execute_result"
    }
   ],
   "source": [
    "x[0][1][2]"
   ]
  },
  {
   "cell_type": "code",
   "execution_count": 54,
   "metadata": {},
   "outputs": [
    {
     "data": {
      "text/plain": [
       "<tf.Tensor: shape=(), dtype=float32, numpy=-0.9181098>"
      ]
     },
     "execution_count": 54,
     "metadata": {},
     "output_type": "execute_result"
    }
   ],
   "source": [
    "x[2][1][0][2]"
   ]
  },
  {
   "cell_type": "code",
   "execution_count": 55,
   "metadata": {},
   "outputs": [
    {
     "data": {
      "text/plain": [
       "<tf.Tensor: shape=(3,), dtype=float32, numpy=array([-2.7162495 ,  0.02133774, -1.426117  ], dtype=float32)>"
      ]
     },
     "execution_count": 55,
     "metadata": {},
     "output_type": "execute_result"
    }
   ],
   "source": [
    "x[1,9,2]"
   ]
  },
  {
   "attachments": {},
   "cell_type": "markdown",
   "metadata": {},
   "source": [
    "### slicing"
   ]
  },
  {
   "cell_type": "code",
   "execution_count": 56,
   "metadata": {},
   "outputs": [
    {
     "data": {
      "text/plain": [
       "<tf.Tensor: shape=(2, 32, 32, 3), dtype=float32, numpy=\n",
       "array([[[[-9.76092637e-01, -2.01054513e-01,  1.36137831e+00],\n",
       "         [ 6.26084149e-01, -1.24966502e+00, -5.40012538e-01],\n",
       "         [-1.67702198e+00, -4.29486781e-01, -4.96711373e-01],\n",
       "         ...,\n",
       "         [-1.61581910e+00, -8.38824511e-01,  2.39241660e-01],\n",
       "         [ 1.33599794e+00,  4.27188605e-01, -9.86827686e-02],\n",
       "         [ 1.48580205e+00, -1.27415121e+00, -1.62954342e+00]],\n",
       "\n",
       "        [[-1.17514670e+00, -1.88049778e-01, -2.48263836e-01],\n",
       "         [ 4.16016370e-01,  9.48149979e-01, -1.39416444e+00],\n",
       "         [-3.18646133e-01, -9.82859612e-01, -1.05521250e+00],\n",
       "         ...,\n",
       "         [ 1.04347634e+00, -2.60562092e-01, -9.96153772e-01],\n",
       "         [ 9.99160528e-01, -1.07128896e-01,  1.38185346e+00],\n",
       "         [ 1.42857194e-01,  6.21729314e-01,  6.25840008e-01]],\n",
       "\n",
       "        [[ 5.35207927e-01, -1.19128990e+00, -1.64577329e+00],\n",
       "         [ 2.75379002e-01, -6.92900717e-02,  3.36035848e-01],\n",
       "         [-5.06772876e-01, -6.28071487e-01, -7.77922511e-01],\n",
       "         ...,\n",
       "         [ 1.19894183e+00, -6.51662648e-02,  2.43804246e-01],\n",
       "         [-7.92797625e-01, -2.55325198e-01, -1.50963640e+00],\n",
       "         [-7.49393284e-01,  1.91230726e+00,  2.02724910e+00]],\n",
       "\n",
       "        ...,\n",
       "\n",
       "        [[-9.76672590e-01,  1.10580349e+00, -7.21223056e-01],\n",
       "         [-4.30963188e-01, -2.75021005e+00, -6.59278452e-01],\n",
       "         [-7.89697468e-01, -5.09778202e-01, -6.40362501e-01],\n",
       "         ...,\n",
       "         [ 2.83584803e-01,  1.29512393e+00,  2.18718481e+00],\n",
       "         [ 3.11836571e-01, -5.18264771e-01,  1.09122801e+00],\n",
       "         [ 6.83299661e-01, -2.49578315e-03,  1.34970710e-01]],\n",
       "\n",
       "        [[-1.14157164e+00, -1.00983059e+00,  3.04991841e-01],\n",
       "         [-9.67337549e-01,  1.80534750e-01,  6.88480675e-01],\n",
       "         [ 7.17608452e-01,  6.47521093e-02, -1.71862185e-01],\n",
       "         ...,\n",
       "         [-9.62711871e-01,  7.28020191e-01, -1.15127730e+00],\n",
       "         [-3.47080171e-01,  2.88552195e-01,  1.40536726e-01],\n",
       "         [-1.49406934e+00, -1.34307086e-01, -4.38862205e-01]],\n",
       "\n",
       "        [[ 3.98181349e-01,  1.32767066e-01,  1.34500158e+00],\n",
       "         [-1.40526342e+00,  1.82113516e+00,  2.25747895e+00],\n",
       "         [ 4.47857499e-01, -3.95132422e-01,  9.54231143e-01],\n",
       "         ...,\n",
       "         [ 3.15202326e-01, -1.84740685e-02,  4.41460490e-01],\n",
       "         [-8.88121426e-01, -7.61543036e-01,  7.51123786e-01],\n",
       "         [ 1.42711926e+00,  9.84995440e-02, -1.99237801e-02]]],\n",
       "\n",
       "\n",
       "       [[[-7.96804577e-02,  6.77941918e-01,  6.86515510e-01],\n",
       "         [ 4.95841146e-01,  5.80933213e-01, -4.12794858e-01],\n",
       "         [-5.87002933e-01, -2.92151958e-01,  5.03873825e-01],\n",
       "         ...,\n",
       "         [ 1.68012977e-01,  9.15202916e-01,  2.62071937e-01],\n",
       "         [ 4.96480009e-03,  9.09510776e-02, -1.70925766e-01],\n",
       "         [ 8.46282065e-01, -1.77031684e+00,  6.19974554e-01]],\n",
       "\n",
       "        [[ 2.18784690e+00,  5.33193648e-01, -9.18109775e-01],\n",
       "         [ 1.36710548e+00,  3.70413810e-01,  1.27551603e+00],\n",
       "         [ 9.84569609e-01, -1.10436285e+00, -1.41741002e+00],\n",
       "         ...,\n",
       "         [ 1.55657232e+00,  3.55986089e-01,  1.93261995e-03],\n",
       "         [ 1.43085629e-01,  2.25680083e-01, -3.50327253e-01],\n",
       "         [ 1.99947909e-01,  1.01401675e+00,  9.45825040e-01]],\n",
       "\n",
       "        [[ 3.96507345e-02, -9.24778283e-01,  4.91869628e-01],\n",
       "         [-1.77256906e+00,  5.36831856e-01,  2.85502851e-01],\n",
       "         [-9.24462974e-01,  3.88900399e-01,  5.44059455e-01],\n",
       "         ...,\n",
       "         [ 1.64811802e+00,  5.10959268e-01, -6.44540966e-01],\n",
       "         [-4.17531192e-01,  8.17587256e-01,  1.48246288e+00],\n",
       "         [-5.87398887e-01,  8.02745283e-01, -1.27254963e+00]],\n",
       "\n",
       "        ...,\n",
       "\n",
       "        [[-5.58849812e-01, -1.22150803e+00,  8.89799595e-01],\n",
       "         [-1.06271315e+00, -5.44758320e-01, -2.95672715e-01],\n",
       "         [-1.74752259e+00,  6.94605410e-01, -6.21828437e-01],\n",
       "         ...,\n",
       "         [-1.45638198e-01, -1.57888508e+00, -5.71345806e-01],\n",
       "         [ 9.08601999e-01, -4.74234909e-01,  1.15736389e+00],\n",
       "         [-6.35254562e-01, -1.81347752e+00,  6.61090970e-01]],\n",
       "\n",
       "        [[ 6.42974198e-01, -5.47005236e-01,  2.56543249e-01],\n",
       "         [ 1.22968686e+00,  7.15485156e-01, -7.15262413e-01],\n",
       "         [-2.79599100e-01,  3.25486332e-01, -6.36236727e-01],\n",
       "         ...,\n",
       "         [-1.28492916e+00,  3.31103534e-01, -9.34412181e-02],\n",
       "         [-3.41783196e-01, -2.55858034e-01, -2.06285620e+00],\n",
       "         [ 1.51806271e+00, -1.90421671e-01,  3.70426834e-01]],\n",
       "\n",
       "        [[ 2.02812970e-01,  3.61046255e-01,  4.44470167e-01],\n",
       "         [-6.59869850e-01,  5.80577910e-01, -9.13941741e-01],\n",
       "         [ 3.14424455e-01, -7.75453925e-01,  2.46728674e-01],\n",
       "         ...,\n",
       "         [-1.14169824e+00, -7.72911906e-01, -3.39134157e-01],\n",
       "         [-8.76970962e-03, -1.07303870e+00, -7.95357466e-01],\n",
       "         [-7.88472116e-01, -1.72314405e+00,  8.42537582e-01]]]],\n",
       "      dtype=float32)>"
      ]
     },
     "execution_count": 56,
     "metadata": {},
     "output_type": "execute_result"
    }
   ],
   "source": [
    "x[1:3]"
   ]
  },
  {
   "cell_type": "code",
   "execution_count": 57,
   "metadata": {},
   "outputs": [
    {
     "data": {
      "text/plain": [
       "<tf.Tensor: shape=(32, 32, 3), dtype=float32, numpy=\n",
       "array([[[-1.0202163e+00, -4.6999907e-01,  5.2477062e-01],\n",
       "        [ 1.1116426e+00, -1.3268656e-01, -5.2939451e-01],\n",
       "        [-2.0700076e-01, -1.9453850e+00, -1.5201812e+00],\n",
       "        ...,\n",
       "        [ 7.4506468e-01,  4.8225266e-01, -1.1069589e+00],\n",
       "        [ 2.0669050e+00, -6.6595078e-01,  3.3664393e-01],\n",
       "        [-2.7525678e-01, -3.8903329e-01,  1.8850255e+00]],\n",
       "\n",
       "       [[-3.3007646e-01, -1.4006610e-01, -1.7933866e-01],\n",
       "        [-2.5849563e-01,  8.5068354e-03,  8.2476211e-01],\n",
       "        [ 2.0839536e+00, -1.0171293e+00, -1.6413171e-02],\n",
       "        ...,\n",
       "        [ 1.0936279e+00, -3.3650815e-01, -1.0961612e+00],\n",
       "        [ 2.1010175e-01,  2.2127105e-01, -1.4620139e-01],\n",
       "        [ 8.7048584e-01,  5.3380340e-01,  1.7251131e-01]],\n",
       "\n",
       "       [[-1.8714261e-01, -1.7036155e+00,  2.2094783e-03],\n",
       "        [-7.9727226e-01,  4.6708387e-01, -3.5358354e-01],\n",
       "        [-2.7876124e+00, -9.5853639e-01,  5.7389785e-02],\n",
       "        ...,\n",
       "        [ 5.5196506e-01,  4.4140345e-01, -1.3253435e-01],\n",
       "        [ 6.2088197e-01,  6.1095124e-01, -1.2707199e-01],\n",
       "        [-5.6837177e-01,  1.3568962e+00,  2.1950488e-01]],\n",
       "\n",
       "       ...,\n",
       "\n",
       "       [[ 7.3651627e-02, -7.3205486e-02, -8.0527253e-02],\n",
       "        [ 4.4610506e-01,  1.8384695e-01,  1.4598726e+00],\n",
       "        [-5.6951028e-01, -1.7354378e+00, -1.2934414e+00],\n",
       "        ...,\n",
       "        [ 5.3487748e-01, -1.4167711e+00, -8.2446951e-01],\n",
       "        [ 6.8403250e-01, -1.5756148e-01, -1.9230571e-01],\n",
       "        [-3.7490305e-01, -1.2320230e-01,  4.9626920e-02]],\n",
       "\n",
       "       [[ 5.6707412e-01,  1.5032829e-01, -7.3229134e-01],\n",
       "        [-1.8923936e+00,  9.1220790e-01, -4.0834329e-01],\n",
       "        [ 1.2234333e+00,  3.4227690e-01,  2.1300404e-01],\n",
       "        ...,\n",
       "        [ 1.5516499e+00, -2.8983080e-01, -1.0774798e+00],\n",
       "        [-1.2134678e-01,  1.2641867e+00,  5.8403808e-01],\n",
       "        [-2.7824003e-01, -9.4139624e-01,  9.7582769e-01]],\n",
       "\n",
       "       [[-1.4120980e-01, -1.4728352e+00,  1.5933032e+00],\n",
       "        [ 7.3955953e-02,  2.2426894e-01, -9.7110361e-01],\n",
       "        [ 5.2144390e-01,  7.0311761e-01, -6.5640432e-01],\n",
       "        ...,\n",
       "        [ 1.9866030e-01,  1.3853850e+00, -4.0809879e-01],\n",
       "        [-2.5089473e-01, -3.9198768e-01, -1.2513819e-01],\n",
       "        [-6.2712586e-01,  5.5545342e-01, -9.7962791e-01]]], dtype=float32)>"
      ]
     },
     "execution_count": 57,
     "metadata": {},
     "output_type": "execute_result"
    }
   ],
   "source": [
    "x[0, ::]"
   ]
  },
  {
   "cell_type": "code",
   "execution_count": 58,
   "metadata": {},
   "outputs": [
    {
     "data": {
      "text/plain": [
       "<tf.Tensor: shape=(4, 14, 14, 3), dtype=float32, numpy=\n",
       "array([[[[-1.02021635e+00, -4.69999075e-01,  5.24770617e-01],\n",
       "         [-2.07000762e-01, -1.94538498e+00, -1.52018118e+00],\n",
       "         [-1.58467329e+00,  1.25489008e+00, -8.85322511e-01],\n",
       "         ...,\n",
       "         [ 1.23537350e+00, -1.44237208e+00,  2.21677557e-01],\n",
       "         [-1.15780139e+00, -3.83538693e-01,  3.92852694e-01],\n",
       "         [ 2.31558934e-01,  1.24026276e-01,  9.27998900e-01]],\n",
       "\n",
       "        [[-1.87142611e-01, -1.70361555e+00,  2.20947829e-03],\n",
       "         [-2.78761244e+00, -9.58536386e-01,  5.73897846e-02],\n",
       "         [-7.51922488e-01, -1.79007202e-01, -6.61538959e-01],\n",
       "         ...,\n",
       "         [ 8.76845896e-01, -1.42111886e+00, -7.41480350e-01],\n",
       "         [-7.19473779e-01, -8.66000876e-02, -1.01473248e+00],\n",
       "         [-6.36787653e-01,  1.14136827e+00, -6.83237433e-01]],\n",
       "\n",
       "        [[-7.66822934e-01, -1.77940845e-01, -7.93559015e-01],\n",
       "         [ 3.58895630e-01,  1.94146478e+00, -2.59329438e-01],\n",
       "         [-2.87153155e-01, -5.84643424e-01, -2.48543572e+00],\n",
       "         ...,\n",
       "         [ 2.31682491e+00, -6.89357370e-02,  1.52728903e+00],\n",
       "         [-7.74074137e-01,  1.07064211e+00,  6.18023276e-01],\n",
       "         [-1.53595650e+00, -5.55530667e-01, -8.42191577e-02]],\n",
       "\n",
       "        ...,\n",
       "\n",
       "        [[ 1.81790397e-01,  1.71443537e-01,  2.17411399e+00],\n",
       "         [-1.91369390e+00, -1.60076514e-01, -1.10801029e+00],\n",
       "         [-2.64649987e-01,  8.55622351e-01,  4.67906028e-01],\n",
       "         ...,\n",
       "         [ 1.40307009e-01,  1.78255808e+00, -1.29688358e+00],\n",
       "         [ 6.17532313e-01, -1.61334574e+00,  1.04555297e+00],\n",
       "         [ 5.52107453e-01,  1.26682115e+00, -8.71288836e-01]],\n",
       "\n",
       "        [[ 6.35028303e-01,  7.28506446e-01,  4.77607161e-01],\n",
       "         [-5.18107831e-01,  1.07058132e+00,  1.56975567e+00],\n",
       "         [-5.21995962e-01,  7.75797665e-01, -1.29482031e+00],\n",
       "         ...,\n",
       "         [ 1.82063496e+00, -2.01743197e+00,  2.05067849e+00],\n",
       "         [-5.43712854e-01, -1.77059025e-01, -2.04444095e-01],\n",
       "         [ 4.27523047e-01,  1.30109942e+00,  2.77095050e-01]],\n",
       "\n",
       "        [[-5.56852996e-01,  7.36529529e-02, -8.72731954e-02],\n",
       "         [-2.84648269e-01, -1.71588683e+00,  6.54542565e-01],\n",
       "         [-1.63772750e+00, -6.28563941e-01, -8.34988713e-01],\n",
       "         ...,\n",
       "         [ 5.36198497e-01, -2.08898163e+00,  5.05567074e-01],\n",
       "         [-2.05948185e-02,  8.36942673e-01, -5.39303660e-01],\n",
       "         [ 2.38663524e-01, -8.48498344e-01, -1.36560512e+00]]],\n",
       "\n",
       "\n",
       "       [[[-9.76092637e-01, -2.01054513e-01,  1.36137831e+00],\n",
       "         [-1.67702198e+00, -4.29486781e-01, -4.96711373e-01],\n",
       "         [ 1.21210694e+00, -1.78579819e+00, -2.17404470e-01],\n",
       "         ...,\n",
       "         [-1.40375888e+00, -2.40221426e-01, -1.73780310e+00],\n",
       "         [ 2.52537906e-01, -9.98535633e-01,  5.42474687e-01],\n",
       "         [-1.74685135e-01,  1.05784535e+00,  1.19065142e+00]],\n",
       "\n",
       "        [[ 5.35207927e-01, -1.19128990e+00, -1.64577329e+00],\n",
       "         [-5.06772876e-01, -6.28071487e-01, -7.77922511e-01],\n",
       "         [-8.69838953e-01, -5.69520473e-01,  1.02904892e+00],\n",
       "         ...,\n",
       "         [ 1.06147051e+00, -1.31332088e+00, -5.31581938e-01],\n",
       "         [-3.46577287e-01,  1.20626748e+00, -9.09303904e-01],\n",
       "         [ 6.42556489e-01,  4.84208226e-01,  1.00954330e+00]],\n",
       "\n",
       "        [[-8.75590742e-02, -7.73974180e-01,  7.91706860e-01],\n",
       "         [ 1.69104233e-01,  1.07900374e-01,  1.99436462e+00],\n",
       "         [-1.16897821e+00, -9.33361769e-01, -1.21424951e-01],\n",
       "         ...,\n",
       "         [-1.52744710e+00,  1.92403221e+00,  8.24886084e-01],\n",
       "         [-1.76462996e+00,  1.42718935e+00,  1.14026380e+00],\n",
       "         [-1.51902211e+00, -1.73314780e-01, -8.28450978e-01]],\n",
       "\n",
       "        ...,\n",
       "\n",
       "        [[-1.14118111e+00, -1.74336657e-01, -4.29624140e-01],\n",
       "         [ 4.97507632e-01,  1.33816391e-01,  7.69269109e-01],\n",
       "         [ 1.05557501e+00,  1.24336362e+00, -4.52466905e-01],\n",
       "         ...,\n",
       "         [-3.50602657e-01,  2.01284742e+00, -8.39780152e-01],\n",
       "         [ 1.01829755e+00, -4.88968045e-01, -5.83409548e-01],\n",
       "         [-1.08587754e+00,  2.52177000e-01, -7.74316132e-01]],\n",
       "\n",
       "        [[ 6.80990279e-01, -2.90981221e+00,  9.97029662e-01],\n",
       "         [-8.95574808e-01,  1.47400570e+00,  1.23932159e+00],\n",
       "         [-1.49533594e+00,  9.08482313e-01,  5.37370503e-01],\n",
       "         ...,\n",
       "         [-8.16765428e-02, -2.83324033e-01, -1.61226496e-01],\n",
       "         [-6.55140817e-01,  1.86760888e-01, -3.68789732e-02],\n",
       "         [ 1.24039400e+00,  1.27173007e+00, -1.24663436e+00]],\n",
       "\n",
       "        [[ 1.34891427e+00,  7.50893712e-01,  8.25645924e-01],\n",
       "         [-1.38395166e+00, -8.22022498e-01,  4.24715370e-01],\n",
       "         [-5.34196138e-01,  7.58514643e-01, -1.00485988e-01],\n",
       "         ...,\n",
       "         [ 1.44434369e+00,  3.27815086e-01, -7.68007636e-01],\n",
       "         [-3.01887900e-01,  2.26225781e+00,  2.21463919e-01],\n",
       "         [-4.18753892e-01, -1.33911741e+00, -1.04586840e+00]]],\n",
       "\n",
       "\n",
       "       [[[-7.96804577e-02,  6.77941918e-01,  6.86515510e-01],\n",
       "         [-5.87002933e-01, -2.92151958e-01,  5.03873825e-01],\n",
       "         [-1.52955806e+00, -2.42565587e-01, -1.25489759e+00],\n",
       "         ...,\n",
       "         [ 1.24874175e+00,  2.28158140e+00,  2.67448902e-01],\n",
       "         [-5.73531926e-01, -5.24557471e-01,  6.39731050e-01],\n",
       "         [-2.00787038e-02, -3.28680098e-01, -2.62808740e-01]],\n",
       "\n",
       "        [[ 3.96507345e-02, -9.24778283e-01,  4.91869628e-01],\n",
       "         [-9.24462974e-01,  3.88900399e-01,  5.44059455e-01],\n",
       "         [-1.77873337e+00, -1.28994584e+00,  2.54438609e-01],\n",
       "         ...,\n",
       "         [ 9.26522613e-01,  8.41373086e-01,  1.76153243e-01],\n",
       "         [ 7.80390739e-01, -1.13785742e-02, -3.28544527e-01],\n",
       "         [-1.39130330e+00, -1.16351187e+00,  9.32965636e-01]],\n",
       "\n",
       "        [[ 8.39802921e-01, -3.38440835e-02,  5.25962591e-01],\n",
       "         [ 9.13576186e-01,  7.45494306e-01, -2.64739418e+00],\n",
       "         [-3.15692842e-01, -6.33948386e-01,  7.57606328e-01],\n",
       "         ...,\n",
       "         [-5.30368090e-01,  5.24746060e-01, -4.04098779e-01],\n",
       "         [-1.40908265e+00,  7.71516412e-02,  5.42145491e-01],\n",
       "         [-1.28242087e+00, -1.47567189e+00, -2.56223893e+00]],\n",
       "\n",
       "        ...,\n",
       "\n",
       "        [[ 2.11644650e+00, -1.38766423e-01, -1.09611952e+00],\n",
       "         [ 4.95890826e-01,  8.14222455e-01, -2.43835807e-01],\n",
       "         [ 1.01429701e+00,  5.07556438e-01,  1.69421211e-01],\n",
       "         ...,\n",
       "         [ 1.75324842e-01, -6.90738261e-01,  5.30289531e-01],\n",
       "         [ 1.00903898e-01,  2.52208620e-01, -1.06328869e+00],\n",
       "         [ 1.02130942e-01,  9.93467331e-01, -1.59936857e+00]],\n",
       "\n",
       "        [[ 2.27837992e+00,  3.01132345e+00,  1.04522371e+00],\n",
       "         [-4.77898359e-01,  5.47149181e-01,  1.02231967e+00],\n",
       "         [-1.55873430e+00,  1.19075036e+00, -3.26043814e-01],\n",
       "         ...,\n",
       "         [-2.47987676e+00, -8.17808449e-01,  1.24602728e-01],\n",
       "         [-2.33038640e+00, -1.66643095e+00,  6.48383856e-01],\n",
       "         [ 1.04060519e+00, -1.11517620e+00, -8.83614182e-01]],\n",
       "\n",
       "        [[-9.08937752e-02, -4.93278429e-02,  8.10539424e-01],\n",
       "         [ 4.40724313e-01, -9.44438338e-01,  1.32864845e+00],\n",
       "         [ 5.31234108e-02, -1.47979271e+00, -4.99867827e-01],\n",
       "         ...,\n",
       "         [ 1.49921405e+00, -1.47326875e+00, -1.19793355e+00],\n",
       "         [ 6.34440362e-01,  6.04835153e-01,  1.64652145e+00],\n",
       "         [ 1.40486979e+00, -3.14642906e-01, -1.43717125e-01]]],\n",
       "\n",
       "\n",
       "       [[[-1.39037251e+00, -3.78798574e-01,  3.29884470e-01],\n",
       "         [ 1.03015780e+00,  2.00806832e+00, -1.00274551e+00],\n",
       "         [ 3.51914853e-01, -1.80062616e+00,  6.53868735e-01],\n",
       "         ...,\n",
       "         [ 3.14899743e-01,  1.29597223e+00,  7.57285535e-01],\n",
       "         [-1.61010623e-01, -3.23626429e-01,  1.85488629e+00],\n",
       "         [ 8.73326063e-01,  4.00910497e-01, -1.90732926e-01]],\n",
       "\n",
       "        [[-5.64972341e-01, -2.21839213e+00,  1.02056015e+00],\n",
       "         [ 8.16764176e-01,  1.33643544e+00, -1.99258792e+00],\n",
       "         [-6.15075409e-01, -1.81504750e+00,  8.81930888e-01],\n",
       "         ...,\n",
       "         [ 2.11349297e+00,  1.82539904e+00, -6.02492318e-02],\n",
       "         [ 2.49985516e-01, -1.14209700e+00, -6.82192504e-01],\n",
       "         [ 8.05238664e-01,  2.99974054e-01,  1.05969501e+00]],\n",
       "\n",
       "        [[ 3.30260754e-01, -1.61955908e-01,  9.61399227e-02],\n",
       "         [-2.76595324e-01, -6.21292889e-01,  6.51950836e-01],\n",
       "         [ 2.45530868e+00, -5.51410139e-01,  7.61007786e-01],\n",
       "         ...,\n",
       "         [-3.14903647e-01,  2.65568471e+00,  7.91487157e-01],\n",
       "         [ 1.07448614e+00,  8.13314915e-02,  1.56101310e+00],\n",
       "         [ 3.38512480e-01,  2.75420874e-01, -4.08718675e-01]],\n",
       "\n",
       "        ...,\n",
       "\n",
       "        [[ 1.22251439e+00,  1.69664606e-01,  8.69215369e-01],\n",
       "         [ 4.83462274e-01,  1.52508900e-01,  1.69602126e-01],\n",
       "         [-1.87072992e-01,  2.06086493e+00,  1.88839996e+00],\n",
       "         ...,\n",
       "         [ 1.59779346e+00, -3.39659303e-02, -1.49288535e+00],\n",
       "         [ 2.98659384e-01, -4.63105857e-01,  1.58877969e+00],\n",
       "         [ 5.90576567e-02, -7.07283854e-01,  1.58750153e+00]],\n",
       "\n",
       "        [[-1.69164002e+00, -3.68259966e-01, -3.71736884e-01],\n",
       "         [ 1.11577439e+00,  5.14004290e-01, -1.53818500e+00],\n",
       "         [ 7.11949110e-01,  1.32075667e-01,  7.94695556e-01],\n",
       "         ...,\n",
       "         [ 7.96093285e-01,  8.11699748e-01,  7.11302876e-01],\n",
       "         [ 1.22144723e+00,  8.69506240e-01, -2.74715394e-01],\n",
       "         [-4.80092466e-01,  1.18427664e-01, -8.15714836e-01]],\n",
       "\n",
       "        [[-2.13895097e-01,  3.74335736e-01,  3.64921123e-01],\n",
       "         [ 7.53264427e-01,  2.38844141e-01, -1.88223636e+00],\n",
       "         [ 4.26744930e-02, -2.07295313e-01,  8.40391278e-01],\n",
       "         ...,\n",
       "         [-2.19393998e-01, -6.70800447e-01,  1.20493090e+00],\n",
       "         [ 7.20568538e-01, -3.31167817e-01,  1.13361490e+00],\n",
       "         [ 1.75563112e-01, -4.19289798e-01, -1.27313888e+00]]]],\n",
       "      dtype=float32)>"
      ]
     },
     "execution_count": 58,
     "metadata": {},
     "output_type": "execute_result"
    }
   ],
   "source": [
    "x[:, 0:28:2 ,0:28:2 ,:]"
   ]
  },
  {
   "cell_type": "code",
   "execution_count": 59,
   "metadata": {},
   "outputs": [
    {
     "data": {
      "text/plain": [
       "<tf.Tensor: shape=(8,), dtype=int32, numpy=array([8, 7, 6, 5, 4, 3, 2, 1])>"
      ]
     },
     "execution_count": 59,
     "metadata": {},
     "output_type": "execute_result"
    }
   ],
   "source": [
    "x=tf.range(9)\n",
    "x[8:0:-1]"
   ]
  },
  {
   "cell_type": "code",
   "execution_count": 60,
   "metadata": {},
   "outputs": [
    {
     "data": {
      "text/plain": [
       "<tf.Tensor: shape=(9,), dtype=int32, numpy=array([8, 7, 6, 5, 4, 3, 2, 1, 0])>"
      ]
     },
     "execution_count": 60,
     "metadata": {},
     "output_type": "execute_result"
    }
   ],
   "source": [
    "x[::-1]"
   ]
  },
  {
   "cell_type": "code",
   "execution_count": 61,
   "metadata": {},
   "outputs": [
    {
     "data": {
      "text/plain": [
       "<tf.Tensor: shape=(5,), dtype=int32, numpy=array([8, 6, 4, 2, 0])>"
      ]
     },
     "execution_count": 61,
     "metadata": {},
     "output_type": "execute_result"
    }
   ],
   "source": [
    "x[::-2]"
   ]
  },
  {
   "cell_type": "code",
   "execution_count": 62,
   "metadata": {},
   "outputs": [
    {
     "data": {
      "text/plain": [
       "<tf.Tensor: shape=(16, 16, 3), dtype=float32, numpy=\n",
       "array([[[ 7.36053512e-02,  1.01872289e+00,  8.36386621e-01],\n",
       "        [ 1.42708039e+00,  7.50452101e-01,  7.91936338e-01],\n",
       "        [-5.77604175e-01, -1.35685778e+00, -1.27074197e-01],\n",
       "        [-1.88568425e+00,  7.30994701e-01, -4.41880703e-01],\n",
       "        [-1.22764483e-01, -3.26859117e-01, -1.24617493e+00],\n",
       "        [ 3.61316323e-01, -1.19561076e+00, -1.39711165e+00],\n",
       "        [ 1.98974997e-01, -5.95345140e-01,  3.20459843e-01],\n",
       "        [-1.29121482e+00, -1.75225961e+00,  9.94350970e-01],\n",
       "        [-7.72892475e-01, -2.73704320e-01,  2.55680829e-01],\n",
       "        [ 1.25787282e+00, -9.35421884e-01,  5.62218785e-01],\n",
       "        [ 2.71310151e-01, -7.23633707e-01, -1.18577397e+00],\n",
       "        [-1.13339864e-01,  8.70726824e-01,  1.51533139e+00],\n",
       "        [ 9.26813781e-01,  6.27629101e-01, -6.32854939e-01],\n",
       "        [-6.97447419e-01, -1.52649999e+00, -2.89641827e-01],\n",
       "        [ 1.45283246e+00,  6.71062708e-01,  2.91628212e-01],\n",
       "        [ 1.88761568e+00, -1.71714282e+00, -3.41329545e-01]],\n",
       "\n",
       "       [[-4.27742302e-01,  8.68228495e-01,  1.62145090e+00],\n",
       "        [ 8.63690257e-01, -1.27968192e+00,  7.11874902e-01],\n",
       "        [ 1.89642942e+00,  2.83541143e-01, -2.33680993e-01],\n",
       "        [ 1.46986592e+00,  2.83021629e-01,  4.12756205e-01],\n",
       "        [-5.95285952e-01,  7.20149279e-01, -6.33785903e-01],\n",
       "        [ 8.67821574e-02,  7.22168863e-01, -2.61484051e+00],\n",
       "        [ 1.02942979e+00, -8.89428675e-01, -5.54736078e-01],\n",
       "        [-1.10156707e-01,  7.58334994e-01,  5.80376923e-01],\n",
       "        [ 6.40555978e-01, -1.06236744e+00, -7.48271525e-01],\n",
       "        [ 3.36782724e-01,  6.08614445e-01,  6.17876984e-02],\n",
       "        [-1.21168888e+00, -9.45924520e-01,  5.41311681e-01],\n",
       "        [ 1.23644292e+00,  6.01341873e-02, -1.06619883e+00],\n",
       "        [ 7.69000232e-01, -9.92257833e-01,  3.79358560e-01],\n",
       "        [ 1.20475149e+00, -3.76368016e-01, -2.23690891e+00],\n",
       "        [ 1.57317483e+00, -6.84184909e-01, -1.57188803e-01],\n",
       "        [-7.98650026e-01,  1.40194750e+00,  2.55433947e-01]],\n",
       "\n",
       "       [[ 1.88430399e-01, -8.34100902e-01,  6.14439882e-02],\n",
       "        [-1.59602970e-01, -1.15341806e+00,  3.68597806e-01],\n",
       "        [-1.68318272e+00, -1.01150620e+00, -7.87215531e-01],\n",
       "        [-1.69889605e+00,  8.77651632e-01, -2.81972766e+00],\n",
       "        [ 7.70600498e-01, -5.91894448e-01,  5.05432725e-01],\n",
       "        [-3.86256993e-01, -1.54924154e+00, -8.51022184e-01],\n",
       "        [-1.68331727e-01,  4.48813170e-01, -1.74740478e-02],\n",
       "        [ 8.51512194e-01,  5.74677169e-01,  1.30695093e+00],\n",
       "        [ 3.32113624e-01,  1.42145085e+00,  9.04832542e-01],\n",
       "        [ 6.99271355e-03, -6.77167118e-01, -1.02591789e+00],\n",
       "        [ 7.06826150e-01,  5.03853202e-01,  5.55115283e-01],\n",
       "        [ 7.16935992e-01, -1.55377090e+00,  4.14431095e-01],\n",
       "        [-9.83389765e-02,  1.53308213e+00, -1.08013928e+00],\n",
       "        [-2.40100771e-01, -2.63623297e-01, -1.71709329e-01],\n",
       "        [ 5.16520381e-01,  7.87134588e-01,  4.22258496e-01],\n",
       "        [ 9.67402831e-02, -1.75999296e+00,  1.52124226e-01]],\n",
       "\n",
       "       [[ 7.46886209e-02,  4.12093937e-01,  1.24439001e+00],\n",
       "        [ 2.08029675e+00,  1.91319537e+00,  4.00502503e-01],\n",
       "        [-1.19356084e+00, -2.05861521e+00, -1.37239182e+00],\n",
       "        [ 5.79631984e-01,  1.67553592e+00,  2.07152724e+00],\n",
       "        [-6.42184317e-01,  2.47829580e+00, -1.63324428e+00],\n",
       "        [ 8.53419662e-01, -1.86441636e+00, -1.81444854e-01],\n",
       "        [ 9.38649699e-02, -4.94015783e-01,  7.46775866e-01],\n",
       "        [ 2.21394449e-02,  2.85202593e-01,  8.18760097e-01],\n",
       "        [ 2.42724800e+00,  2.22478628e-01, -1.93754286e-01],\n",
       "        [ 6.63456768e-02,  5.89180328e-02, -1.31319940e+00],\n",
       "        [ 2.50168145e-01, -1.28819585e+00, -1.07159758e+00],\n",
       "        [ 1.00327229e+00,  5.76783359e-01,  1.06127536e+00],\n",
       "        [ 1.35070181e+00, -1.20068021e-01,  8.97231281e-01],\n",
       "        [ 2.70493865e-01, -8.10543895e-01, -5.85315645e-01],\n",
       "        [-1.16168535e+00, -4.95578021e-01,  9.72063392e-02],\n",
       "        [ 4.40293282e-01, -1.27342343e+00,  2.10969949e+00]],\n",
       "\n",
       "       [[ 1.17889249e+00, -4.71563965e-01,  1.61169672e+00],\n",
       "        [ 1.47239998e-01, -3.30328137e-01,  2.48963479e-02],\n",
       "        [ 1.64841533e+00,  7.19189405e-01,  1.18133307e+00],\n",
       "        [ 2.14124846e+00, -1.14893186e+00, -3.27487350e-01],\n",
       "        [-2.77653003e+00, -1.02912450e+00,  8.64750206e-01],\n",
       "        [ 6.34575009e-01,  5.55747926e-01,  4.10637110e-01],\n",
       "        [-1.21052533e-01,  1.72011638e+00, -9.25746977e-01],\n",
       "        [-1.34415305e+00, -2.96948999e-01, -2.55652338e-01],\n",
       "        [-2.05235720e-01,  2.61613917e+00,  1.43581286e-01],\n",
       "        [ 1.09292758e+00,  5.78278303e-01,  1.34676969e+00],\n",
       "        [-8.26051533e-01,  8.53878021e-01,  1.22270703e+00],\n",
       "        [ 5.55808067e-01, -1.44716716e+00, -3.69989932e-01],\n",
       "        [-2.38072848e+00,  1.52907479e+00, -3.96271124e-02],\n",
       "        [-1.70324817e-01, -1.31597197e+00, -6.31992817e-02],\n",
       "        [-6.81159317e-01, -1.02667916e+00,  8.39210391e-01],\n",
       "        [ 1.04371846e+00,  2.65654504e-01,  1.37590206e+00]],\n",
       "\n",
       "       [[-6.30453885e-01,  2.11338222e-01,  5.92644215e-01],\n",
       "        [-4.78579819e-01,  5.58955729e-01, -8.59468281e-01],\n",
       "        [-6.75428808e-01, -1.02575207e+00, -8.82742286e-01],\n",
       "        [ 3.21002334e-01,  2.03294173e-01,  1.27416575e+00],\n",
       "        [-3.49813461e-01, -8.76724601e-01,  6.83671460e-02],\n",
       "        [ 6.22197807e-01, -7.72951543e-01, -1.36304545e+00],\n",
       "        [-6.23143911e-01, -1.23233938e+00,  1.48682788e-01],\n",
       "        [ 2.15379387e-01, -8.27703699e-02,  1.14662063e+00],\n",
       "        [ 9.21764255e-01,  5.06952047e-01,  7.84942269e-01],\n",
       "        [-1.70467883e-01, -6.48970246e-01, -1.67676315e-01],\n",
       "        [ 2.24993420e+00,  2.28870139e-01,  2.02213788e+00],\n",
       "        [-4.51564312e-01,  1.05556595e+00,  7.61303723e-01],\n",
       "        [-2.46947122e+00,  5.94951026e-02, -1.04345524e+00],\n",
       "        [ 1.75844014e+00,  4.04927760e-01, -1.19906211e+00],\n",
       "        [ 1.58290350e+00, -7.38083124e-02,  2.17704034e+00],\n",
       "        [ 2.07516432e+00,  5.97728133e-01,  3.37184399e-01]],\n",
       "\n",
       "       [[-1.78149188e+00, -4.16186690e-01,  5.86362302e-01],\n",
       "        [ 7.70723045e-01, -6.86981738e-01,  1.59682357e+00],\n",
       "        [ 6.97808852e-03, -1.24932155e-01, -1.77074909e+00],\n",
       "        [-6.79131150e-01, -1.09488380e+00, -5.33942617e-02],\n",
       "        [ 2.21082568e+00,  1.72273949e-01, -2.32212886e-01],\n",
       "        [-2.51781106e+00,  5.44690967e-01, -1.67320263e+00],\n",
       "        [-2.58813918e-01,  2.95769483e-01, -4.19317693e-01],\n",
       "        [ 1.15802979e+00,  1.26044142e+00, -5.74847996e-01],\n",
       "        [-7.09561050e-01, -1.07186961e+00, -1.05966866e+00],\n",
       "        [ 1.30536211e+00, -1.28536499e+00,  1.76533833e-01],\n",
       "        [ 2.12203002e+00, -1.95141241e-01, -1.79518545e+00],\n",
       "        [ 1.89496124e+00,  1.03350818e+00, -5.27674295e-02],\n",
       "        [ 5.46172380e-01,  1.36131036e+00, -7.49747634e-01],\n",
       "        [ 2.24574655e-01, -1.50629282e-01, -8.37762281e-02],\n",
       "        [-6.27238035e-01,  1.16520941e+00,  1.63282037e-01],\n",
       "        [ 1.04031837e+00,  4.97670591e-01,  9.84403551e-01]],\n",
       "\n",
       "       [[ 1.23994946e+00,  1.57295871e+00,  3.64901334e-01],\n",
       "        [-1.07526278e+00,  7.84597993e-01,  6.15004636e-02],\n",
       "        [ 1.46074891e+00, -7.84577727e-01,  1.92960933e-01],\n",
       "        [-3.83913964e-01,  6.78420305e-01,  1.03185821e+00],\n",
       "        [ 7.59547591e-01, -1.23419714e+00, -1.62497967e-01],\n",
       "        [-1.09083700e+00,  1.74957418e+00,  1.08965242e+00],\n",
       "        [ 1.94346849e-02, -2.02300400e-02,  1.15486228e+00],\n",
       "        [ 1.70802271e+00,  4.78108883e-01, -5.99776030e-01],\n",
       "        [-7.76076436e-01,  3.12915266e-01,  2.53996253e+00],\n",
       "        [-1.30574775e+00,  1.23313189e+00, -1.86571980e+00],\n",
       "        [ 1.98553562e+00, -2.61354506e-01,  2.82532632e-01],\n",
       "        [ 7.37575650e-01, -1.13445878e+00,  1.99379787e-01],\n",
       "        [-2.92099833e-01, -6.17966533e-01,  4.95685518e-01],\n",
       "        [-2.09397793e+00,  3.35520327e-01,  2.06242576e-01],\n",
       "        [-1.19267333e+00, -1.29660964e+00, -6.50192738e-01],\n",
       "        [ 1.00029635e+00, -9.40089822e-01, -1.68042004e+00]],\n",
       "\n",
       "       [[ 5.97734630e-01, -1.54682755e+00,  7.64271379e-01],\n",
       "        [-5.70910871e-01,  1.04766071e+00, -4.21231627e-01],\n",
       "        [ 9.40483689e-01, -1.55358684e+00,  3.47446084e-01],\n",
       "        [-2.36299306e-01,  4.46878165e-01, -1.11553669e+00],\n",
       "        [ 6.16113186e-01,  6.79375887e-01, -2.60182381e-01],\n",
       "        [ 2.09797457e-01,  7.34415352e-01, -1.96783054e+00],\n",
       "        [-9.91191149e-01, -8.60025585e-01,  5.54163694e-01],\n",
       "        [-1.27250165e-01, -5.86969376e-01,  4.98010010e-01],\n",
       "        [-4.45008397e-01, -2.24494431e-02,  1.15270984e+00],\n",
       "        [ 1.00525832e+00, -6.91248402e-02, -3.40143561e-01],\n",
       "        [-2.95388311e-01,  2.02925086e-01, -4.33603138e-01],\n",
       "        [ 2.83877373e-01, -6.61661685e-01, -4.41289730e-02],\n",
       "        [-1.70421973e-01, -3.61735374e-02,  1.98160052e-01],\n",
       "        [-1.06895375e+00,  1.17945962e-01,  2.41536140e-01],\n",
       "        [-1.77372783e-01, -9.04607058e-01,  4.09487039e-01],\n",
       "        [-1.16082096e+00, -1.48774102e-01,  6.66407168e-01]],\n",
       "\n",
       "       [[-1.03636646e+00,  1.86046883e-01, -9.41555649e-02],\n",
       "        [-1.00482368e+00, -1.54859734e+00, -1.27142501e+00],\n",
       "        [ 5.27331114e-01,  4.01305616e-01, -6.97955549e-01],\n",
       "        [ 2.87471026e-01,  1.38131702e+00,  4.18605596e-01],\n",
       "        [-4.83196288e-01,  6.75284028e-01, -8.50041568e-01],\n",
       "        [-1.45645845e+00, -7.21201003e-01, -8.37055683e-01],\n",
       "        [ 8.66654366e-02, -5.49403578e-02, -1.81748116e+00],\n",
       "        [ 2.46135280e-01, -8.82204771e-01, -5.27693212e-01],\n",
       "        [-4.82154369e-01,  4.35099512e-01, -5.47579944e-01],\n",
       "        [-1.35548103e+00,  1.02566695e+00,  9.57660615e-01],\n",
       "        [ 1.06429446e+00,  1.50312901e+00, -2.59659261e-01],\n",
       "        [-1.64712191e+00, -1.04916871e-01, -2.40329161e-01],\n",
       "        [ 4.58805770e-01,  1.13684332e+00, -1.48917794e+00],\n",
       "        [ 8.23148370e-01, -4.49371517e-01,  1.46537304e+00],\n",
       "        [-1.03194463e+00, -1.03507854e-01,  5.53290308e-01],\n",
       "        [-2.10842729e+00,  9.53326762e-01, -7.05743313e-01]],\n",
       "\n",
       "       [[-6.23915613e-01,  2.65185740e-02, -3.83813292e-01],\n",
       "        [-1.55652314e-01, -4.95896429e-01, -5.91171324e-01],\n",
       "        [-1.93354025e-01, -1.26272869e+00,  1.84739137e+00],\n",
       "        [ 1.71297371e+00,  4.11542058e-01,  4.68936831e-01],\n",
       "        [-2.04781413e-01,  1.48719668e+00,  5.07591814e-02],\n",
       "        [ 1.34187865e+00, -1.63039815e+00, -1.10229719e+00],\n",
       "        [ 1.43661320e-01,  3.21685314e-01, -8.24157059e-01],\n",
       "        [ 7.52931058e-01, -2.08889008e+00,  3.65546048e-01],\n",
       "        [ 3.68260354e-01, -6.23908043e-01, -4.59008455e-01],\n",
       "        [-1.01805627e+00, -2.58712023e-01,  2.89611906e-01],\n",
       "        [-1.32504368e+00, -2.42101526e+00, -1.02374583e-01],\n",
       "        [-3.64504158e-02,  1.27363575e+00, -2.99652308e-01],\n",
       "        [ 6.96013212e-01, -1.79906797e+00, -3.93631637e-01],\n",
       "        [-1.63301218e+00, -3.91764522e-01,  8.76935124e-01],\n",
       "        [-7.58697510e-01, -3.66661072e-01, -1.67168784e+00],\n",
       "        [ 3.79196227e-01, -3.73871833e-01,  3.78046274e-01]],\n",
       "\n",
       "       [[ 4.14350748e-01,  1.06974268e+00,  1.09260589e-01],\n",
       "        [ 1.36638936e-02,  8.39524925e-01, -9.52393353e-01],\n",
       "        [ 1.58225700e-01,  1.24125592e-01,  9.99463141e-01],\n",
       "        [ 1.47609031e+00, -1.28419921e-02,  1.48489165e+00],\n",
       "        [ 9.16619956e-01,  1.50698602e-01,  1.57820538e-01],\n",
       "        [ 4.66723233e-01, -4.98116553e-01, -1.10869718e+00],\n",
       "        [ 1.52884877e+00,  7.40404367e-01,  9.55463201e-02],\n",
       "        [-1.65771052e-01, -9.83664766e-02, -1.84352112e+00],\n",
       "        [-1.32445061e+00,  2.66559809e-01,  2.31347263e-01],\n",
       "        [ 1.30384612e+00, -6.65452302e-01,  1.05459177e+00],\n",
       "        [-2.79791296e-01, -1.42345250e+00, -1.91154468e+00],\n",
       "        [-1.39686751e+00, -1.63486588e+00,  6.57679796e-01],\n",
       "        [-5.68280816e-01, -1.93672967e+00,  5.80743968e-01],\n",
       "        [-6.73989117e-01, -4.67148304e-01,  1.24234366e+00],\n",
       "        [ 4.92153198e-01,  1.53880131e+00,  8.59490871e-01],\n",
       "        [-1.62740099e+00,  1.32511631e-01, -4.10121307e-02]],\n",
       "\n",
       "       [[-1.54848051e+00, -1.32286716e+00, -1.60155129e+00],\n",
       "        [ 1.53596504e-02, -1.21366191e+00, -5.66505551e-01],\n",
       "        [-1.44299716e-01, -6.61137402e-02, -1.25862503e+00],\n",
       "        [-5.00589490e-01, -1.29053965e-01, -8.71590078e-01],\n",
       "        [-1.48254001e+00, -9.57716703e-01,  3.28226611e-02],\n",
       "        [-3.83325130e-01,  7.81378448e-01, -2.19030619e+00],\n",
       "        [-1.11842477e+00, -9.57691908e-01, -7.41609605e-04],\n",
       "        [ 1.31126106e+00, -5.34752607e-01,  2.83205956e-01],\n",
       "        [-1.36801040e+00,  2.06338972e-01,  1.40529335e+00],\n",
       "        [-7.79797673e-01, -7.14428648e-02,  2.59395063e-01],\n",
       "        [-7.17820168e-01,  5.46054449e-03,  1.07573366e+00],\n",
       "        [-7.22305954e-01, -6.92239285e-01,  1.70402718e+00],\n",
       "        [-1.17778218e+00, -1.92610097e+00,  3.65177721e-01],\n",
       "        [-1.31042618e-02,  2.13921770e-01,  9.47486699e-01],\n",
       "        [-3.08777004e-01, -5.52974105e-01, -1.34357512e-01],\n",
       "        [ 4.12473053e-01,  1.24208319e+00, -9.17429149e-01]],\n",
       "\n",
       "       [[-7.49966383e-01,  8.51208508e-01,  2.48286977e-01],\n",
       "        [-6.40115917e-01, -3.76882553e-01,  1.83739960e-01],\n",
       "        [ 6.87857628e-01, -2.80130804e-01, -2.41437268e+00],\n",
       "        [ 1.32701248e-01,  4.09975141e-01, -1.39153135e+00],\n",
       "        [-3.20885688e-01,  2.89757991e+00,  5.93490601e-01],\n",
       "        [ 3.43289715e-03,  1.83639836e+00,  8.27695489e-01],\n",
       "        [ 5.75419366e-01,  6.16195738e-01, -1.93780375e+00],\n",
       "        [ 2.14540735e-01,  1.14288783e+00,  8.27975646e-02],\n",
       "        [ 8.24756563e-01, -8.93266618e-01,  2.91197717e-01],\n",
       "        [-5.22509813e-01,  5.93487442e-01, -2.88463473e-01],\n",
       "        [ 1.89980643e-03,  4.23865989e-02, -2.05293298e-01],\n",
       "        [-3.77394229e-01,  9.57399845e-01,  3.81167173e-01],\n",
       "        [-4.08639997e-01,  3.32386583e-01, -2.21190262e+00],\n",
       "        [ 5.50490916e-01, -6.63954198e-01, -2.90701240e-01],\n",
       "        [ 4.67188120e-01, -2.27830186e-01,  5.34739830e-02],\n",
       "        [ 5.05071223e-01,  6.98765934e-01, -2.11726665e+00]],\n",
       "\n",
       "       [[ 1.80190042e-01, -1.08387053e+00,  1.41508567e+00],\n",
       "        [-4.73170280e-01,  1.80331731e+00,  7.83801556e-01],\n",
       "        [-2.40070418e-01,  7.64768302e-01,  7.69468367e-01],\n",
       "        [-1.97718844e-01, -5.64234376e-01, -8.71517301e-01],\n",
       "        [ 1.09660888e+00,  1.18322909e+00,  1.49104548e+00],\n",
       "        [-8.12684417e-01,  2.76631451e+00,  1.12276900e+00],\n",
       "        [ 1.81613290e+00, -2.88029766e+00,  1.27034211e+00],\n",
       "        [ 2.70813763e-01, -1.65994966e+00,  2.25430310e-01],\n",
       "        [ 1.56640604e-01,  3.87981087e-01,  3.99599582e-01],\n",
       "        [-5.52555144e-01, -1.98802635e-01,  4.65176523e-01],\n",
       "        [-1.88920224e+00, -3.87586325e-01,  4.36008185e-01],\n",
       "        [-8.36581230e-01, -7.71646202e-01, -1.19210951e-01],\n",
       "        [ 2.16700137e-01, -1.40900826e+00,  9.08046886e-02],\n",
       "        [ 1.05721235e-01, -1.39920577e-01,  1.63814390e+00],\n",
       "        [-1.49595273e+00,  6.21459067e-01, -5.48842728e-01],\n",
       "        [ 4.25698102e-01, -3.07184327e-02, -1.18896222e+00]],\n",
       "\n",
       "       [[ 1.95121497e-01, -1.65223405e-01, -2.04870254e-01],\n",
       "        [-4.90034044e-01,  2.39466712e-01,  5.66972494e-01],\n",
       "        [ 1.53022182e+00, -1.95820642e+00, -4.95408624e-01],\n",
       "        [ 9.01427627e-01,  1.39300835e+00,  7.79917419e-01],\n",
       "        [-2.42438331e-01,  5.79436481e-01, -5.53961813e-01],\n",
       "        [ 8.06009710e-01, -1.39331564e-01, -7.54407525e-01],\n",
       "        [ 1.32442522e+00, -9.00722891e-02, -2.19542906e-01],\n",
       "        [-1.21444070e+00, -1.04701400e-01, -3.52748632e-01],\n",
       "        [ 1.67200661e+00,  4.21478242e-01, -1.11705887e+00],\n",
       "        [ 1.74749509e-01, -1.84054351e+00, -4.95110303e-01],\n",
       "        [-1.16135795e-02,  1.68232690e-03, -8.70206058e-01],\n",
       "        [-4.66186821e-01,  1.53449130e+00, -2.38953996e+00],\n",
       "        [-6.40939057e-01,  1.26821363e+00, -5.35221159e-01],\n",
       "        [-7.01318920e-01, -5.21042943e-01,  4.47012246e-01],\n",
       "        [-1.17503114e-01,  3.14456552e-01, -6.48420513e-01],\n",
       "        [-1.77961385e+00, -6.39504552e-01, -4.39958036e-01]]],\n",
       "      dtype=float32)>"
      ]
     },
     "execution_count": 62,
     "metadata": {},
     "output_type": "execute_result"
    }
   ],
   "source": [
    "x=tf.random.normal([4, 32, 32, 3])\n",
    "x[0, ::-2, ::-2]"
   ]
  },
  {
   "cell_type": "code",
   "execution_count": 63,
   "metadata": {},
   "outputs": [
    {
     "data": {
      "text/plain": [
       "<tf.Tensor: shape=(4, 32, 32), dtype=float32, numpy=\n",
       "array([[[ 0.36202848,  0.634468  ,  0.5066447 , ...,  0.30639383,\n",
       "          0.6730159 , -0.7562836 ],\n",
       "        [-2.0882876 , -0.63950455,  0.7600127 , ...,  0.23946671,\n",
       "         -0.21613404, -0.1652234 ],\n",
       "        [ 0.05555355,  0.2445308 , -0.4549886 , ...,  1.4353734 ,\n",
       "          0.51893497,  1.5647665 ],\n",
       "        ...,\n",
       "        [-0.19831495,  1.4019475 ,  0.8570417 , ..., -1.2796819 ,\n",
       "          0.30530566,  0.8682285 ],\n",
       "        [ 0.25917846, -1.029096  , -0.8318661 , ..., -0.17028238,\n",
       "         -0.745194  , -1.1081866 ],\n",
       "        [ 2.1332493 , -1.7171428 , -1.2467816 , ...,  0.7504521 ,\n",
       "         -0.03469117,  1.0187229 ]],\n",
       "\n",
       "       [[-0.17381446,  1.1120247 , -0.79724765, ...,  1.8023796 ,\n",
       "          1.9400977 , -0.8542672 ],\n",
       "        [-1.1604382 , -0.53405595,  0.14802964, ..., -0.5067977 ,\n",
       "          1.5638095 , -0.941117  ],\n",
       "        [-0.6548334 ,  1.5310423 ,  0.60589826, ..., -0.05637163,\n",
       "         -0.22252826, -0.86216533],\n",
       "        ...,\n",
       "        [ 0.17251538, -1.3859782 , -1.6250646 , ..., -0.21121076,\n",
       "         -1.2664881 , -0.7843838 ],\n",
       "        [ 2.2739062 ,  0.8292691 ,  2.2012317 , ...,  0.03401781,\n",
       "         -0.56490207,  0.37830728],\n",
       "        [-0.18952526, -0.5229497 , -0.0392241 , ..., -0.70014435,\n",
       "          0.20131917,  1.7127815 ]],\n",
       "\n",
       "       [[-0.3551499 ,  0.52050287, -1.732567  , ...,  1.0286726 ,\n",
       "          0.50827897, -0.03859905],\n",
       "        [-0.51053685, -0.18267868,  1.078144  , ..., -0.09630656,\n",
       "         -1.9785401 ,  0.43446252],\n",
       "        [ 0.71278155, -0.05831661,  0.33244982, ..., -1.6540269 ,\n",
       "          0.19560036, -1.3576475 ],\n",
       "        ...,\n",
       "        [-0.8821468 ,  0.42135534, -1.2295142 , ...,  0.72865206,\n",
       "          0.3617354 ,  0.23950401],\n",
       "        [ 0.2891553 ,  1.0381233 , -0.35319918, ..., -1.8038805 ,\n",
       "          1.2544314 , -0.61698425],\n",
       "        [-1.0221108 , -0.35645762,  0.40131778, ...,  1.3966944 ,\n",
       "         -0.6856587 ,  1.0733285 ]],\n",
       "\n",
       "       [[ 0.56705874,  0.5146396 ,  0.5641596 , ..., -0.08331967,\n",
       "         -0.5138305 , -0.33388734],\n",
       "        [-0.7063599 , -0.6203404 , -0.8800809 , ..., -0.5351654 ,\n",
       "          1.5516475 , -0.7418283 ],\n",
       "        [-1.5224159 ,  0.80054504,  0.45290402, ..., -0.46112704,\n",
       "          0.09135693, -0.43771693],\n",
       "        ...,\n",
       "        [ 0.7802736 , -0.09107254,  1.534485  , ..., -2.4851427 ,\n",
       "         -0.1943535 , -0.14376742],\n",
       "        [-0.52954113,  0.6301304 , -0.09118038, ...,  0.2681911 ,\n",
       "          2.0111115 , -1.0040191 ],\n",
       "        [ 0.69532365, -0.11253772, -0.09313475, ..., -0.21614479,\n",
       "          0.07979111,  1.3410048 ]]], dtype=float32)>"
      ]
     },
     "execution_count": 63,
     "metadata": {},
     "output_type": "execute_result"
    }
   ],
   "source": [
    "x[:, :, :, 1]"
   ]
  },
  {
   "cell_type": "code",
   "execution_count": 64,
   "metadata": {},
   "outputs": [
    {
     "data": {
      "text/plain": [
       "<tf.Tensor: shape=(2, 32, 32, 2), dtype=float32, numpy=\n",
       "array([[[[ 3.6202848e-01, -5.5398232e-01],\n",
       "         [ 6.3446802e-01,  9.0773845e-01],\n",
       "         [ 5.0664473e-01,  1.8768325e-01],\n",
       "         ...,\n",
       "         [ 3.0639383e-01, -6.7934236e-03],\n",
       "         [ 6.7301589e-01,  2.4075587e-01],\n",
       "         [-7.5628358e-01, -4.3695110e-01]],\n",
       "\n",
       "        [[-2.0882876e+00,  1.9264334e-01],\n",
       "         [-6.3950455e-01, -4.3995804e-01],\n",
       "         [ 7.6001269e-01,  1.1310548e+00],\n",
       "         ...,\n",
       "         [ 2.3946671e-01,  5.6697249e-01],\n",
       "         [-2.1613404e-01,  8.9108723e-01],\n",
       "         [-1.6522340e-01, -2.0487025e-01]],\n",
       "\n",
       "        [[ 5.5553548e-02,  3.2688153e-01],\n",
       "         [ 2.4453080e-01, -8.3193886e-01],\n",
       "         [-4.5498860e-01, -6.1945397e-01],\n",
       "         ...,\n",
       "         [ 1.4353734e+00, -1.6892575e-01],\n",
       "         [ 5.1893497e-01,  6.5566522e-01],\n",
       "         [ 1.5647665e+00, -2.0517886e+00]],\n",
       "\n",
       "        ...,\n",
       "\n",
       "        [[-1.9831495e-01,  1.4456327e-01],\n",
       "         [ 1.4019475e+00,  2.5543395e-01],\n",
       "         [ 8.5704172e-01, -4.0562473e-02],\n",
       "         ...,\n",
       "         [-1.2796819e+00,  7.1187490e-01],\n",
       "         [ 3.0530566e-01,  9.7267795e-01],\n",
       "         [ 8.6822850e-01,  1.6214509e+00]],\n",
       "\n",
       "        [[ 2.5917846e-01, -1.9908194e-01],\n",
       "         [-1.0290960e+00, -3.3360022e-01],\n",
       "         [-8.3186609e-01,  8.6703807e-01],\n",
       "         ...,\n",
       "         [-1.7028238e-01, -1.9518137e-01],\n",
       "         [-7.4519402e-01,  3.6335793e-01],\n",
       "         [-1.1081866e+00, -8.6114633e-01]],\n",
       "\n",
       "        [[ 2.1332493e+00, -4.0799513e-01],\n",
       "         [-1.7171428e+00, -3.4132954e-01],\n",
       "         [-1.2467816e+00,  3.1753850e-01],\n",
       "         ...,\n",
       "         [ 7.5045210e-01,  7.9193634e-01],\n",
       "         [-3.4691174e-02,  1.0484612e+00],\n",
       "         [ 1.0187229e+00,  8.3638662e-01]]],\n",
       "\n",
       "\n",
       "       [[[-1.7381446e-01, -2.1641105e-01],\n",
       "         [ 1.1120247e+00, -1.4421841e+00],\n",
       "         [-7.9724765e-01,  8.1121653e-01],\n",
       "         ...,\n",
       "         [ 1.8023796e+00, -2.4767622e-01],\n",
       "         [ 1.9400977e+00,  7.4447203e-01],\n",
       "         [-8.5426718e-01,  1.2547819e-01]],\n",
       "\n",
       "        [[-1.1604382e+00, -1.2295884e+00],\n",
       "         [-5.3405595e-01,  7.3687881e-01],\n",
       "         [ 1.4802964e-01, -3.0809554e-01],\n",
       "         ...,\n",
       "         [-5.0679767e-01,  2.5186720e-01],\n",
       "         [ 1.5638095e+00, -6.8188822e-01],\n",
       "         [-9.4111699e-01,  2.0084959e-01]],\n",
       "\n",
       "        [[-6.5483338e-01, -2.3687729e-01],\n",
       "         [ 1.5310423e+00, -8.6468625e-01],\n",
       "         [ 6.0589826e-01, -4.6004382e-01],\n",
       "         ...,\n",
       "         [-5.6371626e-02,  1.3809611e-01],\n",
       "         [-2.2252826e-01, -8.6384737e-01],\n",
       "         [-8.6216533e-01,  1.0836076e+00]],\n",
       "\n",
       "        ...,\n",
       "\n",
       "        [[ 1.7251538e-01,  1.3561262e-01],\n",
       "         [-1.3859782e+00,  3.8693827e-01],\n",
       "         [-1.6250646e+00, -3.0212402e-01],\n",
       "         ...,\n",
       "         [-2.1121076e-01,  4.9421523e-02],\n",
       "         [-1.2664881e+00, -1.4098896e-01],\n",
       "         [-7.8438377e-01,  1.7515635e-03]],\n",
       "\n",
       "        [[ 2.2739062e+00,  1.6994683e-01],\n",
       "         [ 8.2926911e-01, -8.4129542e-01],\n",
       "         [ 2.2012317e+00, -2.4071076e+00],\n",
       "         ...,\n",
       "         [ 3.4017809e-02, -8.3416092e-01],\n",
       "         [-5.6490207e-01, -1.0439866e+00],\n",
       "         [ 3.7830728e-01, -3.2981622e-01]],\n",
       "\n",
       "        [[-1.8952526e-01, -1.0262252e+00],\n",
       "         [-5.2294970e-01, -1.3593668e+00],\n",
       "         [-3.9224103e-02, -7.7703673e-01],\n",
       "         ...,\n",
       "         [-7.0014435e-01, -1.0554903e+00],\n",
       "         [ 2.0131917e-01,  6.5030210e-02],\n",
       "         [ 1.7127815e+00, -5.3473306e-01]]]], dtype=float32)>"
      ]
     },
     "execution_count": 64,
     "metadata": {},
     "output_type": "execute_result"
    }
   ],
   "source": [
    "x[0:2, ..., 1:]"
   ]
  },
  {
   "cell_type": "code",
   "execution_count": 65,
   "metadata": {},
   "outputs": [
    {
     "data": {
      "text/plain": [
       "<tf.Tensor: shape=(2, 32, 32, 3), dtype=float32, numpy=\n",
       "array([[[[ 8.6046672e-01, -3.5514989e-01, -5.9482121e-01],\n",
       "         [-1.6537118e-01,  5.2050287e-01, -2.5763848e-01],\n",
       "         [ 7.0815200e-01, -1.7325670e+00,  4.3046060e-01],\n",
       "         ...,\n",
       "         [ 3.6757264e-01,  1.0286726e+00,  1.7626319e+00],\n",
       "         [ 1.1590616e+00,  5.0827897e-01, -8.3417487e-01],\n",
       "         [-3.2140857e-01, -3.8599048e-02, -6.0582370e-01]],\n",
       "\n",
       "        [[-1.1876078e+00, -5.1053685e-01,  1.5186617e+00],\n",
       "         [ 2.1536739e+00, -1.8267868e-01, -5.2432311e-01],\n",
       "         [ 2.2162545e-01,  1.0781440e+00, -1.2162081e+00],\n",
       "         ...,\n",
       "         [-2.9199231e+00, -9.6306562e-02,  5.9971172e-01],\n",
       "         [-2.1300638e-01, -1.9785401e+00, -3.0130885e+00],\n",
       "         [ 3.2598495e-01,  4.3446252e-01,  2.9374403e-01]],\n",
       "\n",
       "        [[-8.8327789e-01,  7.1278155e-01, -1.5181699e-01],\n",
       "         [-7.7327085e-01, -5.8316614e-02, -2.9315087e-01],\n",
       "         [ 7.6770109e-01,  3.3244982e-01, -2.2983415e+00],\n",
       "         ...,\n",
       "         [ 1.8658714e+00, -1.6540269e+00,  9.0909690e-01],\n",
       "         [ 1.7380329e+00,  1.9560036e-01,  6.9037080e-01],\n",
       "         [-9.4713861e-01, -1.3576475e+00,  1.6783354e+00]],\n",
       "\n",
       "        ...,\n",
       "\n",
       "        [[-8.9679354e-01, -8.8214678e-01, -4.7936743e-01],\n",
       "         [-1.6288040e+00,  4.2135534e-01, -3.4677458e-01],\n",
       "         [ 7.5410098e-01, -1.2295142e+00,  1.6565952e-01],\n",
       "         ...,\n",
       "         [ 6.1841351e-01,  7.2865206e-01,  6.0590363e-01],\n",
       "         [-1.3052315e-01,  3.6173540e-01,  1.5546318e+00],\n",
       "         [-7.4737459e-01,  2.3950401e-01, -1.2573415e+00]],\n",
       "\n",
       "        [[-5.0756108e-02,  2.8915530e-01,  2.4635278e-01],\n",
       "         [ 1.0370940e+00,  1.0381233e+00, -1.6859527e-01],\n",
       "         [ 5.4016864e-01, -3.5319918e-01,  1.7509124e-01],\n",
       "         ...,\n",
       "         [ 1.5343025e+00, -1.8038805e+00,  8.0723149e-01],\n",
       "         [ 7.0391756e-01,  1.2544314e+00,  1.2857027e+00],\n",
       "         [ 5.9755719e-01, -6.1698425e-01, -5.8772200e-01]],\n",
       "\n",
       "        [[-3.9452127e-01, -1.0221108e+00, -3.2286613e+00],\n",
       "         [ 2.6026621e-02, -3.5645762e-01, -1.0234375e+00],\n",
       "         [ 9.8889041e-01,  4.0131778e-01,  4.3679038e-01],\n",
       "         ...,\n",
       "         [-6.2819141e-01,  1.3966944e+00, -1.0121583e+00],\n",
       "         [ 1.0224963e-01, -6.8565869e-01, -4.8243269e-01],\n",
       "         [-4.0313131e-01,  1.0733285e+00,  1.3428290e+00]]],\n",
       "\n",
       "\n",
       "       [[[ 8.9409918e-01,  5.6705874e-01,  1.3074341e+00],\n",
       "         [ 8.5897052e-01,  5.1463962e-01, -6.6275334e-01],\n",
       "         [ 1.4786481e+00,  5.6415957e-01,  9.3809330e-01],\n",
       "         ...,\n",
       "         [-6.9879247e-03, -8.3319671e-02, -7.2385740e-01],\n",
       "         [-4.3365812e-01, -5.1383048e-01,  3.1748876e-01],\n",
       "         [-7.3777783e-01, -3.3388734e-01,  1.9312282e+00]],\n",
       "\n",
       "        [[-9.8467821e-01, -7.0635992e-01, -7.2558886e-01],\n",
       "         [-2.5016078e-01, -6.2034041e-01,  1.5968103e+00],\n",
       "         [-1.3190135e-01, -8.8008088e-01,  5.1867580e-01],\n",
       "         ...,\n",
       "         [-4.5891932e-01, -5.3516543e-01,  1.8321540e+00],\n",
       "         [ 9.7768402e-01,  1.5516475e+00,  5.3841150e-01],\n",
       "         [ 2.1690454e+00, -7.4182832e-01, -1.5489734e+00]],\n",
       "\n",
       "        [[-3.6797702e-01, -1.5224159e+00,  3.7071232e-02],\n",
       "         [ 7.2093871e-03,  8.0054504e-01,  1.0843043e+00],\n",
       "         [ 1.6490115e-03,  4.5290402e-01,  1.0070235e+00],\n",
       "         ...,\n",
       "         [-9.7270006e-01, -4.6112704e-01, -1.5252757e+00],\n",
       "         [ 7.3447526e-01,  9.1356926e-02,  1.6253926e+00],\n",
       "         [ 3.4941491e-01, -4.3771693e-01,  9.6259020e-02]],\n",
       "\n",
       "        ...,\n",
       "\n",
       "        [[ 5.4324025e-01,  7.8027362e-01, -6.4520496e-01],\n",
       "         [ 2.4566831e-01, -9.1072537e-02, -2.7242956e+00],\n",
       "         [-2.9399574e-01,  1.5344850e+00, -8.2462281e-01],\n",
       "         ...,\n",
       "         [ 1.1560798e+00, -2.4851427e+00, -9.5465803e-01],\n",
       "         [ 5.0843275e-01, -1.9435351e-01, -1.5184335e+00],\n",
       "         [ 5.6036013e-01, -1.4376742e-01,  1.9744003e+00]],\n",
       "\n",
       "        [[-4.6926998e-02, -5.2954113e-01, -7.3185402e-01],\n",
       "         [ 3.2439420e-01,  6.3013041e-01,  6.1436421e-01],\n",
       "         [ 7.5527942e-01, -9.1180377e-02, -1.1345720e+00],\n",
       "         ...,\n",
       "         [-1.3572440e-01,  2.6819110e-01, -1.2988708e+00],\n",
       "         [-4.0363783e-01,  2.0111115e+00, -5.0639057e-01],\n",
       "         [ 2.1447638e-01, -1.0040191e+00, -7.7706677e-01]],\n",
       "\n",
       "        [[ 4.4922721e-01,  6.9532365e-01, -4.8644495e-01],\n",
       "         [ 3.4657225e-01, -1.1253772e-01,  1.4415434e-01],\n",
       "         [-3.2889953e-01, -9.3134753e-02, -1.3850898e-01],\n",
       "         ...,\n",
       "         [ 1.8600243e-01, -2.1614479e-01,  3.9534000e-01],\n",
       "         [-1.4241907e-01,  7.9791114e-02,  1.8650423e+00],\n",
       "         [ 5.7895329e-02,  1.3410048e+00,  3.9481482e-01]]]],\n",
       "      dtype=float32)>"
      ]
     },
     "execution_count": 65,
     "metadata": {},
     "output_type": "execute_result"
    }
   ],
   "source": [
    "x[2:, ...]"
   ]
  },
  {
   "cell_type": "code",
   "execution_count": 66,
   "metadata": {},
   "outputs": [
    {
     "data": {
      "text/plain": [
       "<tf.Tensor: shape=(4, 32, 32, 2), dtype=float32, numpy=\n",
       "array([[[[-1.1415092e+00,  3.6202848e-01],\n",
       "         [ 2.1483402e-01,  6.3446802e-01],\n",
       "         [-1.1100272e+00,  5.0664473e-01],\n",
       "         ...,\n",
       "         [-2.0972016e+00,  3.0639383e-01],\n",
       "         [ 1.0108693e+00,  6.7301589e-01],\n",
       "         [-7.2067046e-01, -7.5628358e-01]],\n",
       "\n",
       "        [[ 5.3733450e-01, -2.0882876e+00],\n",
       "         [-1.7796139e+00, -6.3950455e-01],\n",
       "         [ 2.1347184e+00,  7.6001269e-01],\n",
       "         ...,\n",
       "         [-4.9003404e-01,  2.3946671e-01],\n",
       "         [-1.2199330e+00, -2.1613404e-01],\n",
       "         [ 1.9512150e-01, -1.6522340e-01]],\n",
       "\n",
       "        [[ 8.9841825e-01,  5.5553548e-02],\n",
       "         [-7.9397339e-01,  2.4453080e-01],\n",
       "         [-3.0698621e-01, -4.5498860e-01],\n",
       "         ...,\n",
       "         [-2.4553412e-01,  1.4353734e+00],\n",
       "         [ 5.7269436e-01,  5.1893497e-01],\n",
       "         [ 1.2889162e+00,  1.5647665e+00]],\n",
       "\n",
       "        ...,\n",
       "\n",
       "        [[-1.1503110e+00, -1.9831495e-01],\n",
       "         [-7.9865003e-01,  1.4019475e+00],\n",
       "         [ 5.7714242e-01,  8.5704172e-01],\n",
       "         ...,\n",
       "         [ 8.6369026e-01, -1.2796819e+00],\n",
       "         [ 2.2527702e-01,  3.0530566e-01],\n",
       "         [-4.2774230e-01,  8.6822850e-01]],\n",
       "\n",
       "        [[ 1.3660093e-01,  2.5917846e-01],\n",
       "         [ 6.2954670e-01, -1.0290960e+00],\n",
       "         [ 7.5145954e-01, -8.3186609e-01],\n",
       "         ...,\n",
       "         [-1.8162277e-02, -1.7028238e-01],\n",
       "         [-2.1740872e-01, -7.4519402e-01],\n",
       "         [-5.1614612e-01, -1.1081866e+00]],\n",
       "\n",
       "        [[ 1.0311571e+00,  2.1332493e+00],\n",
       "         [ 1.8876157e+00, -1.7171428e+00],\n",
       "         [-1.1196363e+00, -1.2467816e+00],\n",
       "         ...,\n",
       "         [ 1.4270804e+00,  7.5045210e-01],\n",
       "         [-1.4142028e+00, -3.4691174e-02],\n",
       "         [ 7.3605351e-02,  1.0187229e+00]]],\n",
       "\n",
       "\n",
       "       [[[-3.6329365e-01, -1.7381446e-01],\n",
       "         [-1.5167114e+00,  1.1120247e+00],\n",
       "         [-1.3893522e+00, -7.9724765e-01],\n",
       "         ...,\n",
       "         [ 7.8429592e-01,  1.8023796e+00],\n",
       "         [ 7.3021543e-01,  1.9400977e+00],\n",
       "         [ 1.4999988e+00, -8.5426718e-01]],\n",
       "\n",
       "        [[ 1.5107403e+00, -1.1604382e+00],\n",
       "         [ 6.6740787e-01, -5.3405595e-01],\n",
       "         [-2.6438966e-01,  1.4802964e-01],\n",
       "         ...,\n",
       "         [-8.3045363e-01, -5.0679767e-01],\n",
       "         [-3.6181149e-01,  1.5638095e+00],\n",
       "         [-8.9937770e-01, -9.4111699e-01]],\n",
       "\n",
       "        [[ 2.8101277e+00, -6.5483338e-01],\n",
       "         [-1.8728232e+00,  1.5310423e+00],\n",
       "         [-1.3915321e+00,  6.0589826e-01],\n",
       "         ...,\n",
       "         [ 3.8880095e-01, -5.6371626e-02],\n",
       "         [ 1.2690949e+00, -2.2252826e-01],\n",
       "         [-2.2257905e+00, -8.6216533e-01]],\n",
       "\n",
       "        ...,\n",
       "\n",
       "        [[ 1.2826728e+00,  1.7251538e-01],\n",
       "         [-3.1714711e-01, -1.3859782e+00],\n",
       "         [-9.7024822e-01, -1.6250646e+00],\n",
       "         ...,\n",
       "         [-1.4330362e+00, -2.1121076e-01],\n",
       "         [ 8.5103899e-01, -1.2664881e+00],\n",
       "         [-4.0740803e-02, -7.8438377e-01]],\n",
       "\n",
       "        [[-3.9581424e-01,  2.2739062e+00],\n",
       "         [-1.8009486e+00,  8.2926911e-01],\n",
       "         [ 1.5259290e+00,  2.2012317e+00],\n",
       "         ...,\n",
       "         [ 7.4770558e-01,  3.4017809e-02],\n",
       "         [ 5.6866091e-01, -5.6490207e-01],\n",
       "         [ 9.9485278e-01,  3.7830728e-01]],\n",
       "\n",
       "        [[ 3.1753665e-01, -1.8952526e-01],\n",
       "         [ 2.2393446e+00, -5.2294970e-01],\n",
       "         [-3.6983535e-01, -3.9224103e-02],\n",
       "         ...,\n",
       "         [ 1.4560130e+00, -7.0014435e-01],\n",
       "         [-6.5461224e-01,  2.0131917e-01],\n",
       "         [ 4.0648916e-01,  1.7127815e+00]]],\n",
       "\n",
       "\n",
       "       [[[ 8.6046672e-01, -3.5514989e-01],\n",
       "         [-1.6537118e-01,  5.2050287e-01],\n",
       "         [ 7.0815200e-01, -1.7325670e+00],\n",
       "         ...,\n",
       "         [ 3.6757264e-01,  1.0286726e+00],\n",
       "         [ 1.1590616e+00,  5.0827897e-01],\n",
       "         [-3.2140857e-01, -3.8599048e-02]],\n",
       "\n",
       "        [[-1.1876078e+00, -5.1053685e-01],\n",
       "         [ 2.1536739e+00, -1.8267868e-01],\n",
       "         [ 2.2162545e-01,  1.0781440e+00],\n",
       "         ...,\n",
       "         [-2.9199231e+00, -9.6306562e-02],\n",
       "         [-2.1300638e-01, -1.9785401e+00],\n",
       "         [ 3.2598495e-01,  4.3446252e-01]],\n",
       "\n",
       "        [[-8.8327789e-01,  7.1278155e-01],\n",
       "         [-7.7327085e-01, -5.8316614e-02],\n",
       "         [ 7.6770109e-01,  3.3244982e-01],\n",
       "         ...,\n",
       "         [ 1.8658714e+00, -1.6540269e+00],\n",
       "         [ 1.7380329e+00,  1.9560036e-01],\n",
       "         [-9.4713861e-01, -1.3576475e+00]],\n",
       "\n",
       "        ...,\n",
       "\n",
       "        [[-8.9679354e-01, -8.8214678e-01],\n",
       "         [-1.6288040e+00,  4.2135534e-01],\n",
       "         [ 7.5410098e-01, -1.2295142e+00],\n",
       "         ...,\n",
       "         [ 6.1841351e-01,  7.2865206e-01],\n",
       "         [-1.3052315e-01,  3.6173540e-01],\n",
       "         [-7.4737459e-01,  2.3950401e-01]],\n",
       "\n",
       "        [[-5.0756108e-02,  2.8915530e-01],\n",
       "         [ 1.0370940e+00,  1.0381233e+00],\n",
       "         [ 5.4016864e-01, -3.5319918e-01],\n",
       "         ...,\n",
       "         [ 1.5343025e+00, -1.8038805e+00],\n",
       "         [ 7.0391756e-01,  1.2544314e+00],\n",
       "         [ 5.9755719e-01, -6.1698425e-01]],\n",
       "\n",
       "        [[-3.9452127e-01, -1.0221108e+00],\n",
       "         [ 2.6026621e-02, -3.5645762e-01],\n",
       "         [ 9.8889041e-01,  4.0131778e-01],\n",
       "         ...,\n",
       "         [-6.2819141e-01,  1.3966944e+00],\n",
       "         [ 1.0224963e-01, -6.8565869e-01],\n",
       "         [-4.0313131e-01,  1.0733285e+00]]],\n",
       "\n",
       "\n",
       "       [[[ 8.9409918e-01,  5.6705874e-01],\n",
       "         [ 8.5897052e-01,  5.1463962e-01],\n",
       "         [ 1.4786481e+00,  5.6415957e-01],\n",
       "         ...,\n",
       "         [-6.9879247e-03, -8.3319671e-02],\n",
       "         [-4.3365812e-01, -5.1383048e-01],\n",
       "         [-7.3777783e-01, -3.3388734e-01]],\n",
       "\n",
       "        [[-9.8467821e-01, -7.0635992e-01],\n",
       "         [-2.5016078e-01, -6.2034041e-01],\n",
       "         [-1.3190135e-01, -8.8008088e-01],\n",
       "         ...,\n",
       "         [-4.5891932e-01, -5.3516543e-01],\n",
       "         [ 9.7768402e-01,  1.5516475e+00],\n",
       "         [ 2.1690454e+00, -7.4182832e-01]],\n",
       "\n",
       "        [[-3.6797702e-01, -1.5224159e+00],\n",
       "         [ 7.2093871e-03,  8.0054504e-01],\n",
       "         [ 1.6490115e-03,  4.5290402e-01],\n",
       "         ...,\n",
       "         [-9.7270006e-01, -4.6112704e-01],\n",
       "         [ 7.3447526e-01,  9.1356926e-02],\n",
       "         [ 3.4941491e-01, -4.3771693e-01]],\n",
       "\n",
       "        ...,\n",
       "\n",
       "        [[ 5.4324025e-01,  7.8027362e-01],\n",
       "         [ 2.4566831e-01, -9.1072537e-02],\n",
       "         [-2.9399574e-01,  1.5344850e+00],\n",
       "         ...,\n",
       "         [ 1.1560798e+00, -2.4851427e+00],\n",
       "         [ 5.0843275e-01, -1.9435351e-01],\n",
       "         [ 5.6036013e-01, -1.4376742e-01]],\n",
       "\n",
       "        [[-4.6926998e-02, -5.2954113e-01],\n",
       "         [ 3.2439420e-01,  6.3013041e-01],\n",
       "         [ 7.5527942e-01, -9.1180377e-02],\n",
       "         ...,\n",
       "         [-1.3572440e-01,  2.6819110e-01],\n",
       "         [-4.0363783e-01,  2.0111115e+00],\n",
       "         [ 2.1447638e-01, -1.0040191e+00]],\n",
       "\n",
       "        [[ 4.4922721e-01,  6.9532365e-01],\n",
       "         [ 3.4657225e-01, -1.1253772e-01],\n",
       "         [-3.2889953e-01, -9.3134753e-02],\n",
       "         ...,\n",
       "         [ 1.8600243e-01, -2.1614479e-01],\n",
       "         [-1.4241907e-01,  7.9791114e-02],\n",
       "         [ 5.7895329e-02,  1.3410048e+00]]]], dtype=float32)>"
      ]
     },
     "execution_count": 66,
     "metadata": {},
     "output_type": "execute_result"
    }
   ],
   "source": [
    "x[..., :2]"
   ]
  },
  {
   "cell_type": "markdown",
   "metadata": {},
   "source": [
    "## 4.7 Dimensional Transformation"
   ]
  },
  {
   "cell_type": "markdown",
   "metadata": {},
   "source": [
    "### reshape"
   ]
  },
  {
   "cell_type": "code",
   "execution_count": 67,
   "metadata": {},
   "outputs": [],
   "source": [
    "x=tf.range(96)\n",
    "x=tf.reshape(x, [2,4,4,3])"
   ]
  },
  {
   "cell_type": "code",
   "execution_count": 68,
   "metadata": {},
   "outputs": [
    {
     "data": {
      "text/plain": [
       "(4, TensorShape([2, 4, 4, 3]))"
      ]
     },
     "execution_count": 68,
     "metadata": {},
     "output_type": "execute_result"
    }
   ],
   "source": [
    "x.ndim, x.shape"
   ]
  },
  {
   "cell_type": "code",
   "execution_count": 69,
   "metadata": {},
   "outputs": [
    {
     "data": {
      "text/plain": [
       "<tf.Tensor: shape=(2, 48), dtype=int32, numpy=\n",
       "array([[ 0,  1,  2,  3,  4,  5,  6,  7,  8,  9, 10, 11, 12, 13, 14, 15,\n",
       "        16, 17, 18, 19, 20, 21, 22, 23, 24, 25, 26, 27, 28, 29, 30, 31,\n",
       "        32, 33, 34, 35, 36, 37, 38, 39, 40, 41, 42, 43, 44, 45, 46, 47],\n",
       "       [48, 49, 50, 51, 52, 53, 54, 55, 56, 57, 58, 59, 60, 61, 62, 63,\n",
       "        64, 65, 66, 67, 68, 69, 70, 71, 72, 73, 74, 75, 76, 77, 78, 79,\n",
       "        80, 81, 82, 83, 84, 85, 86, 87, 88, 89, 90, 91, 92, 93, 94, 95]])>"
      ]
     },
     "execution_count": 69,
     "metadata": {},
     "output_type": "execute_result"
    }
   ],
   "source": [
    "tf.reshape(x, [2, -1])"
   ]
  },
  {
   "cell_type": "code",
   "execution_count": 70,
   "metadata": {},
   "outputs": [
    {
     "data": {
      "text/plain": [
       "<tf.Tensor: shape=(2, 4, 12), dtype=int32, numpy=\n",
       "array([[[ 0,  1,  2,  3,  4,  5,  6,  7,  8,  9, 10, 11],\n",
       "        [12, 13, 14, 15, 16, 17, 18, 19, 20, 21, 22, 23],\n",
       "        [24, 25, 26, 27, 28, 29, 30, 31, 32, 33, 34, 35],\n",
       "        [36, 37, 38, 39, 40, 41, 42, 43, 44, 45, 46, 47]],\n",
       "\n",
       "       [[48, 49, 50, 51, 52, 53, 54, 55, 56, 57, 58, 59],\n",
       "        [60, 61, 62, 63, 64, 65, 66, 67, 68, 69, 70, 71],\n",
       "        [72, 73, 74, 75, 76, 77, 78, 79, 80, 81, 82, 83],\n",
       "        [84, 85, 86, 87, 88, 89, 90, 91, 92, 93, 94, 95]]])>"
      ]
     },
     "execution_count": 70,
     "metadata": {},
     "output_type": "execute_result"
    }
   ],
   "source": [
    "tf.reshape(x, [2,4,12])"
   ]
  },
  {
   "cell_type": "code",
   "execution_count": 71,
   "metadata": {},
   "outputs": [
    {
     "data": {
      "text/plain": [
       "<tf.Tensor: shape=(2, 16, 3), dtype=int32, numpy=\n",
       "array([[[ 0,  1,  2],\n",
       "        [ 3,  4,  5],\n",
       "        [ 6,  7,  8],\n",
       "        [ 9, 10, 11],\n",
       "        [12, 13, 14],\n",
       "        [15, 16, 17],\n",
       "        [18, 19, 20],\n",
       "        [21, 22, 23],\n",
       "        [24, 25, 26],\n",
       "        [27, 28, 29],\n",
       "        [30, 31, 32],\n",
       "        [33, 34, 35],\n",
       "        [36, 37, 38],\n",
       "        [39, 40, 41],\n",
       "        [42, 43, 44],\n",
       "        [45, 46, 47]],\n",
       "\n",
       "       [[48, 49, 50],\n",
       "        [51, 52, 53],\n",
       "        [54, 55, 56],\n",
       "        [57, 58, 59],\n",
       "        [60, 61, 62],\n",
       "        [63, 64, 65],\n",
       "        [66, 67, 68],\n",
       "        [69, 70, 71],\n",
       "        [72, 73, 74],\n",
       "        [75, 76, 77],\n",
       "        [78, 79, 80],\n",
       "        [81, 82, 83],\n",
       "        [84, 85, 86],\n",
       "        [87, 88, 89],\n",
       "        [90, 91, 92],\n",
       "        [93, 94, 95]]])>"
      ]
     },
     "execution_count": 71,
     "metadata": {},
     "output_type": "execute_result"
    }
   ],
   "source": [
    "tf.reshape(x, [2,-1,3])"
   ]
  },
  {
   "attachments": {},
   "cell_type": "markdown",
   "metadata": {},
   "source": [
    "### add and delete dimensions"
   ]
  },
  {
   "cell_type": "code",
   "execution_count": 72,
   "metadata": {},
   "outputs": [],
   "source": [
    "x=tf.random.uniform([28,28], maxval=10, dtype=tf.int32)"
   ]
  },
  {
   "cell_type": "code",
   "execution_count": 73,
   "metadata": {},
   "outputs": [
    {
     "data": {
      "text/plain": [
       "TensorShape([28, 28, 1])"
      ]
     },
     "execution_count": 73,
     "metadata": {},
     "output_type": "execute_result"
    }
   ],
   "source": [
    "# add a dimension\n",
    "x=tf.expand_dims(x, axis=2)\n",
    "x.shape"
   ]
  },
  {
   "cell_type": "code",
   "execution_count": 74,
   "metadata": {},
   "outputs": [
    {
     "ename": "InvalidArgumentError",
     "evalue": "{{function_node __wrapped__Squeeze_device_/job:localhost/replica:0/task:0/device:CPU:0}} Can not squeeze dim[0], expected a dimension of 1, got 28 [Op:Squeeze]",
     "output_type": "error",
     "traceback": [
      "\u001b[1;31m---------------------------------------------------------------------------\u001b[0m",
      "\u001b[1;31mInvalidArgumentError\u001b[0m                      Traceback (most recent call last)",
      "Cell \u001b[1;32mIn[74], line 2\u001b[0m\n\u001b[0;32m      1\u001b[0m \u001b[39m# delete a dimension\u001b[39;00m\n\u001b[1;32m----> 2\u001b[0m x\u001b[39m=\u001b[39mtf\u001b[39m.\u001b[39;49msqueeze(x, axis\u001b[39m=\u001b[39;49m\u001b[39m0\u001b[39;49m)\n\u001b[0;32m      3\u001b[0m x\u001b[39m.\u001b[39mshape\n",
      "File \u001b[1;32mc:\\Users\\ADITHYA\\AppData\\Local\\Programs\\Python\\Python38\\lib\\site-packages\\tensorflow\\python\\util\\traceback_utils.py:153\u001b[0m, in \u001b[0;36mfilter_traceback.<locals>.error_handler\u001b[1;34m(*args, **kwargs)\u001b[0m\n\u001b[0;32m    151\u001b[0m \u001b[39mexcept\u001b[39;00m \u001b[39mException\u001b[39;00m \u001b[39mas\u001b[39;00m e:\n\u001b[0;32m    152\u001b[0m   filtered_tb \u001b[39m=\u001b[39m _process_traceback_frames(e\u001b[39m.\u001b[39m__traceback__)\n\u001b[1;32m--> 153\u001b[0m   \u001b[39mraise\u001b[39;00m e\u001b[39m.\u001b[39mwith_traceback(filtered_tb) \u001b[39mfrom\u001b[39;00m \u001b[39mNone\u001b[39m\n\u001b[0;32m    154\u001b[0m \u001b[39mfinally\u001b[39;00m:\n\u001b[0;32m    155\u001b[0m   \u001b[39mdel\u001b[39;00m filtered_tb\n",
      "File \u001b[1;32mc:\\Users\\ADITHYA\\AppData\\Local\\Programs\\Python\\Python38\\lib\\site-packages\\tensorflow\\python\\framework\\ops.py:7215\u001b[0m, in \u001b[0;36mraise_from_not_ok_status\u001b[1;34m(e, name)\u001b[0m\n\u001b[0;32m   7213\u001b[0m \u001b[39mdef\u001b[39;00m \u001b[39mraise_from_not_ok_status\u001b[39m(e, name):\n\u001b[0;32m   7214\u001b[0m   e\u001b[39m.\u001b[39mmessage \u001b[39m+\u001b[39m\u001b[39m=\u001b[39m (\u001b[39m\"\u001b[39m\u001b[39m name: \u001b[39m\u001b[39m\"\u001b[39m \u001b[39m+\u001b[39m name \u001b[39mif\u001b[39;00m name \u001b[39mis\u001b[39;00m \u001b[39mnot\u001b[39;00m \u001b[39mNone\u001b[39;00m \u001b[39melse\u001b[39;00m \u001b[39m\"\u001b[39m\u001b[39m\"\u001b[39m)\n\u001b[1;32m-> 7215\u001b[0m   \u001b[39mraise\u001b[39;00m core\u001b[39m.\u001b[39m_status_to_exception(e) \u001b[39mfrom\u001b[39;00m \u001b[39mNone\u001b[39m\n",
      "\u001b[1;31mInvalidArgumentError\u001b[0m: {{function_node __wrapped__Squeeze_device_/job:localhost/replica:0/task:0/device:CPU:0}} Can not squeeze dim[0], expected a dimension of 1, got 28 [Op:Squeeze]"
     ]
    }
   ],
   "source": [
    "# delete a dimension\n",
    "x=tf.squeeze(x, axis=0)\n",
    "x.shape"
   ]
  },
  {
   "attachments": {},
   "cell_type": "markdown",
   "metadata": {},
   "source": [
    "### swap dimensions"
   ]
  },
  {
   "cell_type": "code",
   "execution_count": null,
   "metadata": {},
   "outputs": [
    {
     "data": {
      "text/plain": [
       "<tf.Tensor: shape=(2, 3, 32, 32), dtype=float32, numpy=\n",
       "array([[[[-0.2066592 , -1.9948028 , -1.6533355 , ...,  0.03506935,\n",
       "          -0.8045163 ,  1.7649963 ],\n",
       "         [ 0.5476098 ,  0.6375924 ,  0.8544052 , ...,  1.0449253 ,\n",
       "           1.131757  , -0.35103282],\n",
       "         [-1.8061236 , -0.4051418 , -1.3275394 , ..., -0.29793113,\n",
       "           1.1813452 , -0.18783697],\n",
       "         ...,\n",
       "         [ 0.18666494,  1.0541536 , -0.4652478 , ..., -0.00765035,\n",
       "          -1.0909177 ,  1.3320845 ],\n",
       "         [-0.88780403,  0.20352548,  0.33374485, ..., -0.14254776,\n",
       "           1.3699355 , -0.14453092],\n",
       "         [ 0.6474376 , -1.3542987 ,  0.6150004 , ..., -2.3301485 ,\n",
       "           1.2304754 ,  1.6291121 ]],\n",
       "\n",
       "        [[ 1.3444331 , -1.2868941 ,  1.3808458 , ..., -0.6470172 ,\n",
       "           0.4042288 ,  1.9391773 ],\n",
       "         [-0.9625971 ,  0.3439643 , -1.0730999 , ..., -0.8090034 ,\n",
       "           2.9345982 ,  0.12612216],\n",
       "         [ 0.73013955,  0.5493938 , -0.35010666, ..., -0.3745485 ,\n",
       "          -2.0902624 ,  0.22811872],\n",
       "         ...,\n",
       "         [ 1.3093873 , -0.02869305,  1.4270012 , ...,  0.81458306,\n",
       "          -0.17673157, -0.6624899 ],\n",
       "         [ 0.6663866 ,  2.7310007 , -0.59267807, ..., -2.0391338 ,\n",
       "          -2.3097475 , -2.3277133 ],\n",
       "         [-0.34458816, -2.1698153 ,  0.05221735, ...,  0.8255153 ,\n",
       "          -0.11529866, -0.7362046 ]],\n",
       "\n",
       "        [[ 0.76308167, -0.91486007, -0.2120859 , ...,  1.2366519 ,\n",
       "          -1.4404156 ,  0.9303426 ],\n",
       "         [ 0.9446352 , -0.15703854,  0.5431916 , ...,  0.9825909 ,\n",
       "           0.43187174, -0.48878446],\n",
       "         [ 0.77061933,  0.19283646, -0.84507257, ...,  0.5650443 ,\n",
       "          -0.7905228 , -0.312293  ],\n",
       "         ...,\n",
       "         [ 0.05976611, -1.0446521 ,  0.47935635, ..., -1.4753162 ,\n",
       "          -0.10122111,  0.20332943],\n",
       "         [ 0.54403377,  1.5016638 ,  0.48706147, ..., -0.14057074,\n",
       "           0.96721905, -0.2005854 ],\n",
       "         [ 0.7036845 ,  1.5234784 ,  0.25142488, ..., -1.0541666 ,\n",
       "           1.6034707 , -0.46490362]]],\n",
       "\n",
       "\n",
       "       [[[ 1.0281355 ,  0.5626164 ,  0.45636648, ..., -0.46952766,\n",
       "           0.23135328,  0.42532277],\n",
       "         [-0.24138759,  0.19530039,  0.715059  , ..., -0.18987238,\n",
       "           1.1490897 ,  1.8063074 ],\n",
       "         [ 0.22887336,  0.3275178 , -0.73007405, ...,  0.70172185,\n",
       "          -0.78123856, -1.432045  ],\n",
       "         ...,\n",
       "         [ 0.563562  ,  1.3211217 ,  0.7444962 , ..., -0.15516432,\n",
       "           0.6534878 , -0.28003073],\n",
       "         [-0.7132457 ,  0.7997936 , -0.35791925, ..., -1.8672998 ,\n",
       "           0.46187785, -0.48332617],\n",
       "         [ 0.41861063, -0.4047138 , -0.9241386 , ..., -1.3718349 ,\n",
       "          -1.0104493 ,  0.9385206 ]],\n",
       "\n",
       "        [[-0.5957735 , -0.25491837, -0.63655525, ...,  0.9501146 ,\n",
       "           0.24163237,  0.7295664 ],\n",
       "         [-1.182976  , -0.1592035 ,  0.07491034, ...,  1.0894679 ,\n",
       "           0.9995213 , -0.6037871 ],\n",
       "         [-0.6138488 , -0.1338726 , -0.1774672 , ..., -0.21244033,\n",
       "           0.6907655 ,  0.6700454 ],\n",
       "         ...,\n",
       "         [-1.0501727 , -0.2829    ,  1.4176843 , ...,  0.7450317 ,\n",
       "           0.61185485,  0.12284236],\n",
       "         [-0.19291544, -1.1745169 , -2.039541  , ..., -0.03132068,\n",
       "          -1.6223018 ,  0.36182234],\n",
       "         [ 0.29364726, -1.7598324 ,  0.70370394, ...,  0.80075413,\n",
       "          -0.10981102,  0.7093046 ]],\n",
       "\n",
       "        [[-0.6378922 ,  0.28277507,  2.0155625 , ...,  0.25592133,\n",
       "          -1.7977575 ,  1.3782185 ],\n",
       "         [-2.489569  ,  0.36656892, -0.13345946, ..., -1.4642569 ,\n",
       "           0.7111557 , -0.35188186],\n",
       "         [ 0.89348084,  0.2854007 ,  0.8726365 , ...,  0.10636563,\n",
       "           1.0319002 , -0.5525597 ],\n",
       "         ...,\n",
       "         [ 0.3431865 , -0.18346457,  1.5944451 , ..., -0.6868108 ,\n",
       "          -0.21419767,  1.0359514 ],\n",
       "         [ 0.2279063 ,  0.7367412 ,  0.3547378 , ..., -0.87840915,\n",
       "          -0.88478786, -0.11908497],\n",
       "         [ 1.3668092 , -0.07823455, -1.5136595 , ...,  0.0060704 ,\n",
       "          -1.4761251 ,  0.0609323 ]]]], dtype=float32)>"
      ]
     },
     "execution_count": 85,
     "metadata": {},
     "output_type": "execute_result"
    }
   ],
   "source": [
    "x=tf.random.normal([2,32,32,3])\n",
    "tf.transpose(x, perm=[0,3,1,2])"
   ]
  },
  {
   "cell_type": "code",
   "execution_count": null,
   "metadata": {},
   "outputs": [
    {
     "data": {
      "text/plain": [
       "<tf.Tensor: shape=(2, 32, 32, 3), dtype=float32, numpy=\n",
       "array([[[[-0.78879726,  1.2270422 ,  0.15671806],\n",
       "         [-0.59903646, -1.0733715 ,  0.14151518],\n",
       "         [ 0.40761456,  0.19953652, -0.4139833 ],\n",
       "         ...,\n",
       "         [ 0.13405108, -0.9782877 , -0.24267668],\n",
       "         [ 0.5205382 ,  1.2587806 ,  0.6288196 ],\n",
       "         [-0.8677747 , -1.3263853 ,  0.5692373 ]],\n",
       "\n",
       "        [[ 0.42354432, -1.7418349 ,  0.23365594],\n",
       "         [-0.7401563 , -1.205178  ,  0.44422674],\n",
       "         [ 0.36892676, -0.02625298, -0.47774485],\n",
       "         ...,\n",
       "         [-0.67943555,  1.1185611 , -1.393845  ],\n",
       "         [-1.2281808 , -0.03027124,  1.8875599 ],\n",
       "         [ 0.45284462, -1.2567141 ,  0.04055081]],\n",
       "\n",
       "        [[-0.50533664, -1.2963165 , -2.044693  ],\n",
       "         [-0.02777104, -0.811186  ,  1.0311812 ],\n",
       "         [-0.63553745,  1.1220505 , -0.98142374],\n",
       "         ...,\n",
       "         [ 0.09934144,  1.3773912 , -0.15023373],\n",
       "         [ 1.3735505 , -0.4385295 ,  0.7124639 ],\n",
       "         [-0.14328438,  0.6021567 ,  0.26316285]],\n",
       "\n",
       "        ...,\n",
       "\n",
       "        [[-0.5561851 , -0.44612107,  0.76476455],\n",
       "         [-0.76177543, -0.35860136,  0.22251388],\n",
       "         [-0.07401793, -1.6964356 , -0.14611152],\n",
       "         ...,\n",
       "         [ 0.6174166 ,  1.1367359 ,  1.6278999 ],\n",
       "         [ 0.36407045,  0.7235531 , -0.40147322],\n",
       "         [-0.21013333,  1.1658436 ,  0.9768646 ]],\n",
       "\n",
       "        [[-0.17152175,  2.1294718 , -1.5599947 ],\n",
       "         [-2.3845143 , -0.45577332, -0.49995238],\n",
       "         [-0.3944632 ,  0.25592953, -0.44056538],\n",
       "         ...,\n",
       "         [-1.1039257 , -1.4797114 , -0.7647563 ],\n",
       "         [ 1.257436  , -0.18567988,  0.98603046],\n",
       "         [ 0.4587192 , -2.3060021 ,  0.38180888]],\n",
       "\n",
       "        [[ 0.5376711 ,  1.9379768 , -0.23036912],\n",
       "         [-1.3355322 , -0.99630064, -0.92581636],\n",
       "         [ 0.72913736, -0.8225181 ,  0.04963669],\n",
       "         ...,\n",
       "         [-0.18954186,  0.35233516, -0.8933075 ],\n",
       "         [ 0.30164337, -1.362915  , -1.1200335 ],\n",
       "         [-1.4470984 , -0.01614253, -0.5629072 ]]],\n",
       "\n",
       "\n",
       "       [[[ 1.9966741 , -0.86504054,  0.6850565 ],\n",
       "         [-0.07991344, -1.3347892 , -0.31294566],\n",
       "         [ 0.7460145 ,  0.9234594 ,  1.4904859 ],\n",
       "         ...,\n",
       "         [-0.45386022,  0.43056855, -0.53534234],\n",
       "         [ 0.5157093 , -0.47606227, -1.1121845 ],\n",
       "         [ 1.9369802 , -0.2934654 , -0.9098407 ]],\n",
       "\n",
       "        [[ 0.27776062, -1.003553  ,  0.50120574],\n",
       "         [ 1.0866638 ,  0.5557446 , -1.8661021 ],\n",
       "         [ 1.87247   , -1.9112774 ,  0.25474823],\n",
       "         ...,\n",
       "         [-0.06601566,  0.44134152, -0.2002137 ],\n",
       "         [ 1.4064115 ,  0.06458769, -0.13660866],\n",
       "         [-0.9536083 , -0.629927  ,  1.619503  ]],\n",
       "\n",
       "        [[ 0.02432001, -0.95102924, -0.84633845],\n",
       "         [ 0.41927248,  0.6184649 ,  1.6785386 ],\n",
       "         [-1.2607845 , -0.07332112, -0.2702561 ],\n",
       "         ...,\n",
       "         [-0.19426931,  0.20708244,  2.6816032 ],\n",
       "         [-0.93899983, -1.1494086 , -1.2473637 ],\n",
       "         [ 0.15530343,  0.59486663, -0.51627666]],\n",
       "\n",
       "        ...,\n",
       "\n",
       "        [[-0.46360368,  0.14853656,  2.2734923 ],\n",
       "         [ 1.3219919 , -0.6661384 , -1.234283  ],\n",
       "         [ 1.0170124 ,  1.0548525 , -0.6271202 ],\n",
       "         ...,\n",
       "         [ 1.9544516 , -0.5338877 ,  0.11884182],\n",
       "         [ 1.0788312 , -0.1669435 , -0.35943055],\n",
       "         [-0.15611444, -0.6680082 ,  0.9436996 ]],\n",
       "\n",
       "        [[ 0.04661116,  0.24779443, -1.5888686 ],\n",
       "         [-0.92326444,  0.55730027, -1.7120255 ],\n",
       "         [-1.1435082 ,  0.84296733, -0.993064  ],\n",
       "         ...,\n",
       "         [ 0.88698083,  0.32231575,  1.7311358 ],\n",
       "         [ 0.89411676,  0.08706818, -0.9720983 ],\n",
       "         [ 0.6911113 , -0.4498376 ,  0.607629  ]],\n",
       "\n",
       "        [[ 1.011659  , -0.6025514 , -0.17431052],\n",
       "         [ 0.40389955, -0.31853783,  0.8628455 ],\n",
       "         [ 1.3034934 ,  0.54169106, -1.263121  ],\n",
       "         ...,\n",
       "         [ 1.0211627 ,  1.2712561 ,  1.7733222 ],\n",
       "         [-0.4042268 , -1.3296872 ,  0.31188864],\n",
       "         [-1.6142895 ,  0.23403762, -0.36469117]]]], dtype=float32)>"
      ]
     },
     "execution_count": 86,
     "metadata": {},
     "output_type": "execute_result"
    }
   ],
   "source": [
    "x=tf.random.normal([2,32,32,3])\n",
    "tf.transpose(x, perm=[0,2,1,3])"
   ]
  },
  {
   "attachments": {},
   "cell_type": "markdown",
   "metadata": {},
   "source": [
    "### copy data"
   ]
  },
  {
   "cell_type": "code",
   "execution_count": null,
   "metadata": {},
   "outputs": [
    {
     "data": {
      "text/plain": [
       "<tf.Tensor: shape=(1, 2), dtype=int32, numpy=array([[1, 2]])>"
      ]
     },
     "execution_count": 87,
     "metadata": {},
     "output_type": "execute_result"
    }
   ],
   "source": [
    "b=tf.constant([1,2])\n",
    "b=tf.expand_dims(b, axis=0)\n",
    "b"
   ]
  },
  {
   "cell_type": "code",
   "execution_count": null,
   "metadata": {},
   "outputs": [
    {
     "data": {
      "text/plain": [
       "<tf.Tensor: shape=(4, 2), dtype=int32, numpy=\n",
       "array([[1, 2],\n",
       "       [1, 2],\n",
       "       [1, 2],\n",
       "       [1, 2]])>"
      ]
     },
     "execution_count": 90,
     "metadata": {},
     "output_type": "execute_result"
    }
   ],
   "source": [
    "b=tf.tile(b, multiples=[2,1])\n",
    "b"
   ]
  },
  {
   "cell_type": "code",
   "execution_count": null,
   "metadata": {},
   "outputs": [
    {
     "data": {
      "text/plain": [
       "<tf.Tensor: shape=(2, 2), dtype=int32, numpy=\n",
       "array([[0, 1],\n",
       "       [2, 3]])>"
      ]
     },
     "execution_count": 91,
     "metadata": {},
     "output_type": "execute_result"
    }
   ],
   "source": [
    "x=tf.range(4)\n",
    "x=tf.reshape(x, [2,2])\n",
    "x"
   ]
  },
  {
   "cell_type": "code",
   "execution_count": null,
   "metadata": {},
   "outputs": [
    {
     "data": {
      "text/plain": [
       "<tf.Tensor: shape=(2, 4), dtype=int32, numpy=\n",
       "array([[0, 1, 0, 1],\n",
       "       [2, 3, 2, 3]])>"
      ]
     },
     "execution_count": 92,
     "metadata": {},
     "output_type": "execute_result"
    }
   ],
   "source": [
    "x=tf.tile(x, multiples=[1,2])\n",
    "x"
   ]
  },
  {
   "cell_type": "code",
   "execution_count": null,
   "metadata": {},
   "outputs": [
    {
     "data": {
      "text/plain": [
       "<tf.Tensor: shape=(4, 4), dtype=int32, numpy=\n",
       "array([[0, 1, 0, 1],\n",
       "       [2, 3, 2, 3],\n",
       "       [0, 1, 0, 1],\n",
       "       [2, 3, 2, 3]])>"
      ]
     },
     "execution_count": 93,
     "metadata": {},
     "output_type": "execute_result"
    }
   ],
   "source": [
    "x=tf.tile(x, multiples=[2,1])\n",
    "x"
   ]
  }
 ],
 "metadata": {
  "kernelspec": {
   "display_name": "Python 3",
   "language": "python",
   "name": "python3"
  },
  "language_info": {
   "codemirror_mode": {
    "name": "ipython",
    "version": 3
   },
   "file_extension": ".py",
   "mimetype": "text/x-python",
   "name": "python",
   "nbconvert_exporter": "python",
   "pygments_lexer": "ipython3",
   "version": "3.8.0"
  },
  "orig_nbformat": 4,
  "vscode": {
   "interpreter": {
    "hash": "46a5e820fae5c01f8ab8f3b920045ce887673a37bd422c73202f4e116d9bb3c0"
   }
  }
 },
 "nbformat": 4,
 "nbformat_minor": 2
}
