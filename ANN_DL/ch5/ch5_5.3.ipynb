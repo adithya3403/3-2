{
 "cells": [
  {
   "cell_type": "code",
   "execution_count": 1,
   "metadata": {},
   "outputs": [
    {
     "data": {
      "text/plain": [
       "'2.11.0'"
      ]
     },
     "execution_count": 1,
     "metadata": {},
     "output_type": "execute_result"
    }
   ],
   "source": [
    "import tensorflow as tf\n",
    "tf.__version__"
   ]
  },
  {
   "attachments": {},
   "cell_type": "markdown",
   "metadata": {},
   "source": [
    "# Tensor Comparison"
   ]
  },
  {
   "cell_type": "code",
   "execution_count": 3,
   "metadata": {},
   "outputs": [
    {
     "data": {
      "text/plain": [
       "<tf.Tensor: shape=(100,), dtype=int64, numpy=\n",
       "array([2, 2, 2, 1, 9, 4, 0, 9, 7, 3, 1, 8, 6, 1, 2, 4, 6, 5, 1, 6, 1, 4,\n",
       "       0, 0, 5, 4, 5, 8, 6, 6, 7, 6, 8, 7, 9, 8, 1, 5, 5, 2, 4, 8, 3, 5,\n",
       "       3, 2, 3, 8, 2, 3, 2, 0, 5, 7, 4, 7, 5, 5, 1, 5, 8, 9, 7, 0, 0, 9,\n",
       "       0, 0, 3, 5, 4, 2, 0, 6, 8, 6, 9, 7, 8, 8, 5, 0, 7, 6, 8, 7, 5, 6,\n",
       "       8, 2, 6, 9, 7, 1, 9, 7, 8, 2, 3, 0], dtype=int64)>"
      ]
     },
     "execution_count": 3,
     "metadata": {},
     "output_type": "execute_result"
    }
   ],
   "source": [
    "out=tf.random.normal([100,10])\n",
    "out=tf.nn.softmax(out, axis=1)\n",
    "pred=tf.argmax(out, axis=1)\n",
    "pred"
   ]
  },
  {
   "cell_type": "code",
   "execution_count": 4,
   "metadata": {},
   "outputs": [
    {
     "data": {
      "text/plain": [
       "<tf.Tensor: shape=(100,), dtype=int64, numpy=\n",
       "array([8, 0, 5, 6, 8, 5, 3, 0, 3, 9, 9, 0, 0, 8, 9, 7, 2, 6, 3, 0, 8, 5,\n",
       "       8, 5, 4, 8, 1, 6, 9, 0, 2, 7, 3, 4, 5, 3, 1, 0, 4, 7, 0, 9, 3, 2,\n",
       "       9, 4, 4, 8, 0, 2, 0, 4, 9, 2, 3, 5, 5, 1, 2, 0, 7, 1, 5, 1, 0, 3,\n",
       "       9, 5, 5, 6, 7, 4, 3, 2, 8, 1, 7, 6, 8, 6, 4, 0, 2, 8, 2, 2, 0, 1,\n",
       "       5, 0, 6, 7, 6, 7, 6, 9, 9, 2, 2, 6], dtype=int64)>"
      ]
     },
     "execution_count": 4,
     "metadata": {},
     "output_type": "execute_result"
    }
   ],
   "source": [
    "y = tf.random.uniform([100],dtype=tf.int64,maxval=10)\n",
    "y"
   ]
  },
  {
   "cell_type": "code",
   "execution_count": 5,
   "metadata": {},
   "outputs": [
    {
     "data": {
      "text/plain": [
       "<tf.Tensor: shape=(100,), dtype=bool, numpy=\n",
       "array([False, False, False, False, False, False, False, False, False,\n",
       "       False, False, False, False, False, False, False, False, False,\n",
       "       False, False, False, False, False, False, False, False, False,\n",
       "       False, False, False, False, False, False, False, False, False,\n",
       "        True, False, False, False, False, False,  True, False, False,\n",
       "       False, False,  True, False, False, False, False, False, False,\n",
       "       False, False,  True, False, False, False, False, False, False,\n",
       "       False,  True, False, False, False, False, False, False, False,\n",
       "       False, False,  True, False, False, False,  True, False, False,\n",
       "        True, False, False, False, False, False, False, False, False,\n",
       "        True, False, False, False, False, False, False,  True, False,\n",
       "       False])>"
      ]
     },
     "execution_count": 5,
     "metadata": {},
     "output_type": "execute_result"
    }
   ],
   "source": [
    "out = tf.equal(pred,y)\n",
    "out"
   ]
  },
  {
   "cell_type": "code",
   "execution_count": 84,
   "metadata": {},
   "outputs": [
    {
     "data": {
      "text/plain": [
       "<tf.Tensor: shape=(), dtype=float32, numpy=13.489828>"
      ]
     },
     "execution_count": 84,
     "metadata": {},
     "output_type": "execute_result"
    }
   ],
   "source": [
    "out=tf.random.normal([100,10])\n",
    "out = tf.cast(out, dtype=tf.float32) # convert to int type\n",
    "correct = tf.reduce_sum(out)\n",
    "correct"
   ]
  },
  {
   "attachments": {},
   "cell_type": "markdown",
   "metadata": {},
   "source": [
    "## Common comparison functions"
   ]
  },
  {
   "attachments": {},
   "cell_type": "markdown",
   "metadata": {},
   "source": [
    "### tf.math.greater"
   ]
  },
  {
   "cell_type": "code",
   "execution_count": 28,
   "metadata": {},
   "outputs": [],
   "source": [
    "a = tf.constant([7, 8, 13, 11], dtype = tf.float64)\n",
    "b = tf.constant([2, 13, 14, 5],  dtype = tf.float64)"
   ]
  },
  {
   "cell_type": "code",
   "execution_count": 36,
   "metadata": {},
   "outputs": [
    {
     "data": {
      "text/plain": [
       "<tf.Tensor: shape=(), dtype=bool, numpy=True>"
      ]
     },
     "execution_count": 36,
     "metadata": {},
     "output_type": "execute_result"
    }
   ],
   "source": [
    "tf.math.greater(x=a, y=b)[0]"
   ]
  },
  {
   "cell_type": "code",
   "execution_count": 39,
   "metadata": {},
   "outputs": [
    {
     "data": {
      "text/plain": [
       "<tf.Tensor: shape=(4,), dtype=bool, numpy=array([False, False,  True,  True])>"
      ]
     },
     "execution_count": 39,
     "metadata": {},
     "output_type": "execute_result"
    }
   ],
   "source": [
    "b=(9)\n",
    "tf.math.greater(x=a, y=b)"
   ]
  }
 ],
 "metadata": {
  "kernelspec": {
   "display_name": "drone",
   "language": "python",
   "name": "python3"
  },
  "language_info": {
   "codemirror_mode": {
    "name": "ipython",
    "version": 3
   },
   "file_extension": ".py",
   "mimetype": "text/x-python",
   "name": "python",
   "nbconvert_exporter": "python",
   "pygments_lexer": "ipython3",
   "version": "3.7.15"
  },
  "orig_nbformat": 4,
  "vscode": {
   "interpreter": {
    "hash": "6a5629916d34db7ea7e7bb4cdb17cc9c81456c39c968d06adf4570f647055a28"
   }
  }
 },
 "nbformat": 4,
 "nbformat_minor": 2
}
